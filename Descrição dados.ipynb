{
 "cells": [
  {
   "cell_type": "code",
   "execution_count": 24,
   "metadata": {},
   "outputs": [],
   "source": [
    "import pandas as pd\n",
    "import numpy as np\n",
    "import seaborn as sns\n",
    "import matplotlib.pyplot as plt"
   ]
  },
  {
   "cell_type": "code",
   "execution_count": 25,
   "metadata": {},
   "outputs": [],
   "source": [
    "def nome_cols(df):\n",
    "    df.rename(columns = {\"nu_anoing_aln\":\"Periodo Vest\",\n",
    "                     \"nu_matric_aln\":\"Matricula\",\n",
    "                     \"nu_cpf_aln\":\"CPF\",\n",
    "                     \"cd_sexo_sex\":\"Sexo\",\n",
    "                     \"nm_nacional_pai\":\"Nacionalidade\",\n",
    "                     \"Naturalidade\":\"Naturalidade Pai\",\n",
    "                     \"cd_unifed_ufe\":\"Estado\",\n",
    "                     \"cd_curso_cur\":\"Curso\",\n",
    "                     \"cd_centro_cen\":\"Centro\",\n",
    "                     \"dc_turno_tur\":\"Turno\",\n",
    "                     \"nu_vestpontost_aln\" :\"Pontos Vest\",\n",
    "                     \"nu_anoIngressoVest_aln\":\"Ano Vest\",\n",
    "                     \"nu_anosg_aln\":\"Ano Form Colegio\",\n",
    "                     \"nm_escolasg_aln\":\"Colegio EM\",\n",
    "                     \"EnsinoMedio\":\"Cidade EM\",\n",
    "                     \"cd_unifed_ufe.1\":\"Estado EM\",\n",
    "                     \"Dt.Nascto\":\"Data Nasc\",\n",
    "                     \"IdadeVestibular\":\"Idade Vest\",\n",
    "                     \"dc_raca_rac\":\"Etnia\",\n",
    "                     \"dc_ingresso_ing\":\"Forma de Ingresso\",\n",
    "                     \"fl_professorEad_aln\":\"Ead\",\n",
    "                     \"dc_categoriaEad_cae\":\"Categoria de Ingresso\",\n",
    "                     \"nu_semestremax_cha\":\"SemestreMax\",\n",
    "                     \"nu_sem_hst\":\"Semestre Historico\",\n",
    "                     \"cd_disciplina_dis\":\"Disciplina\",\n",
    "                     \"nu_nota_tpn\":'Nota',\n",
    "                     \"nu_ha_hst\":\"Horas Aula\",\n",
    "                     \"cd_frequencia_frq\":\"Frequencia\",\n",
    "                     \"cd_tipodiscurriculo_tdc\":\"TipoCurriculo\",\n",
    "                     \"cd_revalida_rev\":\"Revalida\",\n",
    "                     \"cd_turma_hst\":\"Turma\",\n",
    "                     \"nu_matric_pss\":\"Matricula Professor\",\n",
    "                     \"nu_SIAPE_pss\":\"SIAPE Professor\",\n",
    "                     \"nm_funcionario_pss\":\"Nome Professor\",\n",
    "                     \"cd_situacao_sta\":\"Situacao Aluno num\",\n",
    "                     \"dc_situacao_sta\":\"Situacao Aluno\",\n",
    "                     \"cd_categoriaEad_cae\":\"Ead cae\",\n",
    "                     \"fl_professorEad_aln.1\":\"Professor Ead\",\n",
    "                     \"nm_curso_cur\":\"Nome Curso\"},\n",
    "          inplace=True)"
   ]
  },
  {
   "cell_type": "code",
   "execution_count": 26,
   "metadata": {},
   "outputs": [],
   "source": [
    "df_ini_1 = pd.read_csv(\"Dados CTC (2ª leva) - 2000-2005.csv\",low_memory=False)\n",
    "df_ini_2 = pd.read_csv(\"Dados CTC (2ª leva) - 2006-2010.csv\",low_memory=False)\n",
    "df_ini_3 = pd.read_csv(\"Dados CTC (2ª leva) - 2011-2015.csv\",low_memory=False)\n",
    "df_ini_4 = pd.read_csv(\"Dados CTC (2ª leva) - 2016-2019.csv\",low_memory=False)\n",
    "\n",
    "#Juntar dfs\n",
    "nome_cols(df_ini_1)\n",
    "nome_cols(df_ini_2)\n",
    "nome_cols(df_ini_3)\n",
    "nome_cols(df_ini_4)\n",
    "\n",
    "df = pd.concat([df_ini_1,df_ini_2,df_ini_3,df_ini_4])"
   ]
  },
  {
   "cell_type": "code",
   "execution_count": 27,
   "metadata": {},
   "outputs": [],
   "source": [
    "#Linhas repetidas\n",
    "df.drop_duplicates(subset=['Matricula','Semestre Historico','Disciplina'],inplace=True)\n",
    "\n",
    "df = df[df['Revalida'].isna()]\n",
    "\n",
    "df = df[df['Horas Aula']!=0]\n",
    "df = df[~df['Disciplina'].str.contains('ZZ')]\n",
    "lis = ['TRA0000','GCN7999','GCN7999','EFC5570','EPS5247','INE5462','ECV5724','INE5463','CMA6413','ECV5706','INE5674',\n",
    "       'INE5676','INE5462','ENS5504','EEL7700','EEL7703','EEL7800','ENS5503','ECV5723','EEL7701','EQA5803','EEL7702',\n",
    "       'ARQ5708','EEL7704','INE5461','INE5678','ARQ5703','ARQ5704','ARQ5709','EQA5802','INE5671','INE5672','ECV5721',\n",
    "       'ECV5722','ARQ5702','ARQ5706','EQA5801']\n",
    "for i in lis:\n",
    "    df = df[df['Disciplina'] != i]\n",
    "\n",
    "x = df.groupby('Matricula')['Matricula'].count().to_frame()\n",
    "x.rename(columns={'Matricula':'Materias'},inplace=True)\n",
    "x = x[x['Materias'] <= 3]\n",
    "lis = x.reset_index()['Matricula'].unique()\n",
    "\n",
    "df = df[~df['Matricula'].isin(lis)]\n",
    "\n",
    "df['Sexo'] = df['Sexo'].apply(lambda x: \"M\" if x == 'm' else x)\n",
    "df['Sexo'] = df['Sexo'].apply(lambda x: \"F\" if x == 'f' else x)\n",
    "\n",
    "df['Situacao Aluno'] = df['Situacao Aluno'].apply(lambda x: \"formado\" if x == 'concluinte' else x)\n",
    "df['Situacao Aluno'] = df['Situacao Aluno'].apply(lambda x: \"abandono\" if x == 'desistência' else x)\n",
    "df['Situacao Aluno'] = df['Situacao Aluno'].apply(lambda x: \"abandono\" if x == 'jubilado' else x)\n",
    "df['Situacao Aluno'] = df['Situacao Aluno'].apply(lambda x: \"abandono\" if x == 'eliminado/cancelado' else x)\n",
    "df['Situacao Aluno'] = df['Situacao Aluno'].apply(lambda x: \"abandono\" if x == 'falecido' else x)\n",
    "df['Situacao Aluno'] = df['Situacao Aluno'].apply(lambda x: \"abandono\" if x == 'transferido' else x)\n",
    "df['Situacao Aluno'] = df['Situacao Aluno'].apply(lambda x: \"abandono\" if x == 'troca de curso' else x)\n",
    "df['Situacao Aluno'] = df['Situacao Aluno'].apply(lambda x: \"regular\" if x == 'classificado vestibular' else x)\n",
    "df['Situacao Aluno'] = df['Situacao Aluno'].apply(lambda x: \"regular\" if x == 'trancado' else x)\n",
    "\n",
    "df['TipoCurriculo'] = df['TipoCurriculo'].apply(lambda x:'Ob' if x == 'ob' else x )\n",
    "df['TipoCurriculo'] = df['TipoCurriculo'].apply(lambda x:'Ex' if x == 'EX' else x )\n",
    "df['TipoCurriculo'] = df['TipoCurriculo'].apply(lambda x:'Ex' if x == 'Es' else x )\n",
    "df['TipoCurriculo'] = df['TipoCurriculo'].apply(lambda x:'Op' if x == 'op' else x )\n",
    "df['TipoCurriculo'] = df['TipoCurriculo'].apply(lambda x:'Ob' if x == ' ' else x )\n",
    "\n",
    "df = df[df['TipoCurriculo'] != 'Ex']"
   ]
  },
  {
   "cell_type": "code",
   "execution_count": 28,
   "metadata": {},
   "outputs": [],
   "source": [
    "#Repeticao de materia\n",
    "df['Aprovado'] = df['Nota']\n",
    "df['Aprovado'] = df['Aprovado'].apply(lambda x: 1 if x > 5.75 else 0)\n",
    "df['vez'] = df.groupby(['Matricula', 'Disciplina'])['Semestre Historico'].cumcount()\n",
    "\n",
    "#Agrupamento dentro de coluna\n",
    "def Grupo(df,col,nome_grupo,lista):\n",
    "    for i in lista:\n",
    "        df[col] = df[col].apply(lambda x: nome_grupo if x == i else x)\n",
    "        \n",
    "#Regiao\n",
    "Grupo(df,'Estado EM','SU',['SC','RS','PR'])\n",
    "Grupo(df,'Estado EM','NE',['MA','PI','BA','PE','CE','RN','AL','SE','PB'])\n",
    "Grupo(df,'Estado EM','SE',['SP','RJ','MG','ES'])\n",
    "Grupo(df,'Estado EM','CO',['MT','MS','GO','DF'])\n",
    "Grupo(df,'Estado EM','NO',['AM','AC','AP','PA','TO','RR','RO'])\n",
    "\n",
    "#Idade\n",
    "#df['Idade Vest'] = df['Idade Vest'].apply(lambda x: 31 if x >30 else x)\n",
    "#df['Idade Vest'] = df['Idade Vest'].apply(lambda x: 25 if 22<=x<31 else x)\n",
    "#df['Idade Vest'] = df['Idade Vest'].apply(lambda x: 18 if x<22 else x)\n",
    "\n",
    "#Contagem de Disciplinas\n",
    "m = df.groupby(['Matricula','Semestre Historico'])['Disciplina'].count().rename('Cont Disc')\n",
    "df = df.set_index(['Matricula','Semestre Historico']).join(m).reset_index()\n",
    "\n",
    "#Contagem de Matriculas\n",
    "#m = df.groupby(['CPF'])['Matricula'].count().rename('Cont Matric')\n",
    "#df = df.set_index(['Matricula']).join(m).reset_index()\n",
    "\n",
    "#x = df.groupby(['Matricula']).agg({'CPF':'first'}).reset_index().dropna()\n",
    "#m = x.groupby(['CPF']).agg({'Matricula':'count'})\n",
    "\n",
    "\n",
    "df.drop(['Ead','Ead cae','Forma de Ingresso','Centro','Nacionalidade',\n",
    "         'Naturalidade Pai','Turno','Colegio EM','Data Nasc','Estado','Cidade EM','Ano Form Colegio',\n",
    "         'SemestreMax','Professor Ead','SIAPE Professor','Nome Professor', 'Situacao Aluno num'],axis=1,inplace=True)\n"
   ]
  },
  {
   "cell_type": "code",
   "execution_count": 29,
   "metadata": {},
   "outputs": [],
   "source": [
    "df['Sexo'] = df['Sexo'].apply(lambda x: \"M\" if x == 'm' else x)\n",
    "df['Sexo'] = df['Sexo'].apply(lambda x: \"F\" if x == 'f' else x)\n",
    "\n",
    "df['Situacao Aluno'] = df['Situacao Aluno'].apply(lambda x: \"formado\" if x == 'concluinte' else x)\n",
    "df['Situacao Aluno'] = df['Situacao Aluno'].apply(lambda x: \"abandono\" if x == 'desistência' else x)\n",
    "df['Situacao Aluno'] = df['Situacao Aluno'].apply(lambda x: \"abandono\" if x == 'jubilado' else x)\n",
    "df['Situacao Aluno'] = df['Situacao Aluno'].apply(lambda x: \"abandono\" if x == 'eliminado/cancelado' else x)\n",
    "df['Situacao Aluno'] = df['Situacao Aluno'].apply(lambda x: \"abandono\" if x == 'falecido' else x)\n",
    "df['Situacao Aluno'] = df['Situacao Aluno'].apply(lambda x: \"abandono\" if x == 'transferido' else x)\n",
    "df['Situacao Aluno'] = df['Situacao Aluno'].apply(lambda x: \"abandono\" if x == 'troca de curso' else x)\n",
    "df['Situacao Aluno'] = df['Situacao Aluno'].apply(lambda x: \"regular\" if x == 'classificado vestibular' else x)\n",
    "df['Situacao Aluno'] = df['Situacao Aluno'].apply(lambda x: \"regular\" if x == 'trancado' else x)\n",
    "\n",
    "df['TipoCurriculo'] = df['TipoCurriculo'].apply(lambda x:'Ob' if x == 'ob' else x )\n",
    "df['TipoCurriculo'] = df['TipoCurriculo'].apply(lambda x:'Ex' if x == 'EX' else x )\n",
    "df['TipoCurriculo'] = df['TipoCurriculo'].apply(lambda x:'Ex' if x == 'Es' else x )\n",
    "df['TipoCurriculo'] = df['TipoCurriculo'].apply(lambda x:'Op' if x == 'op' else x )\n",
    "df['TipoCurriculo'] = df['TipoCurriculo'].apply(lambda x:'Ob' if x == ' ' else x )"
   ]
  },
  {
   "cell_type": "code",
   "execution_count": 30,
   "metadata": {},
   "outputs": [],
   "source": [
    "m1 = pd.DataFrame(columns=df.columns)\n",
    "\n",
    "lis = df['Semestre Historico'].sort_values().unique()\n",
    "\n",
    "for i in range(len(lis[:-1])):\n",
    "    df2 = df[df['Semestre Historico'] <= lis[i]]\n",
    "    \n",
    "    t = df2.sort_values('Semestre Historico').groupby('Disciplina').agg({'Aprovado':'mean','Semestre Historico':'last'})\n",
    "\n",
    "    t.reset_index(inplace=True)\n",
    "    t.rename(columns={\"Aprovado\": \"Aprov Disc\"},inplace=True)\n",
    "    t = t[t['Semestre Historico'] == lis[i]]\n",
    "    t['Semestre Historico'] = lis[i]\n",
    "    t.set_index(['Disciplina','Semestre Historico'],inplace=True)\n",
    "\n",
    "    m1.set_index(['Disciplina','Semestre Historico'],inplace=True)\n",
    "    m1 = pd.concat([m1,t])\n",
    "    m1.reset_index(inplace=True)\n",
    "    \n",
    "m1.set_index(['Disciplina','Semestre Historico'],inplace=True)\n",
    "df.set_index(['Disciplina','Semestre Historico'],inplace=True)\n",
    "m1.drop(['Matricula', 'Periodo Vest', 'CPF',\n",
    "       'Sexo', 'Nome Curso', 'Pontos Vest', 'Ano Vest', 'Idade Vest', 'Etnia','Situacao Aluno',\n",
    "       'Categoria de Ingresso', 'Nota', 'Horas Aula', 'Frequencia','Revalida','Curso','Turma','Estado EM',\n",
    "       'TipoCurriculo', 'Matricula Professor', 'Aprovado', 'vez', 'Cont Disc'],axis=1,inplace=True)\n",
    "\n",
    "df = df.merge(m1,how='left',left_index=True,right_index=True)\n",
    "df.reset_index(inplace=True)"
   ]
  },
  {
   "cell_type": "code",
   "execution_count": 31,
   "metadata": {},
   "outputs": [],
   "source": [
    "m1 = pd.DataFrame(columns=df.columns)\n",
    "\n",
    "lis = df['Semestre Historico'].sort_values().unique()\n",
    "\n",
    "for i in range(len(lis[:-1])):\n",
    "    df2 = df[df['Semestre Historico'] <= lis[i]]\n",
    "    \n",
    "    t = df2.sort_values('Semestre Historico').groupby('Matricula').agg({'Aprovado':'mean','Semestre Historico':'last'})\n",
    "    \n",
    "    t.reset_index(inplace=True)\n",
    "    t.rename(columns={\"Aprovado\": \"Aprov Aluno\"},inplace=True)\n",
    "    t = t[t['Semestre Historico'] == lis[i]]\n",
    "    t['Semestre Historico'] = lis[i]\n",
    "    t.set_index(['Matricula','Semestre Historico'],inplace=True)\n",
    "\n",
    "    m1.set_index(['Matricula','Semestre Historico'],inplace=True)\n",
    "    m1 = pd.concat([m1,t])\n",
    "    m1.reset_index(inplace=True)\n",
    "    \n",
    "m1.set_index(['Matricula','Semestre Historico'],inplace=True)\n",
    "df.set_index(['Matricula','Semestre Historico'],inplace=True)\n",
    "m1.drop(['Disciplina', 'Periodo Vest', 'CPF',\n",
    "       'Sexo', 'Nome Curso', 'Pontos Vest', 'Ano Vest', 'Idade Vest', 'Etnia','Situacao Aluno',\n",
    "       'Categoria de Ingresso', 'Nota', 'Horas Aula', 'Frequencia','Revalida','Curso','Turma','Estado EM',\n",
    "       'TipoCurriculo', 'Matricula Professor', 'Aprovado', 'vez', 'Cont Disc','Aprov Disc'],axis=1,inplace=True)\n",
    "\n",
    "df = df.merge(m1,how='left',left_index=True,right_index=True)\n",
    "df.reset_index(inplace=True)"
   ]
  },
  {
   "cell_type": "code",
   "execution_count": 32,
   "metadata": {},
   "outputs": [],
   "source": [
    "m1 = pd.DataFrame(columns=df.columns)\n",
    "\n",
    "lis = df['Semestre Historico'].sort_values().unique()\n",
    "\n",
    "for i in range(len(lis[:-1])):\n",
    "    df2 = df[df['Semestre Historico'] <= lis[i]]\n",
    "    \n",
    "    t = df2.sort_values('Semestre Historico').groupby(['Matricula Professor','Disciplina']).agg({'Aprovado':'mean','Semestre Historico':'last'})\n",
    "    \n",
    "    t.reset_index(inplace=True)\n",
    "    t.rename(columns={\"Aprovado\": \"Aprov Prof\"},inplace=True)\n",
    "    t = t[t['Semestre Historico'] == lis[i]]\n",
    "    t['Semestre Historico'] = lis[i]   \n",
    "    t.set_index(['Matricula Professor','Disciplina','Semestre Historico'],inplace=True)\n",
    "    \n",
    "\n",
    "\n",
    "    m1.set_index(['Matricula Professor','Disciplina','Semestre Historico'],inplace=True)\n",
    "    m1 = pd.concat([m1,t])\n",
    "    m1.reset_index(inplace=True)\n",
    "    \n",
    "m1.set_index(['Matricula Professor','Disciplina','Semestre Historico'],inplace=True)\n",
    "df.set_index(['Matricula Professor','Disciplina','Semestre Historico'],inplace=True)\n",
    "m1.drop(['Matricula', 'Periodo Vest', 'CPF',\n",
    "       'Sexo', 'Nome Curso', 'Pontos Vest', 'Ano Vest', 'Idade Vest', 'Etnia','Situacao Aluno',\n",
    "       'Categoria de Ingresso', 'Nota', 'Horas Aula', 'Frequencia','Revalida','Curso','Turma','Estado EM',\n",
    "       'TipoCurriculo', 'Aprovado', 'vez', 'Cont Disc','Aprov Disc','Aprov Aluno'],axis=1,inplace=True)\n",
    "\n",
    "df = df.merge(m1,how='left',left_index=True,right_index=True)\n",
    "df.reset_index(inplace=True)"
   ]
  },
  {
   "cell_type": "code",
   "execution_count": 33,
   "metadata": {},
   "outputs": [],
   "source": [
    "m1 = pd.DataFrame(columns=df.columns)\n",
    "\n",
    "lis = df['Semestre Historico'].sort_values().unique()\n",
    "\n",
    "for i in range(len(lis[:-1])):\n",
    "    df2 = df[df['Semestre Historico'] <= lis[i]]\n",
    "    df2 = df2[df2['Semestre Historico'] >= lis[i-2]]\n",
    "                     \n",
    "        \n",
    "    t = df2.sort_values('Semestre Historico').groupby('Matricula').agg({'Aprovado':'mean','Semestre Historico':'last'})\n",
    "    \n",
    "    t.reset_index(inplace=True)\n",
    "    t.rename(columns={\"Aprovado\": \"Aprov -3\"},inplace=True)\n",
    "    t = t[t['Semestre Historico'] == lis[i]]\n",
    "    t['Semestre Historico'] = lis[i]\n",
    "    t.set_index(['Matricula','Semestre Historico'],inplace=True)\n",
    "\n",
    "    m1.set_index(['Matricula','Semestre Historico'],inplace=True)\n",
    "    m1 = pd.concat([m1,t])\n",
    "    m1.reset_index(inplace=True)\n",
    "    \n",
    "m1.set_index(['Matricula','Semestre Historico'],inplace=True)\n",
    "df.set_index(['Matricula','Semestre Historico'],inplace=True)\n",
    "m1.drop(['Disciplina', 'Periodo Vest', 'CPF',\n",
    "       'Sexo', 'Nome Curso', 'Pontos Vest', 'Ano Vest', 'Idade Vest', 'Etnia','Situacao Aluno',\n",
    "       'Categoria de Ingresso', 'Nota', 'Horas Aula', 'Frequencia','Revalida','Curso','Turma','Estado EM',\n",
    "       'TipoCurriculo', 'Matricula Professor', 'Aprovado', 'vez', 'Cont Disc','Aprov Disc','Aprov Aluno','Aprov Prof'],axis=1,inplace=True)\n",
    "\n",
    "df = df.merge(m1,how='left',left_index=True,right_index=True)\n",
    "df.reset_index(inplace=True)"
   ]
  },
  {
   "cell_type": "code",
   "execution_count": 34,
   "metadata": {},
   "outputs": [],
   "source": [
    "m1 = pd.DataFrame(columns=df.columns)\n",
    "\n",
    "lis = df['Semestre Historico'].sort_values().unique()\n",
    "\n",
    "for i in range(len(lis[:-1])):\n",
    "    df2 = df[df['Semestre Historico'] <= lis[i]]\n",
    "    df2 = df2[df2['Semestre Historico'] >= lis[i]]\n",
    "                     \n",
    "        \n",
    "    t = df2.sort_values('Semestre Historico').groupby('Matricula').agg({'Aprovado':'mean','Semestre Historico':'last'})\n",
    "    \n",
    "    t.reset_index(inplace=True)\n",
    "    t.rename(columns={\"Aprovado\": \"Aprov -1\"},inplace=True)\n",
    "    t = t[t['Semestre Historico'] == lis[i]]\n",
    "    t['Semestre Historico'] = lis[i]\n",
    "    t.set_index(['Matricula','Semestre Historico'],inplace=True)\n",
    "\n",
    "    m1.set_index(['Matricula','Semestre Historico'],inplace=True)\n",
    "    m1 = pd.concat([m1,t])\n",
    "    m1.reset_index(inplace=True)\n",
    "    \n",
    "m1.set_index(['Matricula','Semestre Historico'],inplace=True)\n",
    "df.set_index(['Matricula','Semestre Historico'],inplace=True)\n",
    "m1.drop(['Disciplina', 'Periodo Vest', 'CPF',\n",
    "       'Sexo', 'Nome Curso', 'Pontos Vest', 'Ano Vest', 'Idade Vest', 'Etnia','Situacao Aluno',\n",
    "       'Categoria de Ingresso', 'Nota', 'Horas Aula', 'Frequencia','Revalida','Curso','Turma','Estado EM',\n",
    "       'TipoCurriculo', 'Matricula Professor', 'Aprovado', 'vez', 'Cont Disc','Aprov Disc','Aprov Aluno','Aprov Prof','Aprov -3'],axis=1,inplace=True)\n",
    "\n",
    "df = df.merge(m1,how='left',left_index=True,right_index=True)\n",
    "df.reset_index(inplace=True)"
   ]
  },
  {
   "cell_type": "code",
   "execution_count": 35,
   "metadata": {},
   "outputs": [],
   "source": [
    "m1 = pd.DataFrame(columns=df.columns)\n",
    "\n",
    "lis = df['Semestre Historico'].sort_values().unique()\n",
    "\n",
    "for i in range(len(lis[:-1])):\n",
    "    df2 = df[df['Semestre Historico'] <= lis[i]]\n",
    "    df2 = df2[df2['Semestre Historico'] >= lis[i]]\n",
    "                     \n",
    "        \n",
    "    t = df2.groupby(['Matricula']).apply(lambda dfx: (dfx['Nota'] * dfx[\"Horas Aula\"]).sum() / dfx[\"Horas Aula\"].sum())\n",
    "    x = t.to_frame()\n",
    "    x.columns=['IAA Sem']\n",
    "    x['Semestre Historico'] = lis[i]\n",
    "    x.reset_index(inplace=True)\n",
    "    x.set_index(['Matricula','Semestre Historico'],inplace=True)\n",
    "\n",
    "    m1.set_index(['Matricula','Semestre Historico'],inplace=True)\n",
    "    m1 = pd.concat([m1,x])\n",
    "    m1.reset_index(inplace=True)\n",
    "    \n",
    "m1.set_index(['Matricula','Semestre Historico'],inplace=True)\n",
    "df.set_index(['Matricula','Semestre Historico'],inplace=True)\n",
    "m1.drop(['Disciplina', 'Periodo Vest', 'CPF',\n",
    "       'Sexo', 'Nome Curso', 'Pontos Vest', 'Ano Vest', 'Idade Vest', 'Etnia','Situacao Aluno',\n",
    "       'Categoria de Ingresso', 'Nota', 'Horas Aula', 'Frequencia','Revalida','Curso','Turma','Estado EM',\n",
    "       'TipoCurriculo', 'Matricula Professor', 'Aprovado', 'vez', 'Cont Disc','Aprov Disc',\n",
    "        'Aprov Aluno','Aprov Prof','Aprov -3','Aprov -1'],axis=1,inplace=True)\n",
    "\n",
    "df = df.merge(m1,how='left',left_index=True,right_index=True)\n",
    "df.reset_index(inplace=True)"
   ]
  },
  {
   "cell_type": "code",
   "execution_count": 36,
   "metadata": {},
   "outputs": [],
   "source": [
    "m1 = pd.DataFrame(columns=df.columns)\n",
    "\n",
    "lis = df['Semestre Historico'].sort_values().unique()\n",
    "\n",
    "for i in range(len(lis[:-1])):\n",
    "    df2 = df[df['Semestre Historico'] <= lis[i]]\n",
    "                     \n",
    "        \n",
    "    t = df2.groupby(['Matricula']).apply(lambda dfx: (dfx['Nota'] * dfx[\"Horas Aula\"]).sum() / dfx[\"Horas Aula\"].sum())\n",
    "    x = t.to_frame()\n",
    "    x.columns=['IAA Hist Sem']\n",
    "    x['Semestre Historico'] = lis[i]\n",
    "    x.reset_index(inplace=True)\n",
    "    x.set_index(['Matricula','Semestre Historico'],inplace=True)\n",
    "\n",
    "    m1.set_index(['Matricula','Semestre Historico'],inplace=True)\n",
    "    m1 = pd.concat([m1,x])\n",
    "    m1.reset_index(inplace=True)\n",
    "    \n",
    "m1.set_index(['Matricula','Semestre Historico'],inplace=True)\n",
    "df.set_index(['Matricula','Semestre Historico'],inplace=True)\n",
    "m1.drop(['Disciplina', 'Periodo Vest', 'CPF',\n",
    "       'Sexo', 'Nome Curso', 'Pontos Vest', 'Ano Vest', 'Idade Vest', 'Etnia','Situacao Aluno',\n",
    "       'Categoria de Ingresso', 'Nota', 'Horas Aula', 'Frequencia','Revalida','Curso','Turma','Estado EM',\n",
    "       'TipoCurriculo', 'Matricula Professor', 'Aprovado', 'vez', 'Cont Disc','Aprov Disc',\n",
    "        'Aprov Aluno','Aprov Prof','Aprov -3','Aprov -1','IAA Sem'],axis=1,inplace=True)\n",
    "\n",
    "df = df.merge(m1,how='left',left_index=True,right_index=True)\n",
    "df.reset_index(inplace=True)"
   ]
  },
  {
   "cell_type": "markdown",
   "metadata": {},
   "source": [
    "# Análise descritiva"
   ]
  },
  {
   "cell_type": "markdown",
   "metadata": {},
   "source": [
    "### Geral"
   ]
  },
  {
   "cell_type": "code",
   "execution_count": 15,
   "metadata": {},
   "outputs": [
    {
     "data": {
      "text/plain": [
       "Matricula    25110\n",
       "dtype: int64"
      ]
     },
     "execution_count": 15,
     "metadata": {},
     "output_type": "execute_result"
    }
   ],
   "source": [
    "df.groupby('Matricula').agg({'Matricula':'first'}).count()"
   ]
  },
  {
   "cell_type": "code",
   "execution_count": 17,
   "metadata": {},
   "outputs": [
    {
     "data": {
      "text/plain": [
       "0.7595151786454463"
      ]
     },
     "execution_count": 17,
     "metadata": {},
     "output_type": "execute_result"
    }
   ],
   "source": [
    "df.groupby(['Matricula']).agg({'Matricula':'first','Aprovado':'mean','IAA Hist Sem':'last'})['Aprovado'].mean()"
   ]
  },
  {
   "cell_type": "code",
   "execution_count": null,
   "metadata": {},
   "outputs": [],
   "source": [
    "df.groupby(['Matricula']).agg({'Matricula':'first','Aprovado':'mean','IAA Hist Sem':'last'})['Situacao Aluno'].value_counts()"
   ]
  },
  {
   "cell_type": "code",
   "execution_count": 16,
   "metadata": {},
   "outputs": [
    {
     "name": "stderr",
     "output_type": "stream",
     "text": [
      "/opt/conda/lib/python3.7/site-packages/seaborn/distributions.py:2551: FutureWarning: `distplot` is a deprecated function and will be removed in a future version. Please adapt your code to use either `displot` (a figure-level function with similar flexibility) or `histplot` (an axes-level function for histograms).\n",
      "  warnings.warn(msg, FutureWarning)\n"
     ]
    },
    {
     "data": {
      "image/png": "[encoded data removed]",
      "text/plain": [
       "<Figure size 432x288 with 1 Axes>"
      ]
     },
     "metadata": {
      "needs_background": "light"
     },
     "output_type": "display_data"
    }
   ],
   "source": [
    "g = sns.distplot(df[df['Situacao Aluno'] == 'abandono'].groupby('Matricula').agg({'Matricula':'first','Aprovado':'mean','Situacao Aluno':'last'})['Aprovado'],kde=False)\n"
   ]
  },
  {
   "cell_type": "code",
   "execution_count": 17,
   "metadata": {},
   "outputs": [
    {
     "name": "stderr",
     "output_type": "stream",
     "text": [
      "/opt/conda/lib/python3.7/site-packages/seaborn/distributions.py:2551: FutureWarning: `distplot` is a deprecated function and will be removed in a future version. Please adapt your code to use either `displot` (a figure-level function with similar flexibility) or `histplot` (an axes-level function for histograms).\n",
      "  warnings.warn(msg, FutureWarning)\n"
     ]
    },
    {
     "data": {
      "text/plain": [
       "Text(0.5, 1.0, 'Histograma Aprovação média')"
      ]
     },
     "execution_count": 17,
     "metadata": {},
     "output_type": "execute_result"
    },
    {
     "data": {
      "image/png": "[encoded data removed]",
      "text/plain": [
       "<Figure size 432x288 with 1 Axes>"
      ]
     },
     "metadata": {
      "needs_background": "light"
     },
     "output_type": "display_data"
    }
   ],
   "source": [
    "#Histogramas\n",
    "#g = sns.distplot(df[df['Situacao Aluno'] == 'abandono'].groupby(['Matricula']).agg({'Matricula':'first','Aprovado':'mean','IAA Hist Sem':'last'})['IAA Hist Sem'],kde=False)\n",
    "g = sns.distplot(df.groupby(['Matricula']).agg({'Matricula':'first','Aprovado':'mean','IAA Hist Sem':'last'})['Aprovado'],kde=False)\n",
    "#Boxplots\n",
    "#x = df.groupby(['Matricula']).agg({'Matricula':'first','Aprovado':'mean','IAA Hist Sem':'last','Situacao Aluno':'last'})\n",
    "#g = sns.boxplot(x = x['Situacao Aluno'],y = x['IAA Hist Sem'])\n",
    "\n",
    "plt.xlabel('Aprovação média')\n",
    "#plt.ylabel('IAA Final')\n",
    "plt.title('Histograma Aprovação média')\n",
    "#g.set_xticklabels(g.get_xticklabels(),rotation=90)"
   ]
  },
  {
   "cell_type": "code",
   "execution_count": 130,
   "metadata": {},
   "outputs": [
    {
     "data": {
      "text/plain": [
       "Text(0.5, 1.0, 'Boxplot de média de aprovação')"
      ]
     },
     "execution_count": 130,
     "metadata": {},
     "output_type": "execute_result"
    },
    {
     "data": {
      "image/png": "[encoded data removed]",
      "text/plain": [
       "<Figure size 432x288 with 1 Axes>"
      ]
     },
     "metadata": {
      "needs_background": "light"
     },
     "output_type": "display_data"
    }
   ],
   "source": [
    "#g = sns.distplot(df.groupby(['Matricula']).agg({'Matricula':'first','Aprovado':'mean','IAA Hist Sem':'last'})['Aprovado'],kde=False)\n",
    "#g = sns.distplot(df[df['Situacao Aluno'] == 'formado'].groupby(['Matricula']).agg({'Matricula':'first','Aprovado':'mean','IAA Hist Sem':'last'})['Aprovado'],kde=False)\n",
    "\n",
    "\n",
    "x = df[df['Revalida'].isna()].groupby(['Matricula']).agg({'Matricula':'first','Aprovado':'mean','IAA Hist Sem':'last','Situacao Aluno':'last'})\n",
    "g = sns.boxplot(x = x['Situacao Aluno'],y = x['Aprovado'])\n",
    "\n",
    "plt.xlabel('Situação de formatura')\n",
    "plt.ylabel('Média de Aprovação')\n",
    "plt.title('Boxplot de média de aprovação')"
   ]
  },
  {
   "cell_type": "markdown",
   "metadata": {},
   "source": [
    "### Gênero"
   ]
  },
  {
   "cell_type": "code",
   "execution_count": 146,
   "metadata": {},
   "outputs": [
    {
     "data": {
      "text/plain": [
       "Matricula    18399\n",
       "dtype: int64"
      ]
     },
     "execution_count": 146,
     "metadata": {},
     "output_type": "execute_result"
    }
   ],
   "source": [
    "df[df['Sexo'] == 'M'].groupby('Matricula').agg({'Matricula':'first'}).count()"
   ]
  },
  {
   "cell_type": "code",
   "execution_count": 145,
   "metadata": {},
   "outputs": [
    {
     "data": {
      "text/plain": [
       "formado     8673\n",
       "abandono    5801\n",
       "regular     3925\n",
       "Name: Situacao Aluno, dtype: int64"
      ]
     },
     "execution_count": 145,
     "metadata": {},
     "output_type": "execute_result"
    }
   ],
   "source": [
    "df[df['Sexo'] == 'M'].groupby(['Matricula']).agg({'Matricula':'first','Aprovado':'mean','IAA Hist Sem':'last','Situacao Aluno':'last'})['Situacao Aluno'].value_counts()"
   ]
  },
  {
   "cell_type": "code",
   "execution_count": 154,
   "metadata": {},
   "outputs": [
    {
     "data": {
      "text/plain": [
       "6.6556160589284605"
      ]
     },
     "execution_count": 154,
     "metadata": {},
     "output_type": "execute_result"
    }
   ],
   "source": [
    "df[df['Sexo'] == 'F'].groupby(['Matricula']).agg({'Matricula':'first','Aprovado':'mean','IAA Hist Sem':'last'})['IAA Hist Sem'].mean()"
   ]
  },
  {
   "cell_type": "code",
   "execution_count": 84,
   "metadata": {},
   "outputs": [
    {
     "data": {
      "text/plain": [
       "Text(0.5, 1.0, 'Boxplot de Aprovação média por gênero')"
      ]
     },
     "execution_count": 84,
     "metadata": {},
     "output_type": "execute_result"
    },
    {
     "data": {
      "image/png": "[encoded data removed]",
      "text/plain": [
       "<Figure size 432x288 with 1 Axes>"
      ]
     },
     "metadata": {
      "needs_background": "light"
     },
     "output_type": "display_data"
    }
   ],
   "source": [
    "#Histogramas\n",
    "#g = sns.distplot(df[df['Sexo'] == 'M'].groupby(['Matricula']).agg({'Matricula':'first','Aprovado':'mean','IAA Hist Sem':'last'})['Aprovado'],kde=False)\n",
    "#g = sns.distplot(df.groupby(['Matricula']).agg({'Matricula':'first','Aprovado':'mean','IAA Hist Sem':'last'})['IAA Hist Sem'],kde=False)\n",
    "#Boxplots\n",
    "x = df.groupby(['Matricula']).agg({'Matricula':'first','Aprovado':'mean','IAA Hist Sem':'last','Sexo':'last'})\n",
    "g = sns.boxplot(x = x['Sexo'],y = x['IAA Hist Sem'])\n",
    "\n",
    "plt.xlabel('Gênero')\n",
    "plt.ylabel('Média de aprovação')\n",
    "plt.title('Boxplot de Aprovação média por gênero')\n",
    "#g.set_xticklabels(g.get_xticklabels(),rotation=90)"
   ]
  },
  {
   "cell_type": "markdown",
   "metadata": {},
   "source": [
    "### Etnia"
   ]
  },
  {
   "cell_type": "code",
   "execution_count": 73,
   "metadata": {},
   "outputs": [
    {
     "data": {
      "text/plain": [
       "Matricula    23\n",
       "dtype: int64"
      ]
     },
     "execution_count": 73,
     "metadata": {},
     "output_type": "execute_result"
    }
   ],
   "source": [
    "df[df['Etnia']=='não declarada'].groupby('Matricula').agg({'Matricula':'first'}).count()"
   ]
  },
  {
   "cell_type": "code",
   "execution_count": 74,
   "metadata": {},
   "outputs": [
    {
     "data": {
      "text/plain": [
       "regular     21\n",
       "abandono     2\n",
       "Name: Situacao Aluno, dtype: int64"
      ]
     },
     "execution_count": 74,
     "metadata": {},
     "output_type": "execute_result"
    }
   ],
   "source": [
    "df[df['Etnia']=='parda'].groupby(['Matricula']).agg({'Matricula':'first','Aprovado':'mean','IAA Hist Sem':'last','Situacao Aluno':'last'})['Situacao Aluno'].value_counts()"
   ]
  },
  {
   "cell_type": "code",
   "execution_count": 33,
   "metadata": {},
   "outputs": [
    {
     "data": {
      "text/plain": [
       "0.634142277828733"
      ]
     },
     "execution_count": 33,
     "metadata": {},
     "output_type": "execute_result"
    }
   ],
   "source": [
    "x = df.groupby(['Matricula']).agg({'Matricula':'first','Etnia':'first','Aprovado':'mean','IAA Hist Sem':'last'})\n",
    "x[x['Etnia']=='parda']['Aprovado'].mean()"
   ]
  },
  {
   "cell_type": "code",
   "execution_count": 39,
   "metadata": {},
   "outputs": [
    {
     "data": {
      "text/plain": [
       "Text(0.5, 1.0, 'Boxplot de IAA - Etnia')"
      ]
     },
     "execution_count": 39,
     "metadata": {},
     "output_type": "execute_result"
    },
    {
     "data": {
      "image/png": "[encoded data removed]",
      "text/plain": [
       "<Figure size 432x288 with 1 Axes>"
      ]
     },
     "metadata": {
      "needs_background": "light"
     },
     "output_type": "display_data"
    }
   ],
   "source": [
    "#Histogramas\n",
    "#g = sns.distplot(df[df['Sexo'] == 'F'].groupby(['Matricula']).agg({'Matricula':'first','Aprovado':'mean','IAA Hist Sem':'last'})['IAA Hist Sem'],kde=False)\n",
    "#g = sns.distplot(df.groupby(['Matricula']).agg({'Matricula':'first','Aprovado':'mean','IAA Hist Sem':'last'})['IAA Hist Sem'],kde=False)\n",
    "#Boxplots\n",
    "x = df.groupby(['Matricula']).agg({'Matricula':'first','Aprovado':'mean','IAA Hist Sem':'last','Etnia':'last'})\n",
    "g = sns.boxplot(x = x['Etnia'],y = x['IAA Hist Sem'])\n",
    "\n",
    "#g = sns.distplot(df[df['Etnia'] == 'amarela'].groupby(['Matricula']).agg({'Matricula':'first','Aprovado':'mean','IAA Hist Sem':'last'})['IAA Hist Sem'],kde=False)\n",
    "\n",
    "plt.xlabel('IAA Final')\n",
    "#plt.ylabel('IAA Final')\n",
    "plt.title('Boxplot de IAA - Etnia')\n",
    "#g.set_xticklabels(g.get_xticklabels(),rotation=90)"
   ]
  },
  {
   "cell_type": "code",
   "execution_count": 36,
   "metadata": {},
   "outputs": [
    {
     "data": {
      "text/plain": [
       "Text(0.5, 1.0, 'Histograma de IAA - etnia amarela')"
      ]
     },
     "execution_count": 36,
     "metadata": {},
     "output_type": "execute_result"
    },
    {
     "data": {
      "image/png": "[encoded data removed]",
      "text/plain": [
       "<Figure size 432x288 with 1 Axes>"
      ]
     },
     "metadata": {
      "needs_background": "light"
     },
     "output_type": "display_data"
    }
   ],
   "source": [
    "#Histogramas\n",
    "g = sns.distplot(df[df['Etnia'] == 'amarela'].groupby(['Matricula']).agg({'Matricula':'first','Aprovado':'mean','IAA Hist Sem':'last'})['IAA Hist Sem'],kde=False)\n",
    "#g = sns.distplot(df.groupby(['Matricula']).agg({'Matricula':'first','Aprovado':'mean','IAA Hist Sem':'last'})['IAA Hist Sem'],kde=False)\n",
    "#Boxplots\n",
    "#x = df.groupby(['Matricula']).agg({'Matricula':'first','Aprovado':'mean','IAA Hist Sem':'last','Sexo':'last'})\n",
    "#g = sns.boxplot(x = x['Sexo'],y = x['IAA Hist Sem'])\n",
    "\n",
    "plt.xlabel('IAA Final')\n",
    "#plt.ylabel('IAA Final')\n",
    "plt.title('Histograma de IAA - etnia amarela')\n",
    "#g.set_xticklabels(g.get_xticklabels(),rotation=90)"
   ]
  },
  {
   "cell_type": "code",
   "execution_count": 39,
   "metadata": {},
   "outputs": [
    {
     "data": {
      "text/plain": [
       "Text(0.5, 1.0, 'Histograma de IAA por etnia - amarela')"
      ]
     },
     "execution_count": 39,
     "metadata": {},
     "output_type": "execute_result"
    },
    {
     "data": {
      "image/png": "[encoded data removed]",
      "text/plain": [
       "<Figure size 432x288 with 1 Axes>"
      ]
     },
     "metadata": {
      "needs_background": "light"
     },
     "output_type": "display_data"
    }
   ],
   "source": [
    "x = df[df['Etnia'] == 'amarela']\n",
    "#Histogramas\n",
    "#g = sns.distplot(df[df['Sexo'] == 'F'].groupby(['Matricula']).agg({'Matricula':'first','Aprovado':'mean','IAA Hist Sem':'last'})['IAA Hist Sem'],kde=False)\n",
    "g = sns.distplot(x.groupby(['Matricula']).agg({'Matricula':'first','Aprovado':'mean','IAA Hist Sem':'last'})['IAA Hist Sem'],kde=False)\n",
    "#Boxplots\n",
    "#x = df.groupby(['Matricula']).agg({'Matricula':'first','Aprovado':'mean','IAA Hist Sem':'last','Etnia':'last','Periodo Vest':'first'})\n",
    "#g = sns.boxplot(x = x['Etnia'],y = x['Aprovado'])\n",
    "\n",
    "plt.xlabel('IAA Final')\n",
    "#plt.ylabel('Aprovação média')\n",
    "plt.title('Histograma de IAA por etnia - amarela')\n",
    "#g.set_xticklabels(g.get_xticklabels(),rotation=90)"
   ]
  },
  {
   "cell_type": "code",
   "execution_count": 22,
   "metadata": {},
   "outputs": [
    {
     "name": "stderr",
     "output_type": "stream",
     "text": [
      "/opt/conda/lib/python3.7/site-packages/seaborn/distributions.py:2551: FutureWarning: `distplot` is a deprecated function and will be removed in a future version. Please adapt your code to use either `displot` (a figure-level function with similar flexibility) or `histplot` (an axes-level function for histograms).\n",
      "  warnings.warn(msg, FutureWarning)\n"
     ]
    },
    {
     "data": {
      "image/png": "[encoded data removed]",
      "text/plain": [
       "<Figure size 432x288 with 1 Axes>"
      ]
     },
     "metadata": {
      "needs_background": "light"
     },
     "output_type": "display_data"
    }
   ],
   "source": [
    "x = df.groupby(['Matricula']).agg({'Matricula':'first','Aprovado':'mean','IAA Hist Sem':'last','Etnia':'last','Periodo Vest':'first'})\n",
    "g = sns.distplot(x[x['Etnia'] == 'parda']['Periodo Vest'],kde=False)"
   ]
  },
  {
   "cell_type": "code",
   "execution_count": null,
   "metadata": {},
   "outputs": [],
   "source": [
    "x[x['Categoria de Ingresso'] == 'Não']['Etnia'].value_counts()"
   ]
  },
  {
   "cell_type": "markdown",
   "metadata": {},
   "source": [
    "### Categoria de Ingresso"
   ]
  },
  {
   "cell_type": "code",
   "execution_count": 67,
   "metadata": {},
   "outputs": [
    {
     "data": {
      "text/plain": [
       "Não    8661\n",
       "Sim    4337\n",
       "Name: Categoria de Ingresso, dtype: int64"
      ]
     },
     "execution_count": 67,
     "metadata": {},
     "output_type": "execute_result"
    }
   ],
   "source": [
    "x = df.groupby(['Matricula']).agg({'Matricula':'first','Aprovado':'mean','IAA Hist Sem':'last','Etnia':'last','Situacao Aluno':'last','Periodo Vest':'first','Categoria de Ingresso':'first'})\n",
    "\n",
    "x['Categoria de Ingresso'] = x['Categoria de Ingresso'].apply(lambda x:'Não' if x == 'Classificação geral' else x )\n",
    "x['Categoria de Ingresso'].unique()\n",
    "for i in lis:\n",
    "    x['Categoria de Ingresso'] = x['Categoria de Ingresso'].apply(lambda x:'Sim' if x == i else x )\n",
    "    \n",
    "x['Categoria de Ingresso'] = x['Categoria de Ingresso'].apply(lambda x:'Sim' if x == 'Sim' else 'Não' )\n",
    "x = x[x['Periodo Vest']>20080]\n",
    "x['Categoria de Ingresso'].value_counts()\n",
    "#df[~df['Matricula'].isin(lis)]"
   ]
  },
  {
   "cell_type": "code",
   "execution_count": 30,
   "metadata": {},
   "outputs": [
    {
     "data": {
      "text/plain": [
       "branca           15125\n",
       "parda              875\n",
       "amarela            397\n",
       "preta              176\n",
       "indígena            31\n",
       "não declarada       11\n",
       "Name: Etnia, dtype: int64"
      ]
     },
     "execution_count": 30,
     "metadata": {},
     "output_type": "execute_result"
    }
   ],
   "source": [
    "x[x['Categoria de Ingresso'] == 'Não']['Etnia'].value_counts()"
   ]
  },
  {
   "cell_type": "code",
   "execution_count": 75,
   "metadata": {},
   "outputs": [
    {
     "data": {
      "text/plain": [
       "6.405489859223655"
      ]
     },
     "execution_count": 75,
     "metadata": {},
     "output_type": "execute_result"
    }
   ],
   "source": [
    "x[x['Categoria de Ingresso'] == 'Não']['IAA Hist Sem'].mean()"
   ]
  },
  {
   "cell_type": "code",
   "execution_count": 77,
   "metadata": {},
   "outputs": [
    {
     "data": {
      "text/plain": [
       "Text(0.5, 1.0, 'Boxplot IAA Final - Categoria de Ingresso')"
      ]
     },
     "execution_count": 77,
     "metadata": {},
     "output_type": "execute_result"
    },
    {
     "data": {
      "image/png": "[encoded data removed]",
      "text/plain": [
       "<Figure size 432x288 with 1 Axes>"
      ]
     },
     "metadata": {
      "needs_background": "light"
     },
     "output_type": "display_data"
    }
   ],
   "source": [
    "#Histogramas\n",
    "#g = sns.distplot(x[x['Categoria de Ingresso'] == 'Sim']['IAA Hist Sem'],kde=False)\n",
    "#Boxplots\n",
    "#x = df.groupby(['Matricula']).agg({'Matricula':'first','Aprovado':'mean','IAA Hist Sem':'last','Situacao Aluno':'last'})\n",
    "g = sns.boxplot(x = x['Categoria de Ingresso'],y = x['IAA Hist Sem'])\n",
    "\n",
    "plt.xlabel('Categoria de ingresso')\n",
    "plt.ylabel('IAA Final')\n",
    "plt.title('Boxplot IAA Final - Categoria de Ingresso')\n",
    "#g.set_xticklabels(g.get_xticklabels(),rotation=90)"
   ]
  },
  {
   "cell_type": "code",
   "execution_count": 80,
   "metadata": {},
   "outputs": [
    {
     "data": {
      "text/plain": [
       "Text(0.5, 1.0, 'Histograma aprovação média - Classificação Geral')"
      ]
     },
     "execution_count": 80,
     "metadata": {},
     "output_type": "execute_result"
    },
    {
     "data": {
      "image/png": "[encoded data removed]",
      "text/plain": [
       "<Figure size 432x288 with 1 Axes>"
      ]
     },
     "metadata": {
      "needs_background": "light"
     },
     "output_type": "display_data"
    }
   ],
   "source": [
    "#Histogramas\n",
    "g = sns.distplot(x[x['Categoria de Ingresso'] == 'Não']['Aprovado'],kde=False)\n",
    "#Boxplots\n",
    "#g = sns.boxplot(x = x['Categoria de Ingresso'],y = x['Aprovado'])\n",
    "\n",
    "plt.xlabel('Aprovação média')\n",
    "#plt.ylabel('Aprovação média')\n",
    "plt.title('Histograma aprovação média - Classificação Geral')\n",
    "#g.set_xticklabels(g.get_xticklabels(),rotation=90)"
   ]
  },
  {
   "cell_type": "markdown",
   "metadata": {},
   "source": [
    "### Categoria de ingresso X etnia"
   ]
  },
  {
   "cell_type": "code",
   "execution_count": 40,
   "metadata": {},
   "outputs": [],
   "source": [
    "x = df.groupby(['Matricula']).agg({'Matricula':'first','Aprovado':'mean','IAA Hist Sem':'last','Etnia':'last','Situacao Aluno':'last','Periodo Vest':'first','Categoria de Ingresso':'first'})\n",
    "x = x[~x['Categoria de Ingresso'].isna()]\n",
    "x['Categoria de Ingresso'] = x['Categoria de Ingresso'].apply(lambda x:'Não' if x == 'Classificação geral' else x )\n",
    "lis = ['Escola Pública', 'Negro',\n",
    "       'Vagas Suplementares - Indígena',\n",
    "       'PAA - Escola Pública - Renda acima de 1,5 Salários Mínimos - Outros',\n",
    "       'PAA - Escola Pública - Renda até 1,5 Salário Mínimo - Outros',\n",
    "       'PAA - Escola Pública - Renda até 1,5 Salário Mínimo - PPI (Pretos, Pardos e Indígenas)',\n",
    "       'PAA - Escola Pública - Renda acima de 1,5 Salários Mínimos - PPI (Pretos, Pardos e Indígenas)',\n",
    "       'Vagas Suplementares - Quilombola', 'Vagas Suplementares - Negro',\n",
    "       'PAA - Escola Pública - Renda acima de 1,5 Salários Mínimos - PPI (Pretos, Pardos e Indígenas) sem deficiência',\n",
    "       'PAA - Escola Pública - Renda acima de 1,5 Salários Mínimos - Outros sem deficiência',\n",
    "       'PAA - Escola Pública - Renda até 1,5 Salário Mínimo - Outros sem deficiência',\n",
    "       'PAA - Escola Pública - Renda até 1,5 Salário Mínimo - PPI (Pretos, Pardos e Indígenas) sem deficiência',\n",
    "       'PAA - Escola Pública - Renda acima de 1,5 Salários Mínimos - Outros com deficiência',\n",
    "       'PAA - Escola Pública - Renda acima de 1,5 Salários Mínimos - PPI (Pretos, Pardos e Indígenas) com deficiência',\n",
    "       'PAA - Escola Pública - Renda até 1,5 Salário Mínimo - Outros com deficiência',\n",
    "       'PAA - Escola Pública - Renda até 1,5 Salário Mínimo - PPI (Pretos, Pardos e Indígenas) com deficiência']\n",
    "for i in lis:\n",
    "    x['Categoria de Ingresso'] = x['Categoria de Ingresso'].apply(lambda x:'Sim' if x == i else x )"
   ]
  },
  {
   "cell_type": "code",
   "execution_count": 50,
   "metadata": {},
   "outputs": [],
   "source": [
    "x = x[x['Periodo Vest'] > 20080]"
   ]
  },
  {
   "cell_type": "code",
   "execution_count": 53,
   "metadata": {},
   "outputs": [
    {
     "data": {
      "text/plain": [
       "4.384625332312489"
      ]
     },
     "execution_count": 53,
     "metadata": {},
     "output_type": "execute_result"
    }
   ],
   "source": [
    "#x = df.groupby(['Matricula']).agg({'Matricula':'first','Etnia':'first','Aprovado':'mean','IAA Hist Sem':'last'})\n",
    "t = x[x['Categoria de Ingresso']=='Sim']\n",
    "t[t['Etnia']=='parda']['IAA Hist Sem'].mean()"
   ]
  },
  {
   "cell_type": "code",
   "execution_count": 77,
   "metadata": {},
   "outputs": [],
   "source": [
    "x = x[~x['Categoria de Ingresso'].isna()]"
   ]
  },
  {
   "cell_type": "code",
   "execution_count": 106,
   "metadata": {},
   "outputs": [
    {
     "data": {
      "text/plain": [
       "Sim    617\n",
       "Não     70\n",
       "Name: Categoria de Ingresso, dtype: int64"
      ]
     },
     "execution_count": 106,
     "metadata": {},
     "output_type": "execute_result"
    }
   ],
   "source": [
    "#t = x[x['Categoria de Ingresso']=='Sim']['Etnia'].value_counts()\n",
    "x[x['Etnia'] == 'preta']['Categoria de Ingresso'].value_counts()"
   ]
  },
  {
   "cell_type": "code",
   "execution_count": 120,
   "metadata": {},
   "outputs": [
    {
     "name": "stdout",
     "output_type": "stream",
     "text": [
      "0.79 6.428714719549133\n"
     ]
    }
   ],
   "source": [
    "t = x[x['Categoria de Ingresso']=='Não']\n",
    "t = t[t['Etnia']=='branca']\n",
    "print(round(t['Aprovado'].mean(),2),t['IAA Hist Sem'].mean())"
   ]
  },
  {
   "cell_type": "code",
   "execution_count": 146,
   "metadata": {},
   "outputs": [
    {
     "data": {
      "text/plain": [
       "435"
      ]
     },
     "execution_count": 146,
     "metadata": {},
     "output_type": "execute_result"
    }
   ],
   "source": [
    "t = x[x['Categoria de Ingresso']=='Não']\n",
    "t = t[t['Etnia']=='parda']\n",
    "t['Situacao Aluno'].count()"
   ]
  },
  {
   "cell_type": "code",
   "execution_count": 147,
   "metadata": {},
   "outputs": [
    {
     "data": {
      "text/plain": [
       "regular     156\n",
       "abandono    141\n",
       "formado     138\n",
       "Name: Situacao Aluno, dtype: int64"
      ]
     },
     "execution_count": 147,
     "metadata": {},
     "output_type": "execute_result"
    }
   ],
   "source": [
    "t = x[x['Categoria de Ingresso']=='Não']\n",
    "t = t[t['Etnia']=='parda']\n",
    "t['Situacao Aluno'].value_counts()"
   ]
  },
  {
   "cell_type": "code",
   "execution_count": 23,
   "metadata": {},
   "outputs": [
    {
     "data": {
      "text/html": [
       "<div>\n",
       "<style scoped>\n",
       "    .dataframe tbody tr th:only-of-type {\n",
       "        vertical-align: middle;\n",
       "    }\n",
       "\n",
       "    .dataframe tbody tr th {\n",
       "        vertical-align: top;\n",
       "    }\n",
       "\n",
       "    .dataframe thead th {\n",
       "        text-align: right;\n",
       "    }\n",
       "</style>\n",
       "<table border=\"1\" class=\"dataframe\">\n",
       "  <thead>\n",
       "    <tr style=\"text-align: right;\">\n",
       "      <th></th>\n",
       "      <th>Matricula</th>\n",
       "      <th>Semestre Historico</th>\n",
       "      <th>Matricula Professor</th>\n",
       "      <th>Disciplina</th>\n",
       "      <th>Periodo Vest</th>\n",
       "      <th>CPF</th>\n",
       "      <th>Sexo</th>\n",
       "      <th>Curso</th>\n",
       "      <th>Nome Curso</th>\n",
       "      <th>Pontos Vest</th>\n",
       "      <th>...</th>\n",
       "      <th>Situacao Aluno</th>\n",
       "      <th>Aprovado</th>\n",
       "      <th>vez</th>\n",
       "      <th>Cont Disc</th>\n",
       "      <th>Aprov Disc</th>\n",
       "      <th>Aprov Aluno</th>\n",
       "      <th>Aprov Prof</th>\n",
       "      <th>Aprov -3</th>\n",
       "      <th>Aprov -1</th>\n",
       "      <th>IAA Sem</th>\n",
       "    </tr>\n",
       "  </thead>\n",
       "  <tbody>\n",
       "    <tr>\n",
       "      <th>0</th>\n",
       "      <td>130001</td>\n",
       "      <td>20001</td>\n",
       "      <td>19660.0</td>\n",
       "      <td>FSC5101</td>\n",
       "      <td>20001</td>\n",
       "      <td>NaN</td>\n",
       "      <td>M</td>\n",
       "      <td>220</td>\n",
       "      <td>ENGENHARIA DE CONTROLE E AUTOMAÇÃO</td>\n",
       "      <td>6316.0</td>\n",
       "      <td>...</td>\n",
       "      <td>formado</td>\n",
       "      <td>1</td>\n",
       "      <td>0</td>\n",
       "      <td>6</td>\n",
       "      <td>0.693989</td>\n",
       "      <td>1.0</td>\n",
       "      <td>0.816327</td>\n",
       "      <td>NaN</td>\n",
       "      <td>1.0</td>\n",
       "      <td>7.770833</td>\n",
       "    </tr>\n",
       "    <tr>\n",
       "      <th>1</th>\n",
       "      <td>130001</td>\n",
       "      <td>20001</td>\n",
       "      <td>32209.0</td>\n",
       "      <td>EGR5604</td>\n",
       "      <td>20001</td>\n",
       "      <td>NaN</td>\n",
       "      <td>M</td>\n",
       "      <td>220</td>\n",
       "      <td>ENGENHARIA DE CONTROLE E AUTOMAÇÃO</td>\n",
       "      <td>6316.0</td>\n",
       "      <td>...</td>\n",
       "      <td>formado</td>\n",
       "      <td>1</td>\n",
       "      <td>0</td>\n",
       "      <td>6</td>\n",
       "      <td>0.890625</td>\n",
       "      <td>1.0</td>\n",
       "      <td>1.000000</td>\n",
       "      <td>NaN</td>\n",
       "      <td>1.0</td>\n",
       "      <td>7.770833</td>\n",
       "    </tr>\n",
       "    <tr>\n",
       "      <th>2</th>\n",
       "      <td>130001</td>\n",
       "      <td>20001</td>\n",
       "      <td>32870.0</td>\n",
       "      <td>MTM5221</td>\n",
       "      <td>20001</td>\n",
       "      <td>NaN</td>\n",
       "      <td>M</td>\n",
       "      <td>220</td>\n",
       "      <td>ENGENHARIA DE CONTROLE E AUTOMAÇÃO</td>\n",
       "      <td>6316.0</td>\n",
       "      <td>...</td>\n",
       "      <td>formado</td>\n",
       "      <td>1</td>\n",
       "      <td>0</td>\n",
       "      <td>6</td>\n",
       "      <td>0.909091</td>\n",
       "      <td>1.0</td>\n",
       "      <td>0.909091</td>\n",
       "      <td>NaN</td>\n",
       "      <td>1.0</td>\n",
       "      <td>7.770833</td>\n",
       "    </tr>\n",
       "    <tr>\n",
       "      <th>3</th>\n",
       "      <td>130001</td>\n",
       "      <td>20001</td>\n",
       "      <td>81951.0</td>\n",
       "      <td>DAS5411</td>\n",
       "      <td>20001</td>\n",
       "      <td>NaN</td>\n",
       "      <td>M</td>\n",
       "      <td>220</td>\n",
       "      <td>ENGENHARIA DE CONTROLE E AUTOMAÇÃO</td>\n",
       "      <td>6316.0</td>\n",
       "      <td>...</td>\n",
       "      <td>formado</td>\n",
       "      <td>1</td>\n",
       "      <td>0</td>\n",
       "      <td>6</td>\n",
       "      <td>1.000000</td>\n",
       "      <td>1.0</td>\n",
       "      <td>1.000000</td>\n",
       "      <td>NaN</td>\n",
       "      <td>1.0</td>\n",
       "      <td>7.770833</td>\n",
       "    </tr>\n",
       "    <tr>\n",
       "      <th>4</th>\n",
       "      <td>130001</td>\n",
       "      <td>20001</td>\n",
       "      <td>98021.0</td>\n",
       "      <td>MTM5161</td>\n",
       "      <td>20001</td>\n",
       "      <td>NaN</td>\n",
       "      <td>M</td>\n",
       "      <td>220</td>\n",
       "      <td>ENGENHARIA DE CONTROLE E AUTOMAÇÃO</td>\n",
       "      <td>6316.0</td>\n",
       "      <td>...</td>\n",
       "      <td>formado</td>\n",
       "      <td>1</td>\n",
       "      <td>0</td>\n",
       "      <td>6</td>\n",
       "      <td>0.576642</td>\n",
       "      <td>1.0</td>\n",
       "      <td>0.785714</td>\n",
       "      <td>NaN</td>\n",
       "      <td>1.0</td>\n",
       "      <td>7.770833</td>\n",
       "    </tr>\n",
       "  </tbody>\n",
       "</table>\n",
       "<p>5 rows × 31 columns</p>\n",
       "</div>"
      ],
      "text/plain": [
       "   Matricula  Semestre Historico  Matricula Professor Disciplina  \\\n",
       "0     130001               20001              19660.0    FSC5101   \n",
       "1     130001               20001              32209.0    EGR5604   \n",
       "2     130001               20001              32870.0    MTM5221   \n",
       "3     130001               20001              81951.0    DAS5411   \n",
       "4     130001               20001              98021.0    MTM5161   \n",
       "\n",
       "   Periodo Vest  CPF Sexo  Curso                          Nome Curso  \\\n",
       "0         20001  NaN    M    220  ENGENHARIA DE CONTROLE E AUTOMAÇÃO   \n",
       "1         20001  NaN    M    220  ENGENHARIA DE CONTROLE E AUTOMAÇÃO   \n",
       "2         20001  NaN    M    220  ENGENHARIA DE CONTROLE E AUTOMAÇÃO   \n",
       "3         20001  NaN    M    220  ENGENHARIA DE CONTROLE E AUTOMAÇÃO   \n",
       "4         20001  NaN    M    220  ENGENHARIA DE CONTROLE E AUTOMAÇÃO   \n",
       "\n",
       "   Pontos Vest  ...  Situacao Aluno Aprovado  vez Cont Disc Aprov Disc  \\\n",
       "0       6316.0  ...         formado        1    0         6   0.693989   \n",
       "1       6316.0  ...         formado        1    0         6   0.890625   \n",
       "2       6316.0  ...         formado        1    0         6   0.909091   \n",
       "3       6316.0  ...         formado        1    0         6   1.000000   \n",
       "4       6316.0  ...         formado        1    0         6   0.576642   \n",
       "\n",
       "   Aprov Aluno  Aprov Prof Aprov -3 Aprov -1   IAA Sem  \n",
       "0          1.0    0.816327      NaN      1.0  7.770833  \n",
       "1          1.0    1.000000      NaN      1.0  7.770833  \n",
       "2          1.0    0.909091      NaN      1.0  7.770833  \n",
       "3          1.0    1.000000      NaN      1.0  7.770833  \n",
       "4          1.0    0.785714      NaN      1.0  7.770833  \n",
       "\n",
       "[5 rows x 31 columns]"
      ]
     },
     "execution_count": 23,
     "metadata": {},
     "output_type": "execute_result"
    }
   ],
   "source": [
    "df.head()"
   ]
  },
  {
   "cell_type": "code",
   "execution_count": 45,
   "metadata": {},
   "outputs": [
    {
     "data": {
      "text/plain": [
       "Text(0.5, 1.0, 'Boxplot de IAA Final - Categoria de ingresso amarelos')"
      ]
     },
     "execution_count": 45,
     "metadata": {},
     "output_type": "execute_result"
    },
    {
     "data": {
      "image/png": "[encoded data removed]",
      "text/plain": [
       "<Figure size 432x288 with 1 Axes>"
      ]
     },
     "metadata": {
      "needs_background": "light"
     },
     "output_type": "display_data"
    }
   ],
   "source": [
    "#x = df.groupby(['Matricula']).agg({'Matricula':'first','Aprovado':'mean','IAA Hist Sem':'last','Etnia':'last','Situacao Aluno':'last','Periodo Vest':'first','Categoria de Ingresso':'first'})\n",
    "t = x[x['Etnia']=='amarela']\n",
    "#t = x[x['Categoria de Ingresso']=='Não']\n",
    "#t = t[t['Etnia']=='branca']\n",
    "\n",
    "#Histogramas\n",
    "#g = sns.distplot(t[t['Categoria de Ingresso'] == 'Não']['IAA Hist Sem'],kde=False)\n",
    "#Boxplots\n",
    "#x = df.groupby(['Matricula']).agg({'Matricula':'first','Aprovado':'mean','IAA Hist Sem':'last','Situacao Aluno':'last'})\n",
    "g = sns.boxplot(x = t['Categoria de Ingresso'],y = t['IAA Hist Sem'])\n",
    "\n",
    "plt.xlabel('Categoria de Ingresso')\n",
    "plt.ylabel('IAA')\n",
    "plt.title('Boxplot de IAA Final - Categoria de ingresso amarelos')\n",
    "#g.set_xticklabels(g.get_xticklabels(),rotation=90)"
   ]
  },
  {
   "cell_type": "code",
   "execution_count": null,
   "metadata": {},
   "outputs": [],
   "source": [
    "t = x[x['Etnia']=='preta']\n",
    "t = t[t['Etnia']=='branca']\n",
    "\n",
    "#Histogramas\n",
    "g = sns.distplot(x[x['Categoria de Ingresso'] == 'Não']['Aprovado'],kde=False)\n",
    "#Boxplots\n",
    "#g = sns.boxplot(x = x['Categoria de Ingresso'],y = x['Aprovado'])\n",
    "\n",
    "plt.xlabel('Aprovação média')\n",
    "#plt.ylabel('Aprovação média')\n",
    "plt.title('Histograma aprovação média - Classificação Geral')\n",
    "#g.set_xticklabels(g.get_xticklabels(),rotation=90)"
   ]
  },
  {
   "cell_type": "code",
   "execution_count": null,
   "metadata": {},
   "outputs": [],
   "source": [
    "multiple=\"stack\",\n",
    "    palette=\"light:m_r\",\n",
    "    edgecolor=\".3\",\n",
    "    linewidth=.5,\n",
    "    log_scale=True,"
   ]
  },
  {
   "cell_type": "markdown",
   "metadata": {},
   "source": [
    "### Idade"
   ]
  },
  {
   "cell_type": "code",
   "execution_count": 92,
   "metadata": {},
   "outputs": [
    {
     "data": {
      "text/plain": [
       "Text(0.5, 1.0, 'Boxplot de aprovação média - Idade')"
      ]
     },
     "execution_count": 92,
     "metadata": {},
     "output_type": "execute_result"
    },
    {
     "data": {
      "image/png": "[encoded data removed]",
      "text/plain": [
       "<Figure size 432x288 with 1 Axes>"
      ]
     },
     "metadata": {},
     "output_type": "display_data"
    }
   ],
   "source": [
    "import matplotlib as mpl\n",
    "x = df.groupby(['Matricula']).agg({'Matricula':'first','Idade Vest':'first','Aprovado':'mean','IAA Hist Sem':'mean','Etnia':'last','Situacao Aluno':'last','Periodo Vest':'first','Categoria de Ingresso':'first'})\n",
    "#Histogramas\n",
    "#g = sns.distplot(x['Idade Vest'],kde=False)\n",
    "#g = sns.displot(x = x['Aprovado'],y = ['Idade Vest'])\n",
    "\n",
    "#f, ax = plt.subplots(figsize=(7, 5))\n",
    "#sns.despine(f)\n",
    "\n",
    "#g = sns.histplot(hue = x['Idade Vest'],y = x['Aprovado'], palette=\"light:m_r\",edgecolor=\".3\",linewidth=.5)\n",
    "\n",
    "#ax.xaxis.set_major_formatter(mpl.ticker.ScalarFormatter())\n",
    "#ax.set_xticks([500, 1000, 2000, 5000, 10000])\n",
    "#Boxplots\n",
    "#x = df.groupby(['Matricula']).agg({'Matricula':'first','Aprovado':'mean','IAA Hist Sem':'last','Situacao Aluno':'last'})\n",
    "#g = sns.boxplot(x = x['Categoria de Ingresso'],y = x['Aprovado'])\n",
    "\n",
    "plt.Annotation\n",
    "plt.xlabel('Idade')\n",
    "plt.ylabel('Aprovação média')\n",
    "plt.title('Boxplot de aprovação média - Idade')\n",
    "#g.set_xticklabels(g.get_xticklabels(),rotation=90)"
   ]
  },
  {
   "cell_type": "code",
   "execution_count": 102,
   "metadata": {},
   "outputs": [
    {
     "data": {
      "text/plain": [
       "6.023141485643704"
      ]
     },
     "execution_count": 102,
     "metadata": {},
     "output_type": "execute_result"
    }
   ],
   "source": [
    "t = x.groupby('Idade Vest').agg({'Aprovado':'mean','IAA Hist Sem':'mean'}).reset_index()\n",
    "t[t['Idade Vest']<22]['IAA Hist Sem'].mean()"
   ]
  },
  {
   "cell_type": "code",
   "execution_count": 105,
   "metadata": {},
   "outputs": [
    {
     "data": {
      "text/plain": [
       "array(['formado', 'abandono', 'regular'], dtype=object)"
      ]
     },
     "execution_count": 105,
     "metadata": {},
     "output_type": "execute_result"
    }
   ],
   "source": [
    "df['Situacao Aluno'].unique()"
   ]
  },
  {
   "cell_type": "code",
   "execution_count": null,
   "metadata": {},
   "outputs": [],
   "source": []
  },
  {
   "cell_type": "code",
   "execution_count": 113,
   "metadata": {},
   "outputs": [
    {
     "data": {
      "text/plain": [
       "abandono    296\n",
       "regular     197\n",
       "formado     121\n",
       "Name: Situacao Aluno, dtype: int64"
      ]
     },
     "execution_count": 113,
     "metadata": {},
     "output_type": "execute_result"
    }
   ],
   "source": [
    "#x = df[df['Situacao Aluno'] =='formado']\n",
    "x = df[df['Idade Vest']>=28]#[df['Idade Vest']<28]\n",
    "x = x.groupby('Matricula').agg({'Situacao Aluno':'last'})\n",
    "x['Situacao Aluno'].value_counts()\n",
    "#x.groupby('Situacao Aluno').agg({'Matricula':'count'})"
   ]
  },
  {
   "cell_type": "code",
   "execution_count": 15,
   "metadata": {},
   "outputs": [],
   "source": [
    "import matplotlib as mpl\n",
    "x = df.groupby(['Matricula']).agg({'Matricula':'first','Idade Vest':'first','Aprovado':'mean','IAA Hist Sem':'last','Etnia':'last','Situacao Aluno':'last','Periodo Vest':'first','Categoria de Ingresso':'first'})"
   ]
  },
  {
   "cell_type": "code",
   "execution_count": 21,
   "metadata": {},
   "outputs": [
    {
     "name": "stderr",
     "output_type": "stream",
     "text": [
      "No handles with labels found to put in legend.\n"
     ]
    },
    {
     "data": {
      "image/png": "[encoded data removed]",
      "text/plain": [
       "<Figure size 432x1080 with 1 Axes>"
      ]
     },
     "metadata": {},
     "output_type": "display_data"
    }
   ],
   "source": [
    "sns.set_theme(style=\"whitegrid\")\n",
    "\n",
    "# Initialize the matplotlib figure\n",
    "f, ax = plt.subplots(figsize=(6, 15))\n",
    "\n",
    "# Load the example car crash dataset\n",
    "#crashes = sns.load_dataset(\"car_crashes\").sort_values(\"total\", ascending=False)\n",
    "\n",
    "# Plot the total crashes\n",
    "sns.set_color_codes(\"pastel\")\n",
    "sns.barplot(x=\"Aprovado\", y=\"Idade Vest\", data=x, color=\"b\")\n",
    "\n",
    "# Plot the crashes where alcohol was involved\n",
    "#sns.set_color_codes(\"muted\")\n",
    "#sns.barplot(x=\"alcohol\", y=\"abbrev\", data=crashes,label=\"Alcohol-involved\", color=\"b\")\n",
    "\n",
    "# Add a legend and informative axis label\n",
    "ax.legend(ncol=2, loc=\"lower right\", frameon=True)\n",
    "ax.set(xlim=(0, 24), ylabel=\"\",xlabel=\"Automobile collisions per billion miles\")\n",
    "sns.despine(left=True, bottom=True)"
   ]
  },
  {
   "cell_type": "code",
   "execution_count": 37,
   "metadata": {},
   "outputs": [
    {
     "data": {
      "text/plain": [
       "<seaborn.axisgrid.FacetGrid at 0x7f9e1a0d3910>"
      ]
     },
     "execution_count": 37,
     "metadata": {},
     "output_type": "execute_result"
    },
    {
     "data": {
      "image/png": "[encoded data removed]",
      "text/plain": [
       "<Figure size 360x360 with 1 Axes>"
      ]
     },
     "metadata": {},
     "output_type": "display_data"
    }
   ],
   "source": [
    "sns.set_theme(style=\"whitegrid\")\n",
    "\n",
    "# Load the example planets dataset\n",
    "#planets = sns.load_dataset(\"planets\")\n",
    "\n",
    "cmap = sns.cubehelix_palette(rot=-.2, as_cmap=True)\n",
    "g = sns.relplot(\n",
    "    data=x,\n",
    "    x=\"Aprovado\", y=\"Idade Vest\",\n",
    "    palette=cmap, sizes=(10, 200),\n",
    ")\n",
    "#g.set(xscale=\"log\", yscale=\"log\")\n",
    "plt.ylim([16, 50])\n",
    "\n",
    "g.ax.xaxis.grid(True, \"minor\", linewidth=.25)\n",
    "g.ax.yaxis.grid(True, \"minor\", linewidth=.25)\n",
    "g.despine(left=True, bottom=True)"
   ]
  },
  {
   "cell_type": "code",
   "execution_count": 46,
   "metadata": {},
   "outputs": [
    {
     "data": {
      "text/plain": [
       "<seaborn.axisgrid.FacetGrid at 0x7f9e19b45150>"
      ]
     },
     "execution_count": 46,
     "metadata": {},
     "output_type": "execute_result"
    },
    {
     "data": {
      "image/png": "[encoded data removed]",
      "text/plain": [
       "<Figure size 432.175x360 with 1 Axes>"
      ]
     },
     "metadata": {},
     "output_type": "display_data"
    }
   ],
   "source": [
    "sns.set_theme(style=\"whitegrid\")\n",
    "\n",
    "# Load the example planets dataset\n",
    "#planets = sns.load_dataset(\"planets\")\n",
    "\n",
    "cmap = sns.cubehelix_palette(rot=-.2, as_cmap=True)\n",
    "g = sns.relplot(\n",
    "    data=x,\n",
    "    x=\"Aprovado\", y=\"Idade Vest\",size = 'Idade Vest',\n",
    "    palette=cmap, sizes=(10, 200),\n",
    ")\n",
    "#g.set(xscale=\"log\", yscale=\"log\")\n",
    "plt.ylim([16, 50])\n",
    "\n",
    "g.ax.xaxis.grid(True, \"minor\", linewidth=.25)\n",
    "g.ax.yaxis.grid(True, \"minor\", linewidth=.25)\n",
    "g.despine(left=True, bottom=True)"
   ]
  },
  {
   "cell_type": "code",
   "execution_count": 65,
   "metadata": {},
   "outputs": [
    {
     "data": {
      "text/plain": [
       "Matricula                20043\n",
       "Idade Vest               20043\n",
       "Aprovado                 20043\n",
       "IAA Hist Sem             20043\n",
       "Etnia                    16771\n",
       "Situacao Aluno           20043\n",
       "Periodo Vest             20043\n",
       "Categoria de Ingresso    10133\n",
       "dtype: int64"
      ]
     },
     "execution_count": 65,
     "metadata": {},
     "output_type": "execute_result"
    }
   ],
   "source": [
    "x[x['Idade Vest']<22].count()"
   ]
  },
  {
   "cell_type": "code",
   "execution_count": 69,
   "metadata": {},
   "outputs": [
    {
     "data": {
      "text/plain": [
       "0.9076212471131639"
      ]
     },
     "execution_count": 69,
     "metadata": {},
     "output_type": "execute_result"
    }
   ],
   "source": [
    "20043/22083"
   ]
  },
  {
   "cell_type": "code",
   "execution_count": 64,
   "metadata": {},
   "outputs": [
    {
     "data": {
      "text/plain": [
       "Matricula                500\n",
       "Idade Vest               500\n",
       "Aprovado                 500\n",
       "IAA Hist Sem             500\n",
       "Etnia                    446\n",
       "Situacao Aluno           500\n",
       "Periodo Vest             500\n",
       "Categoria de Ingresso    346\n",
       "dtype: int64"
      ]
     },
     "execution_count": 64,
     "metadata": {},
     "output_type": "execute_result"
    }
   ],
   "source": [
    "x[x['Idade Vest']>28].count()"
   ]
  },
  {
   "cell_type": "code",
   "execution_count": 63,
   "metadata": {},
   "outputs": [
    {
     "data": {
      "text/plain": [
       "Matricula                1540\n",
       "Idade Vest               1540\n",
       "Aprovado                 1540\n",
       "IAA Hist Sem             1540\n",
       "Etnia                    1391\n",
       "Situacao Aluno           1540\n",
       "Periodo Vest             1540\n",
       "Categoria de Ingresso    1001\n",
       "dtype: int64"
      ]
     },
     "execution_count": 63,
     "metadata": {},
     "output_type": "execute_result"
    }
   ],
   "source": [
    "t = x[x['Idade Vest']<28]\n",
    "t[t['Idade Vest']>22].count()"
   ]
  },
  {
   "cell_type": "code",
   "execution_count": 62,
   "metadata": {},
   "outputs": [
    {
     "name": "stderr",
     "output_type": "stream",
     "text": [
      "No handles with labels found to put in legend.\n"
     ]
    },
    {
     "data": {
      "text/plain": [
       "(array([ 0.,  2.,  4.,  6.,  8., 10., 12.]),\n",
       " [Text(0, 0, ''),\n",
       "  Text(0, 0, ''),\n",
       "  Text(0, 0, ''),\n",
       "  Text(0, 0, ''),\n",
       "  Text(0, 0, ''),\n",
       "  Text(0, 0, ''),\n",
       "  Text(0, 0, '')])"
      ]
     },
     "execution_count": 62,
     "metadata": {},
     "output_type": "execute_result"
    },
    {
     "data": {
      "image/png": "[encoded data removed]",
      "text/plain": [
       "<Figure size 432x648 with 1 Axes>"
      ]
     },
     "metadata": {},
     "output_type": "display_data"
    }
   ],
   "source": [
    "sns.set_theme(style=\"whitegrid\")\n",
    "\n",
    "# Initialize the matplotlib figure\n",
    "f, ax = plt.subplots(figsize=(6, 9))\n",
    "\n",
    "# Plot the total crashes\n",
    "sns.set_color_codes(\"pastel\")\n",
    "sns.barplot(x=\"Idade Vest\", y=\"IAA Hist Sem\", data=x, color=\"b\")\n",
    "\n",
    "# Plot the crashes where alcohol was involved\n",
    "#sns.set_color_codes(\"muted\")\n",
    "#sns.barplot(x=\"alcohol\", y=\"abbrev\", data=crashes,label=\"Alcohol-involved\", color=\"b\")\n",
    "\n",
    "# Add a legend and informative axis label\n",
    "ax.legend(ncol=2, loc=\"lower right\", frameon=True)\n",
    "ax.set(xlim=(0, 24), ylabel=\"\", xlabel=\"Idade\")\n",
    "sns.despine(left=True, bottom=True)\n",
    "plt.xticks(rotation='vertical')\n",
    "plt.yticks(rotation='vertical')"
   ]
  },
  {
   "cell_type": "markdown",
   "metadata": {},
   "source": [
    "### Tipo Currículo"
   ]
  },
  {
   "cell_type": "code",
   "execution_count": 213,
   "metadata": {},
   "outputs": [
    {
     "name": "stdout",
     "output_type": "stream",
     "text": [
      "Ob 0.8229731106506023\n",
      "Op 0.8759445273969504\n",
      "Ex 0.7823411984160749\n",
      "nan nan\n"
     ]
    }
   ],
   "source": [
    "x = df.groupby(['Matricula']).agg({'Matricula':'first','TipoCurriculo':'first','Idade Vest':'first','Aprovado':'mean','IAA Hist Sem':'last','Etnia':'last','Situacao Aluno':'last','Periodo Vest':'first','Categoria de Ingresso':'first'})\n",
    "for i in df['TipoCurriculo'].unique():\n",
    "    t = df[df['TipoCurriculo'] == i]\n",
    "    print(i,t['Aprovado'].mean())"
   ]
  },
  {
   "cell_type": "code",
   "execution_count": 215,
   "metadata": {},
   "outputs": [
    {
     "data": {
      "text/plain": [
       "0.9980673213297276"
      ]
     },
     "execution_count": 215,
     "metadata": {},
     "output_type": "execute_result"
    }
   ],
   "source": [
    "df[~df['TipoCurriculo'].isna()]['Disciplina'].count()/ df['Disciplina'].count()"
   ]
  },
  {
   "cell_type": "code",
   "execution_count": 105,
   "metadata": {},
   "outputs": [
    {
     "data": {
      "text/plain": [
       "Text(0.5, 1.0, 'Boxplot de aprovação média - Tipo de currículo')"
      ]
     },
     "execution_count": 105,
     "metadata": {},
     "output_type": "execute_result"
    },
    {
     "data": {
      "image/png": "[encoded data removed]",
      "text/plain": [
       "<Figure size 432x288 with 1 Axes>"
      ]
     },
     "metadata": {
      "needs_background": "light"
     },
     "output_type": "display_data"
    }
   ],
   "source": [
    "x = df.groupby(['Matricula']).agg({'Matricula':'first','TipoCurriculo':'first','Idade Vest':'first','Aprovado':'mean','IAA Hist Sem':'last','Etnia':'last','Situacao Aluno':'last','Periodo Vest':'first','Categoria de Ingresso':'first'})\n",
    "#Histogramas\n",
    "#g = sns.distplot(t[t['Categoria de Ingresso'] == 'Sim']['Aprovado'],kde=False)\n",
    "#Boxplots\n",
    "#x = df.groupby(['Matricula']).agg({'Matricula':'first','Aprovado':'mean','IAA Hist Sem':'last','Situacao Aluno':'last'})\n",
    "g = sns.boxplot(x = x['TipoCurriculo'],y = x['Aprovado'])\n",
    "\n",
    "plt.xlabel('Tipo de currículo')\n",
    "plt.ylabel('Aprovação média')\n",
    "plt.title('Boxplot de aprovação média - Tipo de currículo')\n",
    "#g.set_xticklabels(g.get_xticklabels(),rotation=90)"
   ]
  },
  {
   "cell_type": "markdown",
   "metadata": {},
   "source": [
    "### Vez"
   ]
  },
  {
   "cell_type": "code",
   "execution_count": 18,
   "metadata": {},
   "outputs": [
    {
     "name": "stdout",
     "output_type": "stream",
     "text": [
      "0 89 87.0 7.147682088469906\n",
      "1 41 8.0 4.068992944662352\n",
      "2 25 2.0 2.9338105228516187\n",
      "3 18 1.0 2.2958194328607173\n",
      "7 7 0.0 1.1199021207177815\n",
      "5 11 0.0 1.506070143884892\n",
      "6 11 0.0 1.4397071490094746\n",
      "4 14 0.0 1.8929459642776396\n",
      "8 7 0.0 1.0338709677419355\n",
      "9 5 0.0 0.78125\n",
      "10 4 0.0 0.8809523809523809\n",
      "14 25 0.0 1.75\n",
      "12 7 0.0 1.0\n",
      "15 0 0.0 1.0\n",
      "11 6 0.0 1.0277777777777777\n",
      "13 0 0.0 2.25\n"
     ]
    }
   ],
   "source": [
    "for i in df['vez'].unique():\n",
    "    print(i,round(100*df[df['vez'] == i]['Aprovado'].mean()),round(100*df[df['vez']==i]['Disciplina'].count()/df['Disciplina'].count()),df[df['vez'] == i]['Nota'].mean())"
   ]
  },
  {
   "cell_type": "code",
   "execution_count": 16,
   "metadata": {},
   "outputs": [
    {
     "name": "stderr",
     "output_type": "stream",
     "text": [
      "No handles with labels found to put in legend.\n"
     ]
    },
    {
     "data": {
      "text/plain": [
       "(array([0. , 0.2, 0.4, 0.6, 0.8, 1. ]),\n",
       " [Text(0, 0, ''),\n",
       "  Text(0, 0, ''),\n",
       "  Text(0, 0, ''),\n",
       "  Text(0, 0, ''),\n",
       "  Text(0, 0, ''),\n",
       "  Text(0, 0, '')])"
      ]
     },
     "execution_count": 16,
     "metadata": {},
     "output_type": "execute_result"
    },
    {
     "data": {
      "image/png": "[encoded data removed]",
      "text/plain": [
       "<Figure size 432x648 with 1 Axes>"
      ]
     },
     "metadata": {},
     "output_type": "display_data"
    }
   ],
   "source": [
    "x = df.groupby(['vez']).agg({'Matricula':'first','TipoCurriculo':'first','Idade Vest':'first','Aprovado':'mean','IAA Hist Sem':'last','Etnia':'last','Situacao Aluno':'last','Periodo Vest':'first','Categoria de Ingresso':'first'})\n",
    "sns.set_theme(style=\"whitegrid\")\n",
    "x.reset_index(inplace=True)\n",
    "x['vez'] = x['vez'].apply(lambda x: x+1)\n",
    "# Initialize the matplotlib figure\n",
    "f, ax = plt.subplots(figsize=(6, 9))\n",
    "\n",
    "# Plot the total crashes\n",
    "sns.set_color_codes(\"pastel\")\n",
    "sns.barplot(x=\"vez\", y=\"Aprovado\", data=x, color=\"b\")\n",
    "\n",
    "# Plot the crashes where alcohol was involved\n",
    "#sns.set_color_codes(\"muted\")\n",
    "#sns.barplot(x=\"alcohol\", y=\"abbrev\", data=crashes,label=\"Alcohol-involved\", color=\"b\")\n",
    "\n",
    "# Add a legend and informative axis label\n",
    "ax.legend(ncol=2, loc=\"lower right\", frameon=True)\n",
    "ax.set(xlim=(0, 16),ylim=(0,1), ylabel=\"Aprovação média\", xlabel=\"Vez\")\n",
    "sns.despine(left=True, bottom=True)\n",
    "plt.xticks(rotation='vertical')\n",
    "plt.yticks(rotation='vertical')"
   ]
  },
  {
   "cell_type": "code",
   "execution_count": 22,
   "metadata": {},
   "outputs": [
    {
     "data": {
      "text/html": [
       "<div>\n",
       "<style scoped>\n",
       "    .dataframe tbody tr th:only-of-type {\n",
       "        vertical-align: middle;\n",
       "    }\n",
       "\n",
       "    .dataframe tbody tr th {\n",
       "        vertical-align: top;\n",
       "    }\n",
       "\n",
       "    .dataframe thead th {\n",
       "        text-align: right;\n",
       "    }\n",
       "</style>\n",
       "<table border=\"1\" class=\"dataframe\">\n",
       "  <thead>\n",
       "    <tr style=\"text-align: right;\">\n",
       "      <th></th>\n",
       "      <th>Matricula</th>\n",
       "      <th>Semestre Historico</th>\n",
       "      <th>Matricula Professor</th>\n",
       "      <th>Disciplina</th>\n",
       "      <th>Periodo Vest</th>\n",
       "      <th>CPF</th>\n",
       "      <th>Sexo</th>\n",
       "      <th>Curso</th>\n",
       "      <th>Nome Curso</th>\n",
       "      <th>Pontos Vest</th>\n",
       "      <th>...</th>\n",
       "      <th>Aprovado</th>\n",
       "      <th>vez</th>\n",
       "      <th>Cont Disc</th>\n",
       "      <th>Aprov Disc</th>\n",
       "      <th>Aprov Aluno</th>\n",
       "      <th>Aprov Prof</th>\n",
       "      <th>Aprov -3</th>\n",
       "      <th>Aprov -1</th>\n",
       "      <th>IAA Sem</th>\n",
       "      <th>IAA Hist Sem</th>\n",
       "    </tr>\n",
       "  </thead>\n",
       "  <tbody>\n",
       "    <tr>\n",
       "      <th>255141</th>\n",
       "      <td>4241266</td>\n",
       "      <td>20071</td>\n",
       "      <td>31733.0</td>\n",
       "      <td>EEL7846</td>\n",
       "      <td>20042</td>\n",
       "      <td>1.013112e+09</td>\n",
       "      <td>M</td>\n",
       "      <td>202</td>\n",
       "      <td>ENGENHARIA ELÉTRICA</td>\n",
       "      <td>6042.0</td>\n",
       "      <td>...</td>\n",
       "      <td>1</td>\n",
       "      <td>0</td>\n",
       "      <td>14</td>\n",
       "      <td>0.982143</td>\n",
       "      <td>0.976744</td>\n",
       "      <td>1.000000</td>\n",
       "      <td>1.0</td>\n",
       "      <td>1.0</td>\n",
       "      <td>8.084906</td>\n",
       "      <td>7.531977</td>\n",
       "    </tr>\n",
       "    <tr>\n",
       "      <th>255142</th>\n",
       "      <td>4241266</td>\n",
       "      <td>20071</td>\n",
       "      <td>31733.0</td>\n",
       "      <td>EEL7810</td>\n",
       "      <td>20042</td>\n",
       "      <td>1.013112e+09</td>\n",
       "      <td>M</td>\n",
       "      <td>202</td>\n",
       "      <td>ENGENHARIA ELÉTRICA</td>\n",
       "      <td>6042.0</td>\n",
       "      <td>...</td>\n",
       "      <td>1</td>\n",
       "      <td>0</td>\n",
       "      <td>14</td>\n",
       "      <td>0.976821</td>\n",
       "      <td>0.976744</td>\n",
       "      <td>1.000000</td>\n",
       "      <td>1.0</td>\n",
       "      <td>1.0</td>\n",
       "      <td>8.084906</td>\n",
       "      <td>7.531977</td>\n",
       "    </tr>\n",
       "    <tr>\n",
       "      <th>255143</th>\n",
       "      <td>4241266</td>\n",
       "      <td>20071</td>\n",
       "      <td>39432.0</td>\n",
       "      <td>EPS5209</td>\n",
       "      <td>20042</td>\n",
       "      <td>1.013112e+09</td>\n",
       "      <td>M</td>\n",
       "      <td>202</td>\n",
       "      <td>ENGENHARIA ELÉTRICA</td>\n",
       "      <td>6042.0</td>\n",
       "      <td>...</td>\n",
       "      <td>1</td>\n",
       "      <td>0</td>\n",
       "      <td>14</td>\n",
       "      <td>0.971560</td>\n",
       "      <td>0.976744</td>\n",
       "      <td>0.970619</td>\n",
       "      <td>1.0</td>\n",
       "      <td>1.0</td>\n",
       "      <td>8.084906</td>\n",
       "      <td>7.531977</td>\n",
       "    </tr>\n",
       "    <tr>\n",
       "      <th>255144</th>\n",
       "      <td>4241266</td>\n",
       "      <td>20071</td>\n",
       "      <td>45041.0</td>\n",
       "      <td>EEL7847</td>\n",
       "      <td>20042</td>\n",
       "      <td>1.013112e+09</td>\n",
       "      <td>M</td>\n",
       "      <td>202</td>\n",
       "      <td>ENGENHARIA ELÉTRICA</td>\n",
       "      <td>6042.0</td>\n",
       "      <td>...</td>\n",
       "      <td>1</td>\n",
       "      <td>0</td>\n",
       "      <td>14</td>\n",
       "      <td>1.000000</td>\n",
       "      <td>0.976744</td>\n",
       "      <td>1.000000</td>\n",
       "      <td>1.0</td>\n",
       "      <td>1.0</td>\n",
       "      <td>8.084906</td>\n",
       "      <td>7.531977</td>\n",
       "    </tr>\n",
       "    <tr>\n",
       "      <th>255145</th>\n",
       "      <td>4241266</td>\n",
       "      <td>20071</td>\n",
       "      <td>46790.0</td>\n",
       "      <td>EEL7203</td>\n",
       "      <td>20042</td>\n",
       "      <td>1.013112e+09</td>\n",
       "      <td>M</td>\n",
       "      <td>202</td>\n",
       "      <td>ENGENHARIA ELÉTRICA</td>\n",
       "      <td>6042.0</td>\n",
       "      <td>...</td>\n",
       "      <td>1</td>\n",
       "      <td>0</td>\n",
       "      <td>14</td>\n",
       "      <td>0.931034</td>\n",
       "      <td>0.976744</td>\n",
       "      <td>0.931034</td>\n",
       "      <td>1.0</td>\n",
       "      <td>1.0</td>\n",
       "      <td>8.084906</td>\n",
       "      <td>7.531977</td>\n",
       "    </tr>\n",
       "    <tr>\n",
       "      <th>255146</th>\n",
       "      <td>4241266</td>\n",
       "      <td>20071</td>\n",
       "      <td>50576.0</td>\n",
       "      <td>EEL7836</td>\n",
       "      <td>20042</td>\n",
       "      <td>1.013112e+09</td>\n",
       "      <td>M</td>\n",
       "      <td>202</td>\n",
       "      <td>ENGENHARIA ELÉTRICA</td>\n",
       "      <td>6042.0</td>\n",
       "      <td>...</td>\n",
       "      <td>1</td>\n",
       "      <td>0</td>\n",
       "      <td>14</td>\n",
       "      <td>0.980769</td>\n",
       "      <td>0.976744</td>\n",
       "      <td>0.985185</td>\n",
       "      <td>1.0</td>\n",
       "      <td>1.0</td>\n",
       "      <td>8.084906</td>\n",
       "      <td>7.531977</td>\n",
       "    </tr>\n",
       "    <tr>\n",
       "      <th>255147</th>\n",
       "      <td>4241266</td>\n",
       "      <td>20071</td>\n",
       "      <td>51190.0</td>\n",
       "      <td>EFC5801</td>\n",
       "      <td>20042</td>\n",
       "      <td>1.013112e+09</td>\n",
       "      <td>M</td>\n",
       "      <td>202</td>\n",
       "      <td>ENGENHARIA ELÉTRICA</td>\n",
       "      <td>6042.0</td>\n",
       "      <td>...</td>\n",
       "      <td>1</td>\n",
       "      <td>0</td>\n",
       "      <td>14</td>\n",
       "      <td>0.913495</td>\n",
       "      <td>0.976744</td>\n",
       "      <td>0.902439</td>\n",
       "      <td>1.0</td>\n",
       "      <td>1.0</td>\n",
       "      <td>8.084906</td>\n",
       "      <td>7.531977</td>\n",
       "    </tr>\n",
       "    <tr>\n",
       "      <th>255148</th>\n",
       "      <td>4241266</td>\n",
       "      <td>20071</td>\n",
       "      <td>54806.0</td>\n",
       "      <td>EEL7815</td>\n",
       "      <td>20042</td>\n",
       "      <td>1.013112e+09</td>\n",
       "      <td>M</td>\n",
       "      <td>202</td>\n",
       "      <td>ENGENHARIA ELÉTRICA</td>\n",
       "      <td>6042.0</td>\n",
       "      <td>...</td>\n",
       "      <td>1</td>\n",
       "      <td>0</td>\n",
       "      <td>14</td>\n",
       "      <td>0.950000</td>\n",
       "      <td>0.976744</td>\n",
       "      <td>0.941176</td>\n",
       "      <td>1.0</td>\n",
       "      <td>1.0</td>\n",
       "      <td>8.084906</td>\n",
       "      <td>7.531977</td>\n",
       "    </tr>\n",
       "    <tr>\n",
       "      <th>255149</th>\n",
       "      <td>4241266</td>\n",
       "      <td>20071</td>\n",
       "      <td>70615.0</td>\n",
       "      <td>EEL7403</td>\n",
       "      <td>20042</td>\n",
       "      <td>1.013112e+09</td>\n",
       "      <td>M</td>\n",
       "      <td>202</td>\n",
       "      <td>ENGENHARIA ELÉTRICA</td>\n",
       "      <td>6042.0</td>\n",
       "      <td>...</td>\n",
       "      <td>1</td>\n",
       "      <td>0</td>\n",
       "      <td>14</td>\n",
       "      <td>0.876623</td>\n",
       "      <td>0.976744</td>\n",
       "      <td>0.848214</td>\n",
       "      <td>1.0</td>\n",
       "      <td>1.0</td>\n",
       "      <td>8.084906</td>\n",
       "      <td>7.531977</td>\n",
       "    </tr>\n",
       "    <tr>\n",
       "      <th>255150</th>\n",
       "      <td>4241266</td>\n",
       "      <td>20071</td>\n",
       "      <td>73932.0</td>\n",
       "      <td>EMC5125</td>\n",
       "      <td>20042</td>\n",
       "      <td>1.013112e+09</td>\n",
       "      <td>M</td>\n",
       "      <td>202</td>\n",
       "      <td>ENGENHARIA ELÉTRICA</td>\n",
       "      <td>6042.0</td>\n",
       "      <td>...</td>\n",
       "      <td>1</td>\n",
       "      <td>0</td>\n",
       "      <td>14</td>\n",
       "      <td>0.816895</td>\n",
       "      <td>0.976744</td>\n",
       "      <td>0.691489</td>\n",
       "      <td>1.0</td>\n",
       "      <td>1.0</td>\n",
       "      <td>8.084906</td>\n",
       "      <td>7.531977</td>\n",
       "    </tr>\n",
       "    <tr>\n",
       "      <th>255151</th>\n",
       "      <td>4241266</td>\n",
       "      <td>20071</td>\n",
       "      <td>82249.0</td>\n",
       "      <td>EEL7071</td>\n",
       "      <td>20042</td>\n",
       "      <td>1.013112e+09</td>\n",
       "      <td>M</td>\n",
       "      <td>202</td>\n",
       "      <td>ENGENHARIA ELÉTRICA</td>\n",
       "      <td>6042.0</td>\n",
       "      <td>...</td>\n",
       "      <td>1</td>\n",
       "      <td>0</td>\n",
       "      <td>14</td>\n",
       "      <td>0.744489</td>\n",
       "      <td>0.976744</td>\n",
       "      <td>0.647922</td>\n",
       "      <td>1.0</td>\n",
       "      <td>1.0</td>\n",
       "      <td>8.084906</td>\n",
       "      <td>7.531977</td>\n",
       "    </tr>\n",
       "    <tr>\n",
       "      <th>255152</th>\n",
       "      <td>4241266</td>\n",
       "      <td>20071</td>\n",
       "      <td>108264.0</td>\n",
       "      <td>EEL7407</td>\n",
       "      <td>20042</td>\n",
       "      <td>1.013112e+09</td>\n",
       "      <td>M</td>\n",
       "      <td>202</td>\n",
       "      <td>ENGENHARIA ELÉTRICA</td>\n",
       "      <td>6042.0</td>\n",
       "      <td>...</td>\n",
       "      <td>1</td>\n",
       "      <td>0</td>\n",
       "      <td>14</td>\n",
       "      <td>0.974619</td>\n",
       "      <td>0.976744</td>\n",
       "      <td>0.974619</td>\n",
       "      <td>1.0</td>\n",
       "      <td>1.0</td>\n",
       "      <td>8.084906</td>\n",
       "      <td>7.531977</td>\n",
       "    </tr>\n",
       "    <tr>\n",
       "      <th>255153</th>\n",
       "      <td>4241266</td>\n",
       "      <td>20071</td>\n",
       "      <td>134575.0</td>\n",
       "      <td>EMC5425</td>\n",
       "      <td>20042</td>\n",
       "      <td>1.013112e+09</td>\n",
       "      <td>M</td>\n",
       "      <td>202</td>\n",
       "      <td>ENGENHARIA ELÉTRICA</td>\n",
       "      <td>6042.0</td>\n",
       "      <td>...</td>\n",
       "      <td>1</td>\n",
       "      <td>0</td>\n",
       "      <td>14</td>\n",
       "      <td>0.769231</td>\n",
       "      <td>0.976744</td>\n",
       "      <td>0.822368</td>\n",
       "      <td>1.0</td>\n",
       "      <td>1.0</td>\n",
       "      <td>8.084906</td>\n",
       "      <td>7.531977</td>\n",
       "    </tr>\n",
       "    <tr>\n",
       "      <th>255154</th>\n",
       "      <td>4241266</td>\n",
       "      <td>20071</td>\n",
       "      <td>135881.0</td>\n",
       "      <td>EEL7220</td>\n",
       "      <td>20042</td>\n",
       "      <td>1.013112e+09</td>\n",
       "      <td>M</td>\n",
       "      <td>202</td>\n",
       "      <td>ENGENHARIA ELÉTRICA</td>\n",
       "      <td>6042.0</td>\n",
       "      <td>...</td>\n",
       "      <td>1</td>\n",
       "      <td>0</td>\n",
       "      <td>14</td>\n",
       "      <td>1.000000</td>\n",
       "      <td>0.976744</td>\n",
       "      <td>1.000000</td>\n",
       "      <td>1.0</td>\n",
       "      <td>1.0</td>\n",
       "      <td>8.084906</td>\n",
       "      <td>7.531977</td>\n",
       "    </tr>\n",
       "  </tbody>\n",
       "</table>\n",
       "<p>14 rows × 32 columns</p>\n",
       "</div>"
      ],
      "text/plain": [
       "        Matricula  Semestre Historico  Matricula Professor Disciplina  \\\n",
       "255141    4241266               20071              31733.0    EEL7846   \n",
       "255142    4241266               20071              31733.0    EEL7810   \n",
       "255143    4241266               20071              39432.0    EPS5209   \n",
       "255144    4241266               20071              45041.0    EEL7847   \n",
       "255145    4241266               20071              46790.0    EEL7203   \n",
       "255146    4241266               20071              50576.0    EEL7836   \n",
       "255147    4241266               20071              51190.0    EFC5801   \n",
       "255148    4241266               20071              54806.0    EEL7815   \n",
       "255149    4241266               20071              70615.0    EEL7403   \n",
       "255150    4241266               20071              73932.0    EMC5125   \n",
       "255151    4241266               20071              82249.0    EEL7071   \n",
       "255152    4241266               20071             108264.0    EEL7407   \n",
       "255153    4241266               20071             134575.0    EMC5425   \n",
       "255154    4241266               20071             135881.0    EEL7220   \n",
       "\n",
       "        Periodo Vest           CPF Sexo  Curso           Nome Curso  \\\n",
       "255141         20042  1.013112e+09    M    202  ENGENHARIA ELÉTRICA   \n",
       "255142         20042  1.013112e+09    M    202  ENGENHARIA ELÉTRICA   \n",
       "255143         20042  1.013112e+09    M    202  ENGENHARIA ELÉTRICA   \n",
       "255144         20042  1.013112e+09    M    202  ENGENHARIA ELÉTRICA   \n",
       "255145         20042  1.013112e+09    M    202  ENGENHARIA ELÉTRICA   \n",
       "255146         20042  1.013112e+09    M    202  ENGENHARIA ELÉTRICA   \n",
       "255147         20042  1.013112e+09    M    202  ENGENHARIA ELÉTRICA   \n",
       "255148         20042  1.013112e+09    M    202  ENGENHARIA ELÉTRICA   \n",
       "255149         20042  1.013112e+09    M    202  ENGENHARIA ELÉTRICA   \n",
       "255150         20042  1.013112e+09    M    202  ENGENHARIA ELÉTRICA   \n",
       "255151         20042  1.013112e+09    M    202  ENGENHARIA ELÉTRICA   \n",
       "255152         20042  1.013112e+09    M    202  ENGENHARIA ELÉTRICA   \n",
       "255153         20042  1.013112e+09    M    202  ENGENHARIA ELÉTRICA   \n",
       "255154         20042  1.013112e+09    M    202  ENGENHARIA ELÉTRICA   \n",
       "\n",
       "        Pontos Vest  ...  Aprovado vez  Cont Disc Aprov Disc Aprov Aluno  \\\n",
       "255141       6042.0  ...         1   0         14   0.982143    0.976744   \n",
       "255142       6042.0  ...         1   0         14   0.976821    0.976744   \n",
       "255143       6042.0  ...         1   0         14   0.971560    0.976744   \n",
       "255144       6042.0  ...         1   0         14   1.000000    0.976744   \n",
       "255145       6042.0  ...         1   0         14   0.931034    0.976744   \n",
       "255146       6042.0  ...         1   0         14   0.980769    0.976744   \n",
       "255147       6042.0  ...         1   0         14   0.913495    0.976744   \n",
       "255148       6042.0  ...         1   0         14   0.950000    0.976744   \n",
       "255149       6042.0  ...         1   0         14   0.876623    0.976744   \n",
       "255150       6042.0  ...         1   0         14   0.816895    0.976744   \n",
       "255151       6042.0  ...         1   0         14   0.744489    0.976744   \n",
       "255152       6042.0  ...         1   0         14   0.974619    0.976744   \n",
       "255153       6042.0  ...         1   0         14   0.769231    0.976744   \n",
       "255154       6042.0  ...         1   0         14   1.000000    0.976744   \n",
       "\n",
       "        Aprov Prof  Aprov -3 Aprov -1   IAA Sem IAA Hist Sem  \n",
       "255141    1.000000       1.0      1.0  8.084906     7.531977  \n",
       "255142    1.000000       1.0      1.0  8.084906     7.531977  \n",
       "255143    0.970619       1.0      1.0  8.084906     7.531977  \n",
       "255144    1.000000       1.0      1.0  8.084906     7.531977  \n",
       "255145    0.931034       1.0      1.0  8.084906     7.531977  \n",
       "255146    0.985185       1.0      1.0  8.084906     7.531977  \n",
       "255147    0.902439       1.0      1.0  8.084906     7.531977  \n",
       "255148    0.941176       1.0      1.0  8.084906     7.531977  \n",
       "255149    0.848214       1.0      1.0  8.084906     7.531977  \n",
       "255150    0.691489       1.0      1.0  8.084906     7.531977  \n",
       "255151    0.647922       1.0      1.0  8.084906     7.531977  \n",
       "255152    0.974619       1.0      1.0  8.084906     7.531977  \n",
       "255153    0.822368       1.0      1.0  8.084906     7.531977  \n",
       "255154    1.000000       1.0      1.0  8.084906     7.531977  \n",
       "\n",
       "[14 rows x 32 columns]"
      ]
     },
     "execution_count": 22,
     "metadata": {},
     "output_type": "execute_result"
    }
   ],
   "source": [
    "d = df[df['Matricula'] == 4241266]\n",
    "d[d['Semestre Historico'] == 20071]"
   ]
  },
  {
   "cell_type": "code",
   "execution_count": 20,
   "metadata": {},
   "outputs": [
    {
     "data": {
      "text/html": [
       "<div>\n",
       "<style scoped>\n",
       "    .dataframe tbody tr th:only-of-type {\n",
       "        vertical-align: middle;\n",
       "    }\n",
       "\n",
       "    .dataframe tbody tr th {\n",
       "        vertical-align: top;\n",
       "    }\n",
       "\n",
       "    .dataframe thead th {\n",
       "        text-align: right;\n",
       "    }\n",
       "</style>\n",
       "<table border=\"1\" class=\"dataframe\">\n",
       "  <thead>\n",
       "    <tr style=\"text-align: right;\">\n",
       "      <th></th>\n",
       "      <th>Matricula</th>\n",
       "      <th>Semestre Historico</th>\n",
       "      <th>Matricula Professor</th>\n",
       "      <th>Disciplina</th>\n",
       "      <th>Periodo Vest</th>\n",
       "      <th>CPF</th>\n",
       "      <th>Sexo</th>\n",
       "      <th>Curso</th>\n",
       "      <th>Nome Curso</th>\n",
       "      <th>Pontos Vest</th>\n",
       "      <th>...</th>\n",
       "      <th>Aprovado</th>\n",
       "      <th>vez</th>\n",
       "      <th>Cont Disc</th>\n",
       "      <th>Aprov Disc</th>\n",
       "      <th>Aprov Aluno</th>\n",
       "      <th>Aprov Prof</th>\n",
       "      <th>Aprov -3</th>\n",
       "      <th>Aprov -1</th>\n",
       "      <th>IAA Sem</th>\n",
       "      <th>IAA Hist Sem</th>\n",
       "    </tr>\n",
       "  </thead>\n",
       "  <tbody>\n",
       "    <tr>\n",
       "      <th>255141</th>\n",
       "      <td>4241266</td>\n",
       "      <td>20071</td>\n",
       "      <td>31733.0</td>\n",
       "      <td>EEL7846</td>\n",
       "      <td>20042</td>\n",
       "      <td>1.013112e+09</td>\n",
       "      <td>M</td>\n",
       "      <td>202</td>\n",
       "      <td>ENGENHARIA ELÉTRICA</td>\n",
       "      <td>6042.0</td>\n",
       "      <td>...</td>\n",
       "      <td>1</td>\n",
       "      <td>0</td>\n",
       "      <td>14</td>\n",
       "      <td>0.982143</td>\n",
       "      <td>0.976744</td>\n",
       "      <td>1.000000</td>\n",
       "      <td>1.0</td>\n",
       "      <td>1.0</td>\n",
       "      <td>8.084906</td>\n",
       "      <td>7.531977</td>\n",
       "    </tr>\n",
       "    <tr>\n",
       "      <th>255142</th>\n",
       "      <td>4241266</td>\n",
       "      <td>20071</td>\n",
       "      <td>31733.0</td>\n",
       "      <td>EEL7810</td>\n",
       "      <td>20042</td>\n",
       "      <td>1.013112e+09</td>\n",
       "      <td>M</td>\n",
       "      <td>202</td>\n",
       "      <td>ENGENHARIA ELÉTRICA</td>\n",
       "      <td>6042.0</td>\n",
       "      <td>...</td>\n",
       "      <td>1</td>\n",
       "      <td>0</td>\n",
       "      <td>14</td>\n",
       "      <td>0.976821</td>\n",
       "      <td>0.976744</td>\n",
       "      <td>1.000000</td>\n",
       "      <td>1.0</td>\n",
       "      <td>1.0</td>\n",
       "      <td>8.084906</td>\n",
       "      <td>7.531977</td>\n",
       "    </tr>\n",
       "    <tr>\n",
       "      <th>255143</th>\n",
       "      <td>4241266</td>\n",
       "      <td>20071</td>\n",
       "      <td>39432.0</td>\n",
       "      <td>EPS5209</td>\n",
       "      <td>20042</td>\n",
       "      <td>1.013112e+09</td>\n",
       "      <td>M</td>\n",
       "      <td>202</td>\n",
       "      <td>ENGENHARIA ELÉTRICA</td>\n",
       "      <td>6042.0</td>\n",
       "      <td>...</td>\n",
       "      <td>1</td>\n",
       "      <td>0</td>\n",
       "      <td>14</td>\n",
       "      <td>0.971560</td>\n",
       "      <td>0.976744</td>\n",
       "      <td>0.970619</td>\n",
       "      <td>1.0</td>\n",
       "      <td>1.0</td>\n",
       "      <td>8.084906</td>\n",
       "      <td>7.531977</td>\n",
       "    </tr>\n",
       "    <tr>\n",
       "      <th>255144</th>\n",
       "      <td>4241266</td>\n",
       "      <td>20071</td>\n",
       "      <td>45041.0</td>\n",
       "      <td>EEL7847</td>\n",
       "      <td>20042</td>\n",
       "      <td>1.013112e+09</td>\n",
       "      <td>M</td>\n",
       "      <td>202</td>\n",
       "      <td>ENGENHARIA ELÉTRICA</td>\n",
       "      <td>6042.0</td>\n",
       "      <td>...</td>\n",
       "      <td>1</td>\n",
       "      <td>0</td>\n",
       "      <td>14</td>\n",
       "      <td>1.000000</td>\n",
       "      <td>0.976744</td>\n",
       "      <td>1.000000</td>\n",
       "      <td>1.0</td>\n",
       "      <td>1.0</td>\n",
       "      <td>8.084906</td>\n",
       "      <td>7.531977</td>\n",
       "    </tr>\n",
       "    <tr>\n",
       "      <th>255145</th>\n",
       "      <td>4241266</td>\n",
       "      <td>20071</td>\n",
       "      <td>46790.0</td>\n",
       "      <td>EEL7203</td>\n",
       "      <td>20042</td>\n",
       "      <td>1.013112e+09</td>\n",
       "      <td>M</td>\n",
       "      <td>202</td>\n",
       "      <td>ENGENHARIA ELÉTRICA</td>\n",
       "      <td>6042.0</td>\n",
       "      <td>...</td>\n",
       "      <td>1</td>\n",
       "      <td>0</td>\n",
       "      <td>14</td>\n",
       "      <td>0.931034</td>\n",
       "      <td>0.976744</td>\n",
       "      <td>0.931034</td>\n",
       "      <td>1.0</td>\n",
       "      <td>1.0</td>\n",
       "      <td>8.084906</td>\n",
       "      <td>7.531977</td>\n",
       "    </tr>\n",
       "    <tr>\n",
       "      <th>255146</th>\n",
       "      <td>4241266</td>\n",
       "      <td>20071</td>\n",
       "      <td>50576.0</td>\n",
       "      <td>EEL7836</td>\n",
       "      <td>20042</td>\n",
       "      <td>1.013112e+09</td>\n",
       "      <td>M</td>\n",
       "      <td>202</td>\n",
       "      <td>ENGENHARIA ELÉTRICA</td>\n",
       "      <td>6042.0</td>\n",
       "      <td>...</td>\n",
       "      <td>1</td>\n",
       "      <td>0</td>\n",
       "      <td>14</td>\n",
       "      <td>0.980769</td>\n",
       "      <td>0.976744</td>\n",
       "      <td>0.985185</td>\n",
       "      <td>1.0</td>\n",
       "      <td>1.0</td>\n",
       "      <td>8.084906</td>\n",
       "      <td>7.531977</td>\n",
       "    </tr>\n",
       "    <tr>\n",
       "      <th>255147</th>\n",
       "      <td>4241266</td>\n",
       "      <td>20071</td>\n",
       "      <td>51190.0</td>\n",
       "      <td>EFC5801</td>\n",
       "      <td>20042</td>\n",
       "      <td>1.013112e+09</td>\n",
       "      <td>M</td>\n",
       "      <td>202</td>\n",
       "      <td>ENGENHARIA ELÉTRICA</td>\n",
       "      <td>6042.0</td>\n",
       "      <td>...</td>\n",
       "      <td>1</td>\n",
       "      <td>0</td>\n",
       "      <td>14</td>\n",
       "      <td>0.913495</td>\n",
       "      <td>0.976744</td>\n",
       "      <td>0.902439</td>\n",
       "      <td>1.0</td>\n",
       "      <td>1.0</td>\n",
       "      <td>8.084906</td>\n",
       "      <td>7.531977</td>\n",
       "    </tr>\n",
       "    <tr>\n",
       "      <th>255148</th>\n",
       "      <td>4241266</td>\n",
       "      <td>20071</td>\n",
       "      <td>54806.0</td>\n",
       "      <td>EEL7815</td>\n",
       "      <td>20042</td>\n",
       "      <td>1.013112e+09</td>\n",
       "      <td>M</td>\n",
       "      <td>202</td>\n",
       "      <td>ENGENHARIA ELÉTRICA</td>\n",
       "      <td>6042.0</td>\n",
       "      <td>...</td>\n",
       "      <td>1</td>\n",
       "      <td>0</td>\n",
       "      <td>14</td>\n",
       "      <td>0.950000</td>\n",
       "      <td>0.976744</td>\n",
       "      <td>0.941176</td>\n",
       "      <td>1.0</td>\n",
       "      <td>1.0</td>\n",
       "      <td>8.084906</td>\n",
       "      <td>7.531977</td>\n",
       "    </tr>\n",
       "    <tr>\n",
       "      <th>255149</th>\n",
       "      <td>4241266</td>\n",
       "      <td>20071</td>\n",
       "      <td>70615.0</td>\n",
       "      <td>EEL7403</td>\n",
       "      <td>20042</td>\n",
       "      <td>1.013112e+09</td>\n",
       "      <td>M</td>\n",
       "      <td>202</td>\n",
       "      <td>ENGENHARIA ELÉTRICA</td>\n",
       "      <td>6042.0</td>\n",
       "      <td>...</td>\n",
       "      <td>1</td>\n",
       "      <td>0</td>\n",
       "      <td>14</td>\n",
       "      <td>0.876623</td>\n",
       "      <td>0.976744</td>\n",
       "      <td>0.848214</td>\n",
       "      <td>1.0</td>\n",
       "      <td>1.0</td>\n",
       "      <td>8.084906</td>\n",
       "      <td>7.531977</td>\n",
       "    </tr>\n",
       "    <tr>\n",
       "      <th>255150</th>\n",
       "      <td>4241266</td>\n",
       "      <td>20071</td>\n",
       "      <td>73932.0</td>\n",
       "      <td>EMC5125</td>\n",
       "      <td>20042</td>\n",
       "      <td>1.013112e+09</td>\n",
       "      <td>M</td>\n",
       "      <td>202</td>\n",
       "      <td>ENGENHARIA ELÉTRICA</td>\n",
       "      <td>6042.0</td>\n",
       "      <td>...</td>\n",
       "      <td>1</td>\n",
       "      <td>0</td>\n",
       "      <td>14</td>\n",
       "      <td>0.816895</td>\n",
       "      <td>0.976744</td>\n",
       "      <td>0.691489</td>\n",
       "      <td>1.0</td>\n",
       "      <td>1.0</td>\n",
       "      <td>8.084906</td>\n",
       "      <td>7.531977</td>\n",
       "    </tr>\n",
       "    <tr>\n",
       "      <th>255151</th>\n",
       "      <td>4241266</td>\n",
       "      <td>20071</td>\n",
       "      <td>82249.0</td>\n",
       "      <td>EEL7071</td>\n",
       "      <td>20042</td>\n",
       "      <td>1.013112e+09</td>\n",
       "      <td>M</td>\n",
       "      <td>202</td>\n",
       "      <td>ENGENHARIA ELÉTRICA</td>\n",
       "      <td>6042.0</td>\n",
       "      <td>...</td>\n",
       "      <td>1</td>\n",
       "      <td>0</td>\n",
       "      <td>14</td>\n",
       "      <td>0.744489</td>\n",
       "      <td>0.976744</td>\n",
       "      <td>0.647922</td>\n",
       "      <td>1.0</td>\n",
       "      <td>1.0</td>\n",
       "      <td>8.084906</td>\n",
       "      <td>7.531977</td>\n",
       "    </tr>\n",
       "    <tr>\n",
       "      <th>255152</th>\n",
       "      <td>4241266</td>\n",
       "      <td>20071</td>\n",
       "      <td>108264.0</td>\n",
       "      <td>EEL7407</td>\n",
       "      <td>20042</td>\n",
       "      <td>1.013112e+09</td>\n",
       "      <td>M</td>\n",
       "      <td>202</td>\n",
       "      <td>ENGENHARIA ELÉTRICA</td>\n",
       "      <td>6042.0</td>\n",
       "      <td>...</td>\n",
       "      <td>1</td>\n",
       "      <td>0</td>\n",
       "      <td>14</td>\n",
       "      <td>0.974619</td>\n",
       "      <td>0.976744</td>\n",
       "      <td>0.974619</td>\n",
       "      <td>1.0</td>\n",
       "      <td>1.0</td>\n",
       "      <td>8.084906</td>\n",
       "      <td>7.531977</td>\n",
       "    </tr>\n",
       "    <tr>\n",
       "      <th>255153</th>\n",
       "      <td>4241266</td>\n",
       "      <td>20071</td>\n",
       "      <td>134575.0</td>\n",
       "      <td>EMC5425</td>\n",
       "      <td>20042</td>\n",
       "      <td>1.013112e+09</td>\n",
       "      <td>M</td>\n",
       "      <td>202</td>\n",
       "      <td>ENGENHARIA ELÉTRICA</td>\n",
       "      <td>6042.0</td>\n",
       "      <td>...</td>\n",
       "      <td>1</td>\n",
       "      <td>0</td>\n",
       "      <td>14</td>\n",
       "      <td>0.769231</td>\n",
       "      <td>0.976744</td>\n",
       "      <td>0.822368</td>\n",
       "      <td>1.0</td>\n",
       "      <td>1.0</td>\n",
       "      <td>8.084906</td>\n",
       "      <td>7.531977</td>\n",
       "    </tr>\n",
       "    <tr>\n",
       "      <th>255154</th>\n",
       "      <td>4241266</td>\n",
       "      <td>20071</td>\n",
       "      <td>135881.0</td>\n",
       "      <td>EEL7220</td>\n",
       "      <td>20042</td>\n",
       "      <td>1.013112e+09</td>\n",
       "      <td>M</td>\n",
       "      <td>202</td>\n",
       "      <td>ENGENHARIA ELÉTRICA</td>\n",
       "      <td>6042.0</td>\n",
       "      <td>...</td>\n",
       "      <td>1</td>\n",
       "      <td>0</td>\n",
       "      <td>14</td>\n",
       "      <td>1.000000</td>\n",
       "      <td>0.976744</td>\n",
       "      <td>1.000000</td>\n",
       "      <td>1.0</td>\n",
       "      <td>1.0</td>\n",
       "      <td>8.084906</td>\n",
       "      <td>7.531977</td>\n",
       "    </tr>\n",
       "  </tbody>\n",
       "</table>\n",
       "<p>14 rows × 32 columns</p>\n",
       "</div>"
      ],
      "text/plain": [
       "        Matricula  Semestre Historico  Matricula Professor Disciplina  \\\n",
       "255141    4241266               20071              31733.0    EEL7846   \n",
       "255142    4241266               20071              31733.0    EEL7810   \n",
       "255143    4241266               20071              39432.0    EPS5209   \n",
       "255144    4241266               20071              45041.0    EEL7847   \n",
       "255145    4241266               20071              46790.0    EEL7203   \n",
       "255146    4241266               20071              50576.0    EEL7836   \n",
       "255147    4241266               20071              51190.0    EFC5801   \n",
       "255148    4241266               20071              54806.0    EEL7815   \n",
       "255149    4241266               20071              70615.0    EEL7403   \n",
       "255150    4241266               20071              73932.0    EMC5125   \n",
       "255151    4241266               20071              82249.0    EEL7071   \n",
       "255152    4241266               20071             108264.0    EEL7407   \n",
       "255153    4241266               20071             134575.0    EMC5425   \n",
       "255154    4241266               20071             135881.0    EEL7220   \n",
       "\n",
       "        Periodo Vest           CPF Sexo  Curso           Nome Curso  \\\n",
       "255141         20042  1.013112e+09    M    202  ENGENHARIA ELÉTRICA   \n",
       "255142         20042  1.013112e+09    M    202  ENGENHARIA ELÉTRICA   \n",
       "255143         20042  1.013112e+09    M    202  ENGENHARIA ELÉTRICA   \n",
       "255144         20042  1.013112e+09    M    202  ENGENHARIA ELÉTRICA   \n",
       "255145         20042  1.013112e+09    M    202  ENGENHARIA ELÉTRICA   \n",
       "255146         20042  1.013112e+09    M    202  ENGENHARIA ELÉTRICA   \n",
       "255147         20042  1.013112e+09    M    202  ENGENHARIA ELÉTRICA   \n",
       "255148         20042  1.013112e+09    M    202  ENGENHARIA ELÉTRICA   \n",
       "255149         20042  1.013112e+09    M    202  ENGENHARIA ELÉTRICA   \n",
       "255150         20042  1.013112e+09    M    202  ENGENHARIA ELÉTRICA   \n",
       "255151         20042  1.013112e+09    M    202  ENGENHARIA ELÉTRICA   \n",
       "255152         20042  1.013112e+09    M    202  ENGENHARIA ELÉTRICA   \n",
       "255153         20042  1.013112e+09    M    202  ENGENHARIA ELÉTRICA   \n",
       "255154         20042  1.013112e+09    M    202  ENGENHARIA ELÉTRICA   \n",
       "\n",
       "        Pontos Vest  ...  Aprovado vez  Cont Disc Aprov Disc Aprov Aluno  \\\n",
       "255141       6042.0  ...         1   0         14   0.982143    0.976744   \n",
       "255142       6042.0  ...         1   0         14   0.976821    0.976744   \n",
       "255143       6042.0  ...         1   0         14   0.971560    0.976744   \n",
       "255144       6042.0  ...         1   0         14   1.000000    0.976744   \n",
       "255145       6042.0  ...         1   0         14   0.931034    0.976744   \n",
       "255146       6042.0  ...         1   0         14   0.980769    0.976744   \n",
       "255147       6042.0  ...         1   0         14   0.913495    0.976744   \n",
       "255148       6042.0  ...         1   0         14   0.950000    0.976744   \n",
       "255149       6042.0  ...         1   0         14   0.876623    0.976744   \n",
       "255150       6042.0  ...         1   0         14   0.816895    0.976744   \n",
       "255151       6042.0  ...         1   0         14   0.744489    0.976744   \n",
       "255152       6042.0  ...         1   0         14   0.974619    0.976744   \n",
       "255153       6042.0  ...         1   0         14   0.769231    0.976744   \n",
       "255154       6042.0  ...         1   0         14   1.000000    0.976744   \n",
       "\n",
       "        Aprov Prof  Aprov -3 Aprov -1   IAA Sem IAA Hist Sem  \n",
       "255141    1.000000       1.0      1.0  8.084906     7.531977  \n",
       "255142    1.000000       1.0      1.0  8.084906     7.531977  \n",
       "255143    0.970619       1.0      1.0  8.084906     7.531977  \n",
       "255144    1.000000       1.0      1.0  8.084906     7.531977  \n",
       "255145    0.931034       1.0      1.0  8.084906     7.531977  \n",
       "255146    0.985185       1.0      1.0  8.084906     7.531977  \n",
       "255147    0.902439       1.0      1.0  8.084906     7.531977  \n",
       "255148    0.941176       1.0      1.0  8.084906     7.531977  \n",
       "255149    0.848214       1.0      1.0  8.084906     7.531977  \n",
       "255150    0.691489       1.0      1.0  8.084906     7.531977  \n",
       "255151    0.647922       1.0      1.0  8.084906     7.531977  \n",
       "255152    0.974619       1.0      1.0  8.084906     7.531977  \n",
       "255153    0.822368       1.0      1.0  8.084906     7.531977  \n",
       "255154    1.000000       1.0      1.0  8.084906     7.531977  \n",
       "\n",
       "[14 rows x 32 columns]"
      ]
     },
     "execution_count": 20,
     "metadata": {},
     "output_type": "execute_result"
    }
   ],
   "source": [
    "df[df['Cont Disc'] == 14]"
   ]
  },
  {
   "cell_type": "markdown",
   "metadata": {},
   "source": [
    "### Contagem Disciplinas"
   ]
  },
  {
   "cell_type": "code",
   "execution_count": 56,
   "metadata": {},
   "outputs": [
    {
     "data": {
      "text/plain": [
       "Matricula                24525\n",
       "Semestre Historico       24525\n",
       "Matricula Professor      23641\n",
       "Disciplina               24525\n",
       "Periodo Vest             24525\n",
       "CPF                      24084\n",
       "Sexo                     24525\n",
       "Curso                    24525\n",
       "Nome Curso               24525\n",
       "Pontos Vest              23886\n",
       "Ano Vest                 23211\n",
       "Estado EM                23355\n",
       "Idade Vest               23211\n",
       "Etnia                    18360\n",
       "Categoria de Ingresso     5463\n",
       "Nota                     24525\n",
       "Horas Aula               24525\n",
       "Frequencia               24525\n",
       "TipoCurriculo            24498\n",
       "Revalida                     0\n",
       "Turma                    24470\n",
       "Situacao Aluno           24525\n",
       "Aprovado                 24525\n",
       "vez                      24525\n",
       "Cont Disc                24525\n",
       "Aprov Disc               24525\n",
       "Aprov Aluno              24525\n",
       "Aprov Prof               23641\n",
       "Aprov -3                 22779\n",
       "Aprov -1                 24525\n",
       "IAA Sem                  24525\n",
       "IAA Hist Sem             24525\n",
       "dtype: int64"
      ]
     },
     "execution_count": 56,
     "metadata": {},
     "output_type": "execute_result"
    }
   ],
   "source": [
    "df[df['Cont Disc'] == 9].count()"
   ]
  },
  {
   "cell_type": "code",
   "execution_count": 73,
   "metadata": {},
   "outputs": [
    {
     "name": "stderr",
     "output_type": "stream",
     "text": [
      "No handles with labels found to put in legend.\n"
     ]
    },
    {
     "data": {
      "text/plain": [
       "(array([ 0.,  2.,  4.,  6.,  8., 10.]),\n",
       " [Text(0, 0, ''),\n",
       "  Text(0, 0, ''),\n",
       "  Text(0, 0, ''),\n",
       "  Text(0, 0, ''),\n",
       "  Text(0, 0, ''),\n",
       "  Text(0, 0, '')])"
      ]
     },
     "execution_count": 73,
     "metadata": {},
     "output_type": "execute_result"
    },
    {
     "data": {
      "image/png": "[encoded data removed]",
      "text/plain": [
       "<Figure size 432x648 with 1 Axes>"
      ]
     },
     "metadata": {},
     "output_type": "display_data"
    }
   ],
   "source": [
    "x = df.groupby(['Cont Disc']).agg({'Matricula':'first','TipoCurriculo':'first','Idade Vest':'first','Aprovado':'mean','IAA Hist Sem':'last','Etnia':'last','Situacao Aluno':'last','IAA Sem':'mean','Periodo Vest':'first','Nota':'mean','Categoria de Ingresso':'first'})\n",
    "sns.set_theme(style=\"whitegrid\")\n",
    "x.reset_index(inplace=True)\n",
    "#x['vez'] = x['vez'].apply(lambda x: x+1)\n",
    "# Initialize the matplotlib figure\n",
    "f, ax = plt.subplots(figsize=(6, 9))\n",
    "\n",
    "# Plot the total crashes\n",
    "sns.set_color_codes(\"pastel\")\n",
    "sns.barplot(x=\"Cont Disc\", y=\"IAA Sem\", data=x, color=\"b\")\n",
    "\n",
    "# Plot the crashes where alcohol was involved\n",
    "#sns.set_color_codes(\"muted\")\n",
    "#sns.barplot(x=\"alcohol\", y=\"abbrev\", data=crashes,label=\"Alcohol-involved\", color=\"b\")\n",
    "\n",
    "# Add a legend and informative axis label\n",
    "ax.legend(ncol=2, loc=\"lower right\", frameon=True)\n",
    "ax.set(xlim=(0, 16),ylim=(0,10), ylabel=\"IA médio\", xlabel=\"Quantidade de disciplinas\")\n",
    "sns.despine(left=True, bottom=True)\n",
    "plt.xticks(rotation='vertical')\n",
    "plt.yticks(rotation='vertical')"
   ]
  },
  {
   "cell_type": "code",
   "execution_count": null,
   "metadata": {},
   "outputs": [],
   "source": []
  },
  {
   "cell_type": "code",
   "execution_count": 57,
   "metadata": {},
   "outputs": [
    {
     "name": "stderr",
     "output_type": "stream",
     "text": [
      "No handles with labels found to put in legend.\n"
     ]
    },
    {
     "data": {
      "text/plain": [
       "(array([0. , 0.2, 0.4, 0.6, 0.8, 1. ]),\n",
       " [Text(0, 0, ''),\n",
       "  Text(0, 0, ''),\n",
       "  Text(0, 0, ''),\n",
       "  Text(0, 0, ''),\n",
       "  Text(0, 0, ''),\n",
       "  Text(0, 0, '')])"
      ]
     },
     "execution_count": 57,
     "metadata": {},
     "output_type": "execute_result"
    },
    {
     "data": {
      "image/png": "[encoded data removed]",
      "text/plain": [
       "<Figure size 432x648 with 1 Axes>"
      ]
     },
     "metadata": {},
     "output_type": "display_data"
    }
   ],
   "source": [
    "x = df.groupby(['vez']).agg({'Matricula':'first','TipoCurriculo':'first','Idade Vest':'first','Aprovado':'mean','IAA Hist Sem':'last','Etnia':'last','Situacao Aluno':'last','Periodo Vest':'first','Categoria de Ingresso':'first'})\n",
    "sns.set_theme(style=\"whitegrid\")\n",
    "x.reset_index(inplace=True)\n",
    "x['vez'] = x['vez'].apply(lambda x: x+1)\n",
    "# Initialize the matplotlib figure\n",
    "f, ax = plt.subplots(figsize=(6, 9))\n",
    "\n",
    "# Plot the total crashes\n",
    "sns.set_color_codes(\"pastel\")\n",
    "sns.barplot(x=\"vez\", y=\"Aprovado\", data=x, color=\"b\")\n",
    "\n",
    "# Plot the crashes where alcohol was involved\n",
    "#sns.set_color_codes(\"muted\")\n",
    "#sns.barplot(x=\"alcohol\", y=\"abbrev\", data=crashes,label=\"Alcohol-involved\", color=\"b\")\n",
    "\n",
    "# Add a legend and informative axis label\n",
    "ax.legend(ncol=2, loc=\"lower right\", frameon=True)\n",
    "ax.set(xlim=(0, 16),ylim=(0,1), ylabel=\"Aprovação média\", xlabel=\"Vez\")\n",
    "sns.despine(left=True, bottom=True)\n",
    "plt.xticks(rotation='vertical')\n",
    "plt.yticks(rotation='vertical')"
   ]
  },
  {
   "cell_type": "code",
   "execution_count": 35,
   "metadata": {},
   "outputs": [
    {
     "data": {
      "text/plain": [
       "Series([], Name: Revalida, dtype: int64)"
      ]
     },
     "execution_count": 35,
     "metadata": {},
     "output_type": "execute_result"
    }
   ],
   "source": [
    "df['Revalida'].value_counts()"
   ]
  },
  {
   "cell_type": "code",
   "execution_count": 259,
   "metadata": {},
   "outputs": [
    {
     "data": {
      "text/html": [
       "<div>\n",
       "<style scoped>\n",
       "    .dataframe tbody tr th:only-of-type {\n",
       "        vertical-align: middle;\n",
       "    }\n",
       "\n",
       "    .dataframe tbody tr th {\n",
       "        vertical-align: top;\n",
       "    }\n",
       "\n",
       "    .dataframe thead th {\n",
       "        text-align: right;\n",
       "    }\n",
       "</style>\n",
       "<table border=\"1\" class=\"dataframe\">\n",
       "  <thead>\n",
       "    <tr style=\"text-align: right;\">\n",
       "      <th></th>\n",
       "      <th>Matricula</th>\n",
       "      <th>Semestre Historico</th>\n",
       "      <th>Matricula Professor</th>\n",
       "      <th>Disciplina</th>\n",
       "      <th>Periodo Vest</th>\n",
       "      <th>CPF</th>\n",
       "      <th>Sexo</th>\n",
       "      <th>Curso</th>\n",
       "      <th>Nome Curso</th>\n",
       "      <th>Pontos Vest</th>\n",
       "      <th>...</th>\n",
       "      <th>Aprovado</th>\n",
       "      <th>vez</th>\n",
       "      <th>Cont Disc</th>\n",
       "      <th>Aprov Disc</th>\n",
       "      <th>Aprov Aluno</th>\n",
       "      <th>Aprov Prof</th>\n",
       "      <th>Aprov -3</th>\n",
       "      <th>Aprov -1</th>\n",
       "      <th>IAA Sem</th>\n",
       "      <th>IAA Hist Sem</th>\n",
       "    </tr>\n",
       "  </thead>\n",
       "  <tbody>\n",
       "    <tr>\n",
       "      <th>338153</th>\n",
       "      <td>5242185</td>\n",
       "      <td>20051</td>\n",
       "      <td>NaN</td>\n",
       "      <td>EPS5227</td>\n",
       "      <td>20052</td>\n",
       "      <td>9.735691e+10</td>\n",
       "      <td>M</td>\n",
       "      <td>212</td>\n",
       "      <td>ENGENHARIA DE PRODUÇÃO CIVIL</td>\n",
       "      <td>NaN</td>\n",
       "      <td>...</td>\n",
       "      <td>1</td>\n",
       "      <td>0</td>\n",
       "      <td>62</td>\n",
       "      <td>0.959732</td>\n",
       "      <td>1.0</td>\n",
       "      <td>NaN</td>\n",
       "      <td>1.0</td>\n",
       "      <td>1.0</td>\n",
       "      <td>7.359438</td>\n",
       "      <td>7.359438</td>\n",
       "    </tr>\n",
       "  </tbody>\n",
       "</table>\n",
       "<p>1 rows × 32 columns</p>\n",
       "</div>"
      ],
      "text/plain": [
       "        Matricula  Semestre Historico  Matricula Professor Disciplina  \\\n",
       "338153    5242185               20051                  NaN    EPS5227   \n",
       "\n",
       "        Periodo Vest           CPF Sexo  Curso                    Nome Curso  \\\n",
       "338153         20052  9.735691e+10    M    212  ENGENHARIA DE PRODUÇÃO CIVIL   \n",
       "\n",
       "        Pontos Vest  ...  Aprovado vez  Cont Disc Aprov Disc Aprov Aluno  \\\n",
       "338153          NaN  ...         1   0         62   0.959732         1.0   \n",
       "\n",
       "        Aprov Prof  Aprov -3 Aprov -1   IAA Sem IAA Hist Sem  \n",
       "338153         NaN       1.0      1.0  7.359438     7.359438  \n",
       "\n",
       "[1 rows x 32 columns]"
      ]
     },
     "execution_count": 259,
     "metadata": {},
     "output_type": "execute_result"
    }
   ],
   "source": [
    "x = df[df['Revalida'].isna()]\n",
    "x[x['Cont Disc'] == 62]"
   ]
  },
  {
   "cell_type": "code",
   "execution_count": 263,
   "metadata": {},
   "outputs": [
    {
     "data": {
      "text/plain": [
       "array(['ECV5228', 'ECV5231', 'ECV5319', 'ECV5330', 'ECV5331', 'ECZ5102',\n",
       "       'EEL7020', 'EGR5212', 'EGR5604', 'EGR5621', 'EMC5425', 'ENS5101',\n",
       "       'ENS5102', 'ENS5106', 'ENS5107', 'EPS5113', 'EPS5120', 'ECV5224',\n",
       "       'ECV5223', 'ECV5143', 'ARQ5115', 'ECV5104', 'ECV5114', 'ECV5115',\n",
       "       'ECV5119', 'ECV5136', 'ECV5137', 'ECV5139', 'ECV5215', 'EPS5222',\n",
       "       'EPS5223', 'EPS5225', 'FSC5101', 'FSC5122', 'FSC5123', 'FSC5132',\n",
       "       'FSC5133', 'EQA5114', 'FSC5207', 'MTM5161', 'MTM5162', 'MTM5163',\n",
       "       'MTM5245', 'MTM5512', 'QMC5105', 'INE5202', 'EPS7004', 'EPS5227',\n",
       "       'EPS5228', 'EPS5229', 'EPS5230', 'EPS5231', 'EPS5232', 'EPS7003',\n",
       "       'EPS5235', 'EPS5238', 'EPS5311', 'EPS5312', 'EPS5505', 'EPS7001',\n",
       "       'EPS7002', 'EPS5237'], dtype=object)"
      ]
     },
     "execution_count": 263,
     "metadata": {},
     "output_type": "execute_result"
    }
   ],
   "source": [
    "x = df[df['Semestre Historico']==20051]\n",
    "x[x['Matricula'] == 5242185]['Disciplina'].unique()\n"
   ]
  },
  {
   "cell_type": "code",
   "execution_count": 74,
   "metadata": {},
   "outputs": [
    {
     "data": {
      "text/html": [
       "<div>\n",
       "<style scoped>\n",
       "    .dataframe tbody tr th:only-of-type {\n",
       "        vertical-align: middle;\n",
       "    }\n",
       "\n",
       "    .dataframe tbody tr th {\n",
       "        vertical-align: top;\n",
       "    }\n",
       "\n",
       "    .dataframe thead th {\n",
       "        text-align: right;\n",
       "    }\n",
       "</style>\n",
       "<table border=\"1\" class=\"dataframe\">\n",
       "  <thead>\n",
       "    <tr style=\"text-align: right;\">\n",
       "      <th></th>\n",
       "      <th>Cont Disc</th>\n",
       "      <th>Matricula</th>\n",
       "      <th>TipoCurriculo</th>\n",
       "      <th>Idade Vest</th>\n",
       "      <th>Aprovado</th>\n",
       "      <th>IAA Hist Sem</th>\n",
       "      <th>Etnia</th>\n",
       "      <th>Situacao Aluno</th>\n",
       "      <th>IAA Sem</th>\n",
       "      <th>Periodo Vest</th>\n",
       "      <th>Nota</th>\n",
       "      <th>Categoria de Ingresso</th>\n",
       "    </tr>\n",
       "  </thead>\n",
       "  <tbody>\n",
       "    <tr>\n",
       "      <th>0</th>\n",
       "      <td>1</td>\n",
       "      <td>130001</td>\n",
       "      <td>Ob</td>\n",
       "      <td>19.0</td>\n",
       "      <td>0.850908</td>\n",
       "      <td>5.680000</td>\n",
       "      <td>branca</td>\n",
       "      <td>formado</td>\n",
       "      <td>7.518058</td>\n",
       "      <td>20001</td>\n",
       "      <td>7.518628</td>\n",
       "      <td>Classificação geral</td>\n",
       "    </tr>\n",
       "    <tr>\n",
       "      <th>1</th>\n",
       "      <td>2</td>\n",
       "      <td>130214</td>\n",
       "      <td>Ob</td>\n",
       "      <td>18.0</td>\n",
       "      <td>0.696742</td>\n",
       "      <td>7.227642</td>\n",
       "      <td>branca</td>\n",
       "      <td>formado</td>\n",
       "      <td>6.191850</td>\n",
       "      <td>20001</td>\n",
       "      <td>6.139475</td>\n",
       "      <td>Classificação geral</td>\n",
       "    </tr>\n",
       "    <tr>\n",
       "      <th>2</th>\n",
       "      <td>3</td>\n",
       "      <td>130125</td>\n",
       "      <td>Op</td>\n",
       "      <td>18.0</td>\n",
       "      <td>0.591859</td>\n",
       "      <td>2.857143</td>\n",
       "      <td>branca</td>\n",
       "      <td>abandono</td>\n",
       "      <td>4.978571</td>\n",
       "      <td>20001</td>\n",
       "      <td>4.987274</td>\n",
       "      <td>Classificação geral</td>\n",
       "    </tr>\n",
       "    <tr>\n",
       "      <th>3</th>\n",
       "      <td>4</td>\n",
       "      <td>130010</td>\n",
       "      <td>Ob</td>\n",
       "      <td>18.0</td>\n",
       "      <td>0.666763</td>\n",
       "      <td>4.606557</td>\n",
       "      <td>branca</td>\n",
       "      <td>formado</td>\n",
       "      <td>5.456454</td>\n",
       "      <td>20001</td>\n",
       "      <td>5.505997</td>\n",
       "      <td>Classificação geral</td>\n",
       "    </tr>\n",
       "    <tr>\n",
       "      <th>4</th>\n",
       "      <td>5</td>\n",
       "      <td>130010</td>\n",
       "      <td>Ob</td>\n",
       "      <td>18.0</td>\n",
       "      <td>0.783805</td>\n",
       "      <td>4.724806</td>\n",
       "      <td>branca</td>\n",
       "      <td>formado</td>\n",
       "      <td>6.316793</td>\n",
       "      <td>20001</td>\n",
       "      <td>6.390816</td>\n",
       "      <td>Classificação geral</td>\n",
       "    </tr>\n",
       "    <tr>\n",
       "      <th>5</th>\n",
       "      <td>6</td>\n",
       "      <td>130001</td>\n",
       "      <td>Ob</td>\n",
       "      <td>19.0</td>\n",
       "      <td>0.855022</td>\n",
       "      <td>5.122159</td>\n",
       "      <td>branca</td>\n",
       "      <td>formado</td>\n",
       "      <td>6.866384</td>\n",
       "      <td>20001</td>\n",
       "      <td>6.931763</td>\n",
       "      <td>Classificação geral</td>\n",
       "    </tr>\n",
       "    <tr>\n",
       "      <th>6</th>\n",
       "      <td>7</td>\n",
       "      <td>130001</td>\n",
       "      <td>Ob</td>\n",
       "      <td>19.0</td>\n",
       "      <td>0.882495</td>\n",
       "      <td>5.323077</td>\n",
       "      <td>branca</td>\n",
       "      <td>formado</td>\n",
       "      <td>7.068019</td>\n",
       "      <td>20001</td>\n",
       "      <td>7.130629</td>\n",
       "      <td>Classificação geral</td>\n",
       "    </tr>\n",
       "    <tr>\n",
       "      <th>7</th>\n",
       "      <td>8</td>\n",
       "      <td>130001</td>\n",
       "      <td>Ob</td>\n",
       "      <td>19.0</td>\n",
       "      <td>0.893546</td>\n",
       "      <td>5.173820</td>\n",
       "      <td>branca</td>\n",
       "      <td>formado</td>\n",
       "      <td>7.144729</td>\n",
       "      <td>20001</td>\n",
       "      <td>7.219065</td>\n",
       "      <td>Classificação geral</td>\n",
       "    </tr>\n",
       "    <tr>\n",
       "      <th>8</th>\n",
       "      <td>9</td>\n",
       "      <td>130010</td>\n",
       "      <td>Ob</td>\n",
       "      <td>18.0</td>\n",
       "      <td>0.916004</td>\n",
       "      <td>6.755747</td>\n",
       "      <td>branca</td>\n",
       "      <td>formado</td>\n",
       "      <td>7.335227</td>\n",
       "      <td>20001</td>\n",
       "      <td>7.381121</td>\n",
       "      <td>Classificação geral</td>\n",
       "    </tr>\n",
       "    <tr>\n",
       "      <th>9</th>\n",
       "      <td>10</td>\n",
       "      <td>130028</td>\n",
       "      <td>Ob</td>\n",
       "      <td>16.0</td>\n",
       "      <td>0.915301</td>\n",
       "      <td>6.966887</td>\n",
       "      <td>branca</td>\n",
       "      <td>formado</td>\n",
       "      <td>7.331534</td>\n",
       "      <td>20001</td>\n",
       "      <td>7.355829</td>\n",
       "      <td>Classificação geral</td>\n",
       "    </tr>\n",
       "    <tr>\n",
       "      <th>10</th>\n",
       "      <td>11</td>\n",
       "      <td>130257</td>\n",
       "      <td>Op</td>\n",
       "      <td>18.0</td>\n",
       "      <td>0.916883</td>\n",
       "      <td>6.567164</td>\n",
       "      <td>branca</td>\n",
       "      <td>formado</td>\n",
       "      <td>7.467757</td>\n",
       "      <td>20001</td>\n",
       "      <td>7.465801</td>\n",
       "      <td>Classificação geral</td>\n",
       "    </tr>\n",
       "    <tr>\n",
       "      <th>11</th>\n",
       "      <td>12</td>\n",
       "      <td>130214</td>\n",
       "      <td>Op</td>\n",
       "      <td>18.0</td>\n",
       "      <td>0.841667</td>\n",
       "      <td>6.529268</td>\n",
       "      <td>branca</td>\n",
       "      <td>formado</td>\n",
       "      <td>6.958903</td>\n",
       "      <td>20001</td>\n",
       "      <td>7.000000</td>\n",
       "      <td>NaN</td>\n",
       "    </tr>\n",
       "    <tr>\n",
       "      <th>12</th>\n",
       "      <td>13</td>\n",
       "      <td>139025</td>\n",
       "      <td>Op</td>\n",
       "      <td>20.0</td>\n",
       "      <td>0.961538</td>\n",
       "      <td>7.899142</td>\n",
       "      <td>branca</td>\n",
       "      <td>formado</td>\n",
       "      <td>8.056090</td>\n",
       "      <td>20001</td>\n",
       "      <td>8.038462</td>\n",
       "      <td>NaN</td>\n",
       "    </tr>\n",
       "    <tr>\n",
       "      <th>13</th>\n",
       "      <td>14</td>\n",
       "      <td>4241266</td>\n",
       "      <td>Ob</td>\n",
       "      <td>22.0</td>\n",
       "      <td>1.000000</td>\n",
       "      <td>7.531977</td>\n",
       "      <td>branca</td>\n",
       "      <td>formado</td>\n",
       "      <td>8.084906</td>\n",
       "      <td>20042</td>\n",
       "      <td>8.142857</td>\n",
       "      <td>NaN</td>\n",
       "    </tr>\n",
       "  </tbody>\n",
       "</table>\n",
       "</div>"
      ],
      "text/plain": [
       "    Cont Disc  Matricula TipoCurriculo  Idade Vest  Aprovado  IAA Hist Sem  \\\n",
       "0           1     130001            Ob        19.0  0.850908      5.680000   \n",
       "1           2     130214            Ob        18.0  0.696742      7.227642   \n",
       "2           3     130125            Op        18.0  0.591859      2.857143   \n",
       "3           4     130010            Ob        18.0  0.666763      4.606557   \n",
       "4           5     130010            Ob        18.0  0.783805      4.724806   \n",
       "5           6     130001            Ob        19.0  0.855022      5.122159   \n",
       "6           7     130001            Ob        19.0  0.882495      5.323077   \n",
       "7           8     130001            Ob        19.0  0.893546      5.173820   \n",
       "8           9     130010            Ob        18.0  0.916004      6.755747   \n",
       "9          10     130028            Ob        16.0  0.915301      6.966887   \n",
       "10         11     130257            Op        18.0  0.916883      6.567164   \n",
       "11         12     130214            Op        18.0  0.841667      6.529268   \n",
       "12         13     139025            Op        20.0  0.961538      7.899142   \n",
       "13         14    4241266            Ob        22.0  1.000000      7.531977   \n",
       "\n",
       "     Etnia Situacao Aluno   IAA Sem  Periodo Vest      Nota  \\\n",
       "0   branca        formado  7.518058         20001  7.518628   \n",
       "1   branca        formado  6.191850         20001  6.139475   \n",
       "2   branca       abandono  4.978571         20001  4.987274   \n",
       "3   branca        formado  5.456454         20001  5.505997   \n",
       "4   branca        formado  6.316793         20001  6.390816   \n",
       "5   branca        formado  6.866384         20001  6.931763   \n",
       "6   branca        formado  7.068019         20001  7.130629   \n",
       "7   branca        formado  7.144729         20001  7.219065   \n",
       "8   branca        formado  7.335227         20001  7.381121   \n",
       "9   branca        formado  7.331534         20001  7.355829   \n",
       "10  branca        formado  7.467757         20001  7.465801   \n",
       "11  branca        formado  6.958903         20001  7.000000   \n",
       "12  branca        formado  8.056090         20001  8.038462   \n",
       "13  branca        formado  8.084906         20042  8.142857   \n",
       "\n",
       "   Categoria de Ingresso  \n",
       "0    Classificação geral  \n",
       "1    Classificação geral  \n",
       "2    Classificação geral  \n",
       "3    Classificação geral  \n",
       "4    Classificação geral  \n",
       "5    Classificação geral  \n",
       "6    Classificação geral  \n",
       "7    Classificação geral  \n",
       "8    Classificação geral  \n",
       "9    Classificação geral  \n",
       "10   Classificação geral  \n",
       "11                   NaN  \n",
       "12                   NaN  \n",
       "13                   NaN  "
      ]
     },
     "execution_count": 74,
     "metadata": {},
     "output_type": "execute_result"
    }
   ],
   "source": [
    "x"
   ]
  },
  {
   "cell_type": "code",
   "execution_count": 91,
   "metadata": {},
   "outputs": [
    {
     "name": "stderr",
     "output_type": "stream",
     "text": [
      "/opt/conda/lib/python3.7/site-packages/ipykernel_launcher.py:2: UserWarning: Boolean Series key will be reindexed to match DataFrame index.\n",
      "  \n"
     ]
    },
    {
     "data": {
      "text/plain": [
       "1.3065508432701674"
      ]
     },
     "execution_count": 91,
     "metadata": {},
     "output_type": "execute_result"
    }
   ],
   "source": [
    "x = df.groupby(['Disciplina']).agg({'Matricula':'first','TipoCurriculo':'first','Idade Vest':'first','Aprovado':'mean','IAA Hist Sem':'last','Etnia':'last','Situacao Aluno':'last','IAA Sem':'mean','Periodo Vest':'first','Nota':'mean','Categoria de Ingresso':'first'})\n",
    "x[x['Nota']<4][x['Nota']>-1]['Nota'].mean()\n"
   ]
  },
  {
   "cell_type": "code",
   "execution_count": 60,
   "metadata": {},
   "outputs": [
    {
     "ename": "KeyError",
     "evalue": "'Disciplina'",
     "output_type": "error",
     "traceback": [
      "\u001b[0;31m---------------------------------------------------------------------------\u001b[0m",
      "\u001b[0;31mKeyError\u001b[0m                                  Traceback (most recent call last)",
      "\u001b[0;32m/opt/conda/lib/python3.7/site-packages/pandas/core/indexes/base.py\u001b[0m in \u001b[0;36mget_loc\u001b[0;34m(self, key, method, tolerance)\u001b[0m\n\u001b[1;32m   2890\u001b[0m             \u001b[0;32mtry\u001b[0m\u001b[0;34m:\u001b[0m\u001b[0;34m\u001b[0m\u001b[0;34m\u001b[0m\u001b[0m\n\u001b[0;32m-> 2891\u001b[0;31m                 \u001b[0;32mreturn\u001b[0m \u001b[0mself\u001b[0m\u001b[0;34m.\u001b[0m\u001b[0m_engine\u001b[0m\u001b[0;34m.\u001b[0m\u001b[0mget_loc\u001b[0m\u001b[0;34m(\u001b[0m\u001b[0mcasted_key\u001b[0m\u001b[0;34m)\u001b[0m\u001b[0;34m\u001b[0m\u001b[0;34m\u001b[0m\u001b[0m\n\u001b[0m\u001b[1;32m   2892\u001b[0m             \u001b[0;32mexcept\u001b[0m \u001b[0mKeyError\u001b[0m \u001b[0;32mas\u001b[0m \u001b[0merr\u001b[0m\u001b[0;34m:\u001b[0m\u001b[0;34m\u001b[0m\u001b[0;34m\u001b[0m\u001b[0m\n",
      "\u001b[0;32mpandas/_libs/index.pyx\u001b[0m in \u001b[0;36mpandas._libs.index.IndexEngine.get_loc\u001b[0;34m()\u001b[0m\n",
      "\u001b[0;32mpandas/_libs/index.pyx\u001b[0m in \u001b[0;36mpandas._libs.index.IndexEngine.get_loc\u001b[0;34m()\u001b[0m\n",
      "\u001b[0;32mpandas/_libs/hashtable_class_helper.pxi\u001b[0m in \u001b[0;36mpandas._libs.hashtable.PyObjectHashTable.get_item\u001b[0;34m()\u001b[0m\n",
      "\u001b[0;32mpandas/_libs/hashtable_class_helper.pxi\u001b[0m in \u001b[0;36mpandas._libs.hashtable.PyObjectHashTable.get_item\u001b[0;34m()\u001b[0m\n",
      "\u001b[0;31mKeyError\u001b[0m: 'Disciplina'",
      "\nThe above exception was the direct cause of the following exception:\n",
      "\u001b[0;31mKeyError\u001b[0m                                  Traceback (most recent call last)",
      "\u001b[0;32m<ipython-input-60-ee61d4906b68>\u001b[0m in \u001b[0;36m<module>\u001b[0;34m\u001b[0m\n\u001b[1;32m      1\u001b[0m \u001b[0;32mfor\u001b[0m \u001b[0mi\u001b[0m \u001b[0;32min\u001b[0m \u001b[0mx\u001b[0m\u001b[0;34m[\u001b[0m\u001b[0;34m'Cont Disc'\u001b[0m\u001b[0;34m]\u001b[0m\u001b[0;34m.\u001b[0m\u001b[0munique\u001b[0m\u001b[0;34m(\u001b[0m\u001b[0;34m)\u001b[0m\u001b[0;34m:\u001b[0m\u001b[0;34m\u001b[0m\u001b[0;34m\u001b[0m\u001b[0m\n\u001b[0;32m----> 2\u001b[0;31m     \u001b[0mprint\u001b[0m\u001b[0;34m(\u001b[0m\u001b[0mi\u001b[0m\u001b[0;34m,\u001b[0m\u001b[0mround\u001b[0m\u001b[0;34m(\u001b[0m\u001b[0;36m100\u001b[0m\u001b[0;34m*\u001b[0m\u001b[0mx\u001b[0m\u001b[0;34m[\u001b[0m\u001b[0mx\u001b[0m\u001b[0;34m[\u001b[0m\u001b[0;34m'Cont Disc'\u001b[0m\u001b[0;34m]\u001b[0m \u001b[0;34m==\u001b[0m \u001b[0mi\u001b[0m\u001b[0;34m]\u001b[0m\u001b[0;34m[\u001b[0m\u001b[0;34m'Aprovado'\u001b[0m\u001b[0;34m]\u001b[0m\u001b[0;34m.\u001b[0m\u001b[0mmean\u001b[0m\u001b[0;34m(\u001b[0m\u001b[0;34m)\u001b[0m\u001b[0;34m)\u001b[0m\u001b[0;34m,\u001b[0m\u001b[0mround\u001b[0m\u001b[0;34m(\u001b[0m\u001b[0;36m100\u001b[0m\u001b[0;34m*\u001b[0m\u001b[0mx\u001b[0m\u001b[0;34m[\u001b[0m\u001b[0mx\u001b[0m\u001b[0;34m[\u001b[0m\u001b[0;34m'Cont Disc'\u001b[0m\u001b[0;34m]\u001b[0m\u001b[0;34m==\u001b[0m\u001b[0mi\u001b[0m\u001b[0;34m]\u001b[0m\u001b[0;34m[\u001b[0m\u001b[0;34m'Disciplina'\u001b[0m\u001b[0;34m]\u001b[0m\u001b[0;34m.\u001b[0m\u001b[0mcount\u001b[0m\u001b[0;34m(\u001b[0m\u001b[0;34m)\u001b[0m\u001b[0;34m/\u001b[0m\u001b[0mx\u001b[0m\u001b[0;34m[\u001b[0m\u001b[0;34m'Disciplina'\u001b[0m\u001b[0;34m]\u001b[0m\u001b[0;34m.\u001b[0m\u001b[0mcount\u001b[0m\u001b[0;34m(\u001b[0m\u001b[0;34m)\u001b[0m\u001b[0;34m)\u001b[0m\u001b[0;34m,\u001b[0m\u001b[0mx\u001b[0m\u001b[0;34m[\u001b[0m\u001b[0mx\u001b[0m\u001b[0;34m[\u001b[0m\u001b[0;34m'Cont Disc'\u001b[0m\u001b[0;34m]\u001b[0m \u001b[0;34m==\u001b[0m \u001b[0mi\u001b[0m\u001b[0;34m]\u001b[0m\u001b[0;34m[\u001b[0m\u001b[0;34m'Nota'\u001b[0m\u001b[0;34m]\u001b[0m\u001b[0;34m.\u001b[0m\u001b[0mmean\u001b[0m\u001b[0;34m(\u001b[0m\u001b[0;34m)\u001b[0m\u001b[0;34m)\u001b[0m\u001b[0;34m\u001b[0m\u001b[0;34m\u001b[0m\u001b[0m\n\u001b[0m",
      "\u001b[0;32m/opt/conda/lib/python3.7/site-packages/pandas/core/frame.py\u001b[0m in \u001b[0;36m__getitem__\u001b[0;34m(self, key)\u001b[0m\n\u001b[1;32m   2900\u001b[0m             \u001b[0;32mif\u001b[0m \u001b[0mself\u001b[0m\u001b[0;34m.\u001b[0m\u001b[0mcolumns\u001b[0m\u001b[0;34m.\u001b[0m\u001b[0mnlevels\u001b[0m \u001b[0;34m>\u001b[0m \u001b[0;36m1\u001b[0m\u001b[0;34m:\u001b[0m\u001b[0;34m\u001b[0m\u001b[0;34m\u001b[0m\u001b[0m\n\u001b[1;32m   2901\u001b[0m                 \u001b[0;32mreturn\u001b[0m \u001b[0mself\u001b[0m\u001b[0;34m.\u001b[0m\u001b[0m_getitem_multilevel\u001b[0m\u001b[0;34m(\u001b[0m\u001b[0mkey\u001b[0m\u001b[0;34m)\u001b[0m\u001b[0;34m\u001b[0m\u001b[0;34m\u001b[0m\u001b[0m\n\u001b[0;32m-> 2902\u001b[0;31m             \u001b[0mindexer\u001b[0m \u001b[0;34m=\u001b[0m \u001b[0mself\u001b[0m\u001b[0;34m.\u001b[0m\u001b[0mcolumns\u001b[0m\u001b[0;34m.\u001b[0m\u001b[0mget_loc\u001b[0m\u001b[0;34m(\u001b[0m\u001b[0mkey\u001b[0m\u001b[0;34m)\u001b[0m\u001b[0;34m\u001b[0m\u001b[0;34m\u001b[0m\u001b[0m\n\u001b[0m\u001b[1;32m   2903\u001b[0m             \u001b[0;32mif\u001b[0m \u001b[0mis_integer\u001b[0m\u001b[0;34m(\u001b[0m\u001b[0mindexer\u001b[0m\u001b[0;34m)\u001b[0m\u001b[0;34m:\u001b[0m\u001b[0;34m\u001b[0m\u001b[0;34m\u001b[0m\u001b[0m\n\u001b[1;32m   2904\u001b[0m                 \u001b[0mindexer\u001b[0m \u001b[0;34m=\u001b[0m \u001b[0;34m[\u001b[0m\u001b[0mindexer\u001b[0m\u001b[0;34m]\u001b[0m\u001b[0;34m\u001b[0m\u001b[0;34m\u001b[0m\u001b[0m\n",
      "\u001b[0;32m/opt/conda/lib/python3.7/site-packages/pandas/core/indexes/base.py\u001b[0m in \u001b[0;36mget_loc\u001b[0;34m(self, key, method, tolerance)\u001b[0m\n\u001b[1;32m   2891\u001b[0m                 \u001b[0;32mreturn\u001b[0m \u001b[0mself\u001b[0m\u001b[0;34m.\u001b[0m\u001b[0m_engine\u001b[0m\u001b[0;34m.\u001b[0m\u001b[0mget_loc\u001b[0m\u001b[0;34m(\u001b[0m\u001b[0mcasted_key\u001b[0m\u001b[0;34m)\u001b[0m\u001b[0;34m\u001b[0m\u001b[0;34m\u001b[0m\u001b[0m\n\u001b[1;32m   2892\u001b[0m             \u001b[0;32mexcept\u001b[0m \u001b[0mKeyError\u001b[0m \u001b[0;32mas\u001b[0m \u001b[0merr\u001b[0m\u001b[0;34m:\u001b[0m\u001b[0;34m\u001b[0m\u001b[0;34m\u001b[0m\u001b[0m\n\u001b[0;32m-> 2893\u001b[0;31m                 \u001b[0;32mraise\u001b[0m \u001b[0mKeyError\u001b[0m\u001b[0;34m(\u001b[0m\u001b[0mkey\u001b[0m\u001b[0;34m)\u001b[0m \u001b[0;32mfrom\u001b[0m \u001b[0merr\u001b[0m\u001b[0;34m\u001b[0m\u001b[0;34m\u001b[0m\u001b[0m\n\u001b[0m\u001b[1;32m   2894\u001b[0m \u001b[0;34m\u001b[0m\u001b[0m\n\u001b[1;32m   2895\u001b[0m         \u001b[0;32mif\u001b[0m \u001b[0mtolerance\u001b[0m \u001b[0;32mis\u001b[0m \u001b[0;32mnot\u001b[0m \u001b[0;32mNone\u001b[0m\u001b[0;34m:\u001b[0m\u001b[0;34m\u001b[0m\u001b[0;34m\u001b[0m\u001b[0m\n",
      "\u001b[0;31mKeyError\u001b[0m: 'Disciplina'"
     ]
    }
   ],
   "source": [
    "for i in x['Cont Disc'].unique():\n",
    "    print(i,round(100*x[x['Cont Disc'] == i]['Aprovado'].mean()),round(100*x[x['Cont Disc']==i]['Disciplina'].count()/x['Disciplina'].count()),x[x['Cont Disc'] == i]['Nota'].mean())"
   ]
  },
  {
   "cell_type": "code",
   "execution_count": 59,
   "metadata": {},
   "outputs": [
    {
     "ename": "KeyError",
     "evalue": "'vez'",
     "output_type": "error",
     "traceback": [
      "\u001b[0;31m---------------------------------------------------------------------------\u001b[0m",
      "\u001b[0;31mKeyError\u001b[0m                                  Traceback (most recent call last)",
      "\u001b[0;32m/opt/conda/lib/python3.7/site-packages/pandas/core/indexes/base.py\u001b[0m in \u001b[0;36mget_loc\u001b[0;34m(self, key, method, tolerance)\u001b[0m\n\u001b[1;32m   2890\u001b[0m             \u001b[0;32mtry\u001b[0m\u001b[0;34m:\u001b[0m\u001b[0;34m\u001b[0m\u001b[0;34m\u001b[0m\u001b[0m\n\u001b[0;32m-> 2891\u001b[0;31m                 \u001b[0;32mreturn\u001b[0m \u001b[0mself\u001b[0m\u001b[0;34m.\u001b[0m\u001b[0m_engine\u001b[0m\u001b[0;34m.\u001b[0m\u001b[0mget_loc\u001b[0m\u001b[0;34m(\u001b[0m\u001b[0mcasted_key\u001b[0m\u001b[0;34m)\u001b[0m\u001b[0;34m\u001b[0m\u001b[0;34m\u001b[0m\u001b[0m\n\u001b[0m\u001b[1;32m   2892\u001b[0m             \u001b[0;32mexcept\u001b[0m \u001b[0mKeyError\u001b[0m \u001b[0;32mas\u001b[0m \u001b[0merr\u001b[0m\u001b[0;34m:\u001b[0m\u001b[0;34m\u001b[0m\u001b[0;34m\u001b[0m\u001b[0m\n",
      "\u001b[0;32mpandas/_libs/index.pyx\u001b[0m in \u001b[0;36mpandas._libs.index.IndexEngine.get_loc\u001b[0;34m()\u001b[0m\n",
      "\u001b[0;32mpandas/_libs/index.pyx\u001b[0m in \u001b[0;36mpandas._libs.index.IndexEngine.get_loc\u001b[0;34m()\u001b[0m\n",
      "\u001b[0;32mpandas/_libs/hashtable_class_helper.pxi\u001b[0m in \u001b[0;36mpandas._libs.hashtable.PyObjectHashTable.get_item\u001b[0;34m()\u001b[0m\n",
      "\u001b[0;32mpandas/_libs/hashtable_class_helper.pxi\u001b[0m in \u001b[0;36mpandas._libs.hashtable.PyObjectHashTable.get_item\u001b[0;34m()\u001b[0m\n",
      "\u001b[0;31mKeyError\u001b[0m: 'vez'",
      "\nThe above exception was the direct cause of the following exception:\n",
      "\u001b[0;31mKeyError\u001b[0m                                  Traceback (most recent call last)",
      "\u001b[0;32m<ipython-input-59-ac3c95a1b2b7>\u001b[0m in \u001b[0;36m<module>\u001b[0;34m\u001b[0m\n\u001b[1;32m      1\u001b[0m \u001b[0;32mfor\u001b[0m \u001b[0mi\u001b[0m \u001b[0;32min\u001b[0m \u001b[0mx\u001b[0m\u001b[0;34m[\u001b[0m\u001b[0;34m'Cont Disc'\u001b[0m\u001b[0;34m]\u001b[0m\u001b[0;34m.\u001b[0m\u001b[0munique\u001b[0m\u001b[0;34m(\u001b[0m\u001b[0;34m)\u001b[0m\u001b[0;34m:\u001b[0m\u001b[0;34m\u001b[0m\u001b[0;34m\u001b[0m\u001b[0m\n\u001b[0;32m----> 2\u001b[0;31m     \u001b[0mprint\u001b[0m\u001b[0;34m(\u001b[0m\u001b[0mi\u001b[0m\u001b[0;34m,\u001b[0m\u001b[0mround\u001b[0m\u001b[0;34m(\u001b[0m\u001b[0;36m100\u001b[0m\u001b[0;34m*\u001b[0m\u001b[0mx\u001b[0m\u001b[0;34m[\u001b[0m\u001b[0mx\u001b[0m\u001b[0;34m[\u001b[0m\u001b[0;34m'Cont Disc'\u001b[0m\u001b[0;34m]\u001b[0m \u001b[0;34m==\u001b[0m \u001b[0mi\u001b[0m\u001b[0;34m]\u001b[0m\u001b[0;34m[\u001b[0m\u001b[0;34m'Aprovado'\u001b[0m\u001b[0;34m]\u001b[0m\u001b[0;34m.\u001b[0m\u001b[0mmean\u001b[0m\u001b[0;34m(\u001b[0m\u001b[0;34m)\u001b[0m\u001b[0;34m)\u001b[0m\u001b[0;34m,\u001b[0m\u001b[0mx\u001b[0m\u001b[0;34m[\u001b[0m\u001b[0mx\u001b[0m\u001b[0;34m[\u001b[0m\u001b[0;34m'vez'\u001b[0m\u001b[0;34m]\u001b[0m\u001b[0;34m==\u001b[0m\u001b[0mi\u001b[0m\u001b[0;34m]\u001b[0m\u001b[0;34m[\u001b[0m\u001b[0;34m'Disciplina'\u001b[0m\u001b[0;34m]\u001b[0m\u001b[0;34m.\u001b[0m\u001b[0mcount\u001b[0m\u001b[0;34m(\u001b[0m\u001b[0;34m)\u001b[0m\u001b[0;34m/\u001b[0m\u001b[0mx\u001b[0m\u001b[0;34m[\u001b[0m\u001b[0;34m'Disciplina'\u001b[0m\u001b[0;34m]\u001b[0m\u001b[0;34m.\u001b[0m\u001b[0mcount\u001b[0m\u001b[0;34m(\u001b[0m\u001b[0;34m)\u001b[0m\u001b[0;34m,\u001b[0m\u001b[0mx\u001b[0m\u001b[0;34m[\u001b[0m\u001b[0mx\u001b[0m\u001b[0;34m[\u001b[0m\u001b[0;34m'Cont Disc'\u001b[0m\u001b[0;34m]\u001b[0m \u001b[0;34m==\u001b[0m \u001b[0mi\u001b[0m\u001b[0;34m]\u001b[0m\u001b[0;34m[\u001b[0m\u001b[0;34m'Nota'\u001b[0m\u001b[0;34m]\u001b[0m\u001b[0;34m.\u001b[0m\u001b[0mmean\u001b[0m\u001b[0;34m(\u001b[0m\u001b[0;34m)\u001b[0m\u001b[0;34m)\u001b[0m\u001b[0;34m\u001b[0m\u001b[0;34m\u001b[0m\u001b[0m\n\u001b[0m",
      "\u001b[0;32m/opt/conda/lib/python3.7/site-packages/pandas/core/frame.py\u001b[0m in \u001b[0;36m__getitem__\u001b[0;34m(self, key)\u001b[0m\n\u001b[1;32m   2900\u001b[0m             \u001b[0;32mif\u001b[0m \u001b[0mself\u001b[0m\u001b[0;34m.\u001b[0m\u001b[0mcolumns\u001b[0m\u001b[0;34m.\u001b[0m\u001b[0mnlevels\u001b[0m \u001b[0;34m>\u001b[0m \u001b[0;36m1\u001b[0m\u001b[0;34m:\u001b[0m\u001b[0;34m\u001b[0m\u001b[0;34m\u001b[0m\u001b[0m\n\u001b[1;32m   2901\u001b[0m                 \u001b[0;32mreturn\u001b[0m \u001b[0mself\u001b[0m\u001b[0;34m.\u001b[0m\u001b[0m_getitem_multilevel\u001b[0m\u001b[0;34m(\u001b[0m\u001b[0mkey\u001b[0m\u001b[0;34m)\u001b[0m\u001b[0;34m\u001b[0m\u001b[0;34m\u001b[0m\u001b[0m\n\u001b[0;32m-> 2902\u001b[0;31m             \u001b[0mindexer\u001b[0m \u001b[0;34m=\u001b[0m \u001b[0mself\u001b[0m\u001b[0;34m.\u001b[0m\u001b[0mcolumns\u001b[0m\u001b[0;34m.\u001b[0m\u001b[0mget_loc\u001b[0m\u001b[0;34m(\u001b[0m\u001b[0mkey\u001b[0m\u001b[0;34m)\u001b[0m\u001b[0;34m\u001b[0m\u001b[0;34m\u001b[0m\u001b[0m\n\u001b[0m\u001b[1;32m   2903\u001b[0m             \u001b[0;32mif\u001b[0m \u001b[0mis_integer\u001b[0m\u001b[0;34m(\u001b[0m\u001b[0mindexer\u001b[0m\u001b[0;34m)\u001b[0m\u001b[0;34m:\u001b[0m\u001b[0;34m\u001b[0m\u001b[0;34m\u001b[0m\u001b[0m\n\u001b[1;32m   2904\u001b[0m                 \u001b[0mindexer\u001b[0m \u001b[0;34m=\u001b[0m \u001b[0;34m[\u001b[0m\u001b[0mindexer\u001b[0m\u001b[0;34m]\u001b[0m\u001b[0;34m\u001b[0m\u001b[0;34m\u001b[0m\u001b[0m\n",
      "\u001b[0;32m/opt/conda/lib/python3.7/site-packages/pandas/core/indexes/base.py\u001b[0m in \u001b[0;36mget_loc\u001b[0;34m(self, key, method, tolerance)\u001b[0m\n\u001b[1;32m   2891\u001b[0m                 \u001b[0;32mreturn\u001b[0m \u001b[0mself\u001b[0m\u001b[0;34m.\u001b[0m\u001b[0m_engine\u001b[0m\u001b[0;34m.\u001b[0m\u001b[0mget_loc\u001b[0m\u001b[0;34m(\u001b[0m\u001b[0mcasted_key\u001b[0m\u001b[0;34m)\u001b[0m\u001b[0;34m\u001b[0m\u001b[0;34m\u001b[0m\u001b[0m\n\u001b[1;32m   2892\u001b[0m             \u001b[0;32mexcept\u001b[0m \u001b[0mKeyError\u001b[0m \u001b[0;32mas\u001b[0m \u001b[0merr\u001b[0m\u001b[0;34m:\u001b[0m\u001b[0;34m\u001b[0m\u001b[0;34m\u001b[0m\u001b[0m\n\u001b[0;32m-> 2893\u001b[0;31m                 \u001b[0;32mraise\u001b[0m \u001b[0mKeyError\u001b[0m\u001b[0;34m(\u001b[0m\u001b[0mkey\u001b[0m\u001b[0;34m)\u001b[0m \u001b[0;32mfrom\u001b[0m \u001b[0merr\u001b[0m\u001b[0;34m\u001b[0m\u001b[0;34m\u001b[0m\u001b[0m\n\u001b[0m\u001b[1;32m   2894\u001b[0m \u001b[0;34m\u001b[0m\u001b[0m\n\u001b[1;32m   2895\u001b[0m         \u001b[0;32mif\u001b[0m \u001b[0mtolerance\u001b[0m \u001b[0;32mis\u001b[0m \u001b[0;32mnot\u001b[0m \u001b[0;32mNone\u001b[0m\u001b[0;34m:\u001b[0m\u001b[0;34m\u001b[0m\u001b[0;34m\u001b[0m\u001b[0m\n",
      "\u001b[0;31mKeyError\u001b[0m: 'vez'"
     ]
    }
   ],
   "source": [
    "for i in x['Cont Disc'].unique():\n",
    "    print(i,round(100*x[x['Cont Disc'] == i]['Aprovado'].mean()),x[x['vez']==i]['Disciplina'].count()/x['Disciplina'].count(),x[x['Cont Disc'] == i]['Nota'].mean())"
   ]
  },
  {
   "cell_type": "code",
   "execution_count": 272,
   "metadata": {},
   "outputs": [
    {
     "data": {
      "text/plain": [
       "0.9149590163934426"
      ]
     },
     "execution_count": 272,
     "metadata": {},
     "output_type": "execute_result"
    }
   ],
   "source": [
    "x[x['Cont Disc'] ==9]['Aprovado'].mean()"
   ]
  },
  {
   "cell_type": "code",
   "execution_count": 248,
   "metadata": {},
   "outputs": [
    {
     "name": "stderr",
     "output_type": "stream",
     "text": [
      "/opt/conda/lib/python3.7/site-packages/ipykernel_launcher.py:1: UserWarning: Boolean Series key will be reindexed to match DataFrame index.\n",
      "  \"\"\"Entry point for launching an IPython kernel.\n"
     ]
    },
    {
     "data": {
      "text/plain": [
       "Series([], dtype: int64)"
      ]
     },
     "execution_count": 248,
     "metadata": {},
     "output_type": "execute_result"
    }
   ],
   "source": [
    "df[df['Cont Disc'] >10][df['Semestre Historico'] == 20182].value_counts()"
   ]
  },
  {
   "cell_type": "code",
   "execution_count": 265,
   "metadata": {},
   "outputs": [
    {
     "ename": "SyntaxError",
     "evalue": "invalid syntax (<ipython-input-265-9423319dba18>, line 1)",
     "output_type": "error",
     "traceback": [
      "\u001b[0;36m  File \u001b[0;32m\"<ipython-input-265-9423319dba18>\"\u001b[0;36m, line \u001b[0;32m1\u001b[0m\n\u001b[0;31m    df[df['Cont Disc'] >10][df['Semestre Historico'] == ].value_counts()\u001b[0m\n\u001b[0m                                                        ^\u001b[0m\n\u001b[0;31mSyntaxError\u001b[0m\u001b[0;31m:\u001b[0m invalid syntax\n"
     ]
    }
   ],
   "source": [
    "df[df['Cont Disc'] >10][df['Semestre Historico'] == ].value_counts()"
   ]
  },
  {
   "cell_type": "code",
   "execution_count": 267,
   "metadata": {},
   "outputs": [
    {
     "data": {
      "text/plain": [
       "6     8219\n",
       "7     5802\n",
       "5     4822\n",
       "8     2824\n",
       "4     1644\n",
       "9      976\n",
       "3      793\n",
       "2      338\n",
       "10     297\n",
       "1      244\n",
       "21      63\n",
       "62      62\n",
       "27      54\n",
       "48      48\n",
       "12      35\n",
       "11      33\n",
       "33      33\n",
       "16      32\n",
       "31      31\n",
       "15      30\n",
       "30      30\n",
       "13      26\n",
       "22      22\n",
       "19      19\n",
       "18      18\n",
       "14      14\n",
       "Name: Cont Disc, dtype: int64"
      ]
     },
     "execution_count": 267,
     "metadata": {},
     "output_type": "execute_result"
    }
   ],
   "source": [
    "x['Cont Disc'].value_counts()"
   ]
  },
  {
   "cell_type": "code",
   "execution_count": null,
   "metadata": {},
   "outputs": [],
   "source": []
  },
  {
   "cell_type": "code",
   "execution_count": 47,
   "metadata": {},
   "outputs": [
    {
     "data": {
      "text/plain": [
       "Index(['Matricula', 'Semestre Historico', 'Matricula Professor', 'Disciplina',\n",
       "       'Periodo Vest', 'CPF', 'Sexo', 'Curso', 'Nome Curso', 'Pontos Vest',\n",
       "       'Ano Vest', 'Estado EM', 'Idade Vest', 'Etnia', 'Categoria de Ingresso',\n",
       "       'Nota', 'Horas Aula', 'Frequencia', 'TipoCurriculo', 'Revalida',\n",
       "       'Turma', 'Situacao Aluno', 'Aprovado', 'vez', 'Cont Disc', 'Aprov Disc',\n",
       "       'Aprov Aluno', 'Aprov Prof', 'Aprov -3', 'Aprov -1', 'IAA Sem',\n",
       "       'IAA Hist Sem'],\n",
       "      dtype='object')"
      ]
     },
     "execution_count": 47,
     "metadata": {},
     "output_type": "execute_result"
    }
   ],
   "source": [
    "df.columns"
   ]
  },
  {
   "cell_type": "markdown",
   "metadata": {},
   "source": [
    "### Disciplinas"
   ]
  },
  {
   "cell_type": "code",
   "execution_count": 83,
   "metadata": {},
   "outputs": [
    {
     "data": {
      "text/plain": [
       "array(['Ob', 'Op', nan], dtype=object)"
      ]
     },
     "execution_count": 83,
     "metadata": {},
     "output_type": "execute_result"
    }
   ],
   "source": [
    "df['TipoCurriculo'].unique()\n"
   ]
  },
  {
   "cell_type": "code",
   "execution_count": 87,
   "metadata": {},
   "outputs": [
    {
     "data": {
      "text/plain": [
       "Text(0.5, 1.0, 'Histograma de aprovação média por disciplina')"
      ]
     },
     "execution_count": 87,
     "metadata": {},
     "output_type": "execute_result"
    },
    {
     "data": {
      "image/png": "[encoded data removed]",
      "text/plain": [
       "<Figure size 432x288 with 1 Axes>"
      ]
     },
     "metadata": {
      "needs_background": "light"
     },
     "output_type": "display_data"
    }
   ],
   "source": [
    "x = df.groupby(['Disciplina']).agg({'Matricula':'count','TipoCurriculo':'first','Aprovado':'mean','IAA Hist Sem':'last','Etnia':'last','Situacao Aluno':'last','Periodo Vest':'first','Categoria de Ingresso':'first'})\n",
    "\n",
    "#Histogramas\n",
    "#g = sns.distplot(x['Aprovado'],kde=False)\n",
    "#Boxplots\n",
    "#x = df.groupby(['Matricula']).agg({'Matricula':'first','Aprovado':'mean','IAA Hist Sem':'last','Situacao Aluno':'last'})\n",
    "g = sns.boxplot(x = x.reset_index()['Disciplina'],y = x['Aprovado'])\n",
    "\n",
    "plt.xlabel('Aprovação Média')\n",
    "#plt.ylabel('Aprovação média')\n",
    "plt.title('Histograma de aprovação média por disciplina')\n",
    "#g.set_xticklabels(g.get_xticklabels(),rotation=90)"
   ]
  },
  {
   "cell_type": "code",
   "execution_count": 41,
   "metadata": {},
   "outputs": [
    {
     "data": {
      "text/plain": [
       "Text(0.5, 1.0, 'Histograma de nota média por disciplina')"
      ]
     },
     "execution_count": 41,
     "metadata": {},
     "output_type": "execute_result"
    },
    {
     "data": {
      "image/png": "[encoded data removed]",
      "text/plain": [
       "<Figure size 432x288 with 1 Axes>"
      ]
     },
     "metadata": {},
     "output_type": "display_data"
    }
   ],
   "source": [
    "x = df.groupby(['Disciplina']).agg({'Matricula':'count','Nota':'mean','Matricula Professor':'first','TipoCurriculo':'first','Aprovado':'mean','IAA Hist Sem':'last','Etnia':'last','Situacao Aluno':'last','Periodo Vest':'first','Categoria de Ingresso':'first'})\n",
    "\n",
    "#Histogramas\n",
    "g = sns.distplot(x['Nota'],kde=False)\n",
    "#Boxplots\n",
    "#x = df.groupby(['Matricula']).agg({'Matricula':'first','Aprovado':'mean','IAA Hist Sem':'last','Situacao Aluno':'last'})\n",
    "#g = sns.boxplot(x = x.reset_index()['Disciplina'],y = x['Aprovado'])\n",
    "\n",
    "plt.xlabel('Nota Média')\n",
    "#plt.ylabel('Aprovação média')\n",
    "plt.title('Histograma de nota média por disciplina')\n",
    "#g.set_xticklabels(g.get_xticklabels(),rotation=90)"
   ]
  },
  {
   "cell_type": "code",
   "execution_count": 84,
   "metadata": {},
   "outputs": [
    {
     "data": {
      "text/html": [
       "<div>\n",
       "<style scoped>\n",
       "    .dataframe tbody tr th:only-of-type {\n",
       "        vertical-align: middle;\n",
       "    }\n",
       "\n",
       "    .dataframe tbody tr th {\n",
       "        vertical-align: top;\n",
       "    }\n",
       "\n",
       "    .dataframe thead th {\n",
       "        text-align: right;\n",
       "    }\n",
       "</style>\n",
       "<table border=\"1\" class=\"dataframe\">\n",
       "  <thead>\n",
       "    <tr style=\"text-align: right;\">\n",
       "      <th></th>\n",
       "      <th>Matricula</th>\n",
       "      <th>TipoCurriculo</th>\n",
       "      <th>Aprovado</th>\n",
       "      <th>IAA Hist Sem</th>\n",
       "      <th>Etnia</th>\n",
       "      <th>Situacao Aluno</th>\n",
       "      <th>Periodo Vest</th>\n",
       "      <th>Categoria de Ingresso</th>\n",
       "    </tr>\n",
       "    <tr>\n",
       "      <th>Disciplina</th>\n",
       "      <th></th>\n",
       "      <th></th>\n",
       "      <th></th>\n",
       "      <th></th>\n",
       "      <th></th>\n",
       "      <th></th>\n",
       "      <th></th>\n",
       "      <th></th>\n",
       "    </tr>\n",
       "  </thead>\n",
       "  <tbody>\n",
       "    <tr>\n",
       "      <th>ANT5203</th>\n",
       "      <td>1</td>\n",
       "      <td>NaN</td>\n",
       "      <td>0.0</td>\n",
       "      <td>6.304348</td>\n",
       "      <td>NaN</td>\n",
       "      <td>abandono</td>\n",
       "      <td>19991</td>\n",
       "      <td>NaN</td>\n",
       "    </tr>\n",
       "    <tr>\n",
       "      <th>CCN5116</th>\n",
       "      <td>5</td>\n",
       "      <td>Op</td>\n",
       "      <td>0.0</td>\n",
       "      <td>2.740260</td>\n",
       "      <td>branca</td>\n",
       "      <td>abandono</td>\n",
       "      <td>20002</td>\n",
       "      <td>NaN</td>\n",
       "    </tr>\n",
       "    <tr>\n",
       "      <th>CNM7210</th>\n",
       "      <td>1</td>\n",
       "      <td>Ob</td>\n",
       "      <td>0.0</td>\n",
       "      <td>1.633929</td>\n",
       "      <td>preta</td>\n",
       "      <td>abandono</td>\n",
       "      <td>20142</td>\n",
       "      <td>Negro</td>\n",
       "    </tr>\n",
       "    <tr>\n",
       "      <th>DIR5105</th>\n",
       "      <td>1</td>\n",
       "      <td>NaN</td>\n",
       "      <td>0.0</td>\n",
       "      <td>3.111111</td>\n",
       "      <td>NaN</td>\n",
       "      <td>abandono</td>\n",
       "      <td>19992</td>\n",
       "      <td>NaN</td>\n",
       "    </tr>\n",
       "    <tr>\n",
       "      <th>DIR5115</th>\n",
       "      <td>1</td>\n",
       "      <td>NaN</td>\n",
       "      <td>0.0</td>\n",
       "      <td>3.318750</td>\n",
       "      <td>NaN</td>\n",
       "      <td>abandono</td>\n",
       "      <td>19962</td>\n",
       "      <td>NaN</td>\n",
       "    </tr>\n",
       "    <tr>\n",
       "      <th>EGR5053</th>\n",
       "      <td>1</td>\n",
       "      <td>Ob</td>\n",
       "      <td>0.0</td>\n",
       "      <td>4.228788</td>\n",
       "      <td>branca</td>\n",
       "      <td>formado</td>\n",
       "      <td>20102</td>\n",
       "      <td>Escola Pública</td>\n",
       "    </tr>\n",
       "    <tr>\n",
       "      <th>FSC5107</th>\n",
       "      <td>1</td>\n",
       "      <td>Ob</td>\n",
       "      <td>0.0</td>\n",
       "      <td>2.619565</td>\n",
       "      <td>preta</td>\n",
       "      <td>abandono</td>\n",
       "      <td>20111</td>\n",
       "      <td>Negro</td>\n",
       "    </tr>\n",
       "    <tr>\n",
       "      <th>FSC5909</th>\n",
       "      <td>1</td>\n",
       "      <td>Ob</td>\n",
       "      <td>0.0</td>\n",
       "      <td>6.445946</td>\n",
       "      <td>branca</td>\n",
       "      <td>regular</td>\n",
       "      <td>20141</td>\n",
       "      <td>PAA - Escola Pública - Renda até 1,5 Salário M...</td>\n",
       "    </tr>\n",
       "    <tr>\n",
       "      <th>LLV5801</th>\n",
       "      <td>1</td>\n",
       "      <td>NaN</td>\n",
       "      <td>0.0</td>\n",
       "      <td>0.000000</td>\n",
       "      <td>NaN</td>\n",
       "      <td>abandono</td>\n",
       "      <td>19941</td>\n",
       "      <td>NaN</td>\n",
       "    </tr>\n",
       "    <tr>\n",
       "      <th>MTM5115</th>\n",
       "      <td>1</td>\n",
       "      <td>Ob</td>\n",
       "      <td>0.0</td>\n",
       "      <td>1.674658</td>\n",
       "      <td>preta</td>\n",
       "      <td>abandono</td>\n",
       "      <td>20121</td>\n",
       "      <td>Negro</td>\n",
       "    </tr>\n",
       "    <tr>\n",
       "      <th>MTM5118</th>\n",
       "      <td>1</td>\n",
       "      <td>Ob</td>\n",
       "      <td>0.0</td>\n",
       "      <td>4.167712</td>\n",
       "      <td>parda</td>\n",
       "      <td>formado</td>\n",
       "      <td>20082</td>\n",
       "      <td>Classificação geral</td>\n",
       "    </tr>\n",
       "    <tr>\n",
       "      <th>MTM7003</th>\n",
       "      <td>1</td>\n",
       "      <td>NaN</td>\n",
       "      <td>0.0</td>\n",
       "      <td>4.688525</td>\n",
       "      <td>branca</td>\n",
       "      <td>abandono</td>\n",
       "      <td>20132</td>\n",
       "      <td>Classificação geral</td>\n",
       "    </tr>\n",
       "    <tr>\n",
       "      <th>PSI5212</th>\n",
       "      <td>1</td>\n",
       "      <td>Op</td>\n",
       "      <td>0.0</td>\n",
       "      <td>6.285550</td>\n",
       "      <td>branca</td>\n",
       "      <td>formado</td>\n",
       "      <td>19982</td>\n",
       "      <td>NaN</td>\n",
       "    </tr>\n",
       "    <tr>\n",
       "      <th>PSI7103</th>\n",
       "      <td>1</td>\n",
       "      <td>NaN</td>\n",
       "      <td>0.0</td>\n",
       "      <td>1.183908</td>\n",
       "      <td>preta</td>\n",
       "      <td>regular</td>\n",
       "      <td>20131</td>\n",
       "      <td>PAA - Escola Pública - Renda até 1,5 Salário M...</td>\n",
       "    </tr>\n",
       "    <tr>\n",
       "      <th>PSI7202</th>\n",
       "      <td>1</td>\n",
       "      <td>NaN</td>\n",
       "      <td>0.0</td>\n",
       "      <td>1.183908</td>\n",
       "      <td>preta</td>\n",
       "      <td>regular</td>\n",
       "      <td>20131</td>\n",
       "      <td>PAA - Escola Pública - Renda até 1,5 Salário M...</td>\n",
       "    </tr>\n",
       "    <tr>\n",
       "      <th>QMC5114</th>\n",
       "      <td>1</td>\n",
       "      <td>NaN</td>\n",
       "      <td>0.0</td>\n",
       "      <td>0.333333</td>\n",
       "      <td>NaN</td>\n",
       "      <td>abandono</td>\n",
       "      <td>19982</td>\n",
       "      <td>NaN</td>\n",
       "    </tr>\n",
       "    <tr>\n",
       "      <th>SPO5128</th>\n",
       "      <td>1</td>\n",
       "      <td>Op</td>\n",
       "      <td>0.0</td>\n",
       "      <td>3.317690</td>\n",
       "      <td>branca</td>\n",
       "      <td>formado</td>\n",
       "      <td>19962</td>\n",
       "      <td>NaN</td>\n",
       "    </tr>\n",
       "  </tbody>\n",
       "</table>\n",
       "</div>"
      ],
      "text/plain": [
       "            Matricula TipoCurriculo  Aprovado  IAA Hist Sem   Etnia  \\\n",
       "Disciplina                                                            \n",
       "ANT5203             1           NaN       0.0      6.304348     NaN   \n",
       "CCN5116             5            Op       0.0      2.740260  branca   \n",
       "CNM7210             1            Ob       0.0      1.633929   preta   \n",
       "DIR5105             1           NaN       0.0      3.111111     NaN   \n",
       "DIR5115             1           NaN       0.0      3.318750     NaN   \n",
       "EGR5053             1            Ob       0.0      4.228788  branca   \n",
       "FSC5107             1            Ob       0.0      2.619565   preta   \n",
       "FSC5909             1            Ob       0.0      6.445946  branca   \n",
       "LLV5801             1           NaN       0.0      0.000000     NaN   \n",
       "MTM5115             1            Ob       0.0      1.674658   preta   \n",
       "MTM5118             1            Ob       0.0      4.167712   parda   \n",
       "MTM7003             1           NaN       0.0      4.688525  branca   \n",
       "PSI5212             1            Op       0.0      6.285550  branca   \n",
       "PSI7103             1           NaN       0.0      1.183908   preta   \n",
       "PSI7202             1           NaN       0.0      1.183908   preta   \n",
       "QMC5114             1           NaN       0.0      0.333333     NaN   \n",
       "SPO5128             1            Op       0.0      3.317690  branca   \n",
       "\n",
       "           Situacao Aluno  Periodo Vest  \\\n",
       "Disciplina                                \n",
       "ANT5203          abandono         19991   \n",
       "CCN5116          abandono         20002   \n",
       "CNM7210          abandono         20142   \n",
       "DIR5105          abandono         19992   \n",
       "DIR5115          abandono         19962   \n",
       "EGR5053           formado         20102   \n",
       "FSC5107          abandono         20111   \n",
       "FSC5909           regular         20141   \n",
       "LLV5801          abandono         19941   \n",
       "MTM5115          abandono         20121   \n",
       "MTM5118           formado         20082   \n",
       "MTM7003          abandono         20132   \n",
       "PSI5212           formado         19982   \n",
       "PSI7103           regular         20131   \n",
       "PSI7202           regular         20131   \n",
       "QMC5114          abandono         19982   \n",
       "SPO5128           formado         19962   \n",
       "\n",
       "                                        Categoria de Ingresso  \n",
       "Disciplina                                                     \n",
       "ANT5203                                                   NaN  \n",
       "CCN5116                                                   NaN  \n",
       "CNM7210                                                 Negro  \n",
       "DIR5105                                                   NaN  \n",
       "DIR5115                                                   NaN  \n",
       "EGR5053                                        Escola Pública  \n",
       "FSC5107                                                 Negro  \n",
       "FSC5909     PAA - Escola Pública - Renda até 1,5 Salário M...  \n",
       "LLV5801                                                   NaN  \n",
       "MTM5115                                                 Negro  \n",
       "MTM5118                                   Classificação geral  \n",
       "MTM7003                                   Classificação geral  \n",
       "PSI5212                                                   NaN  \n",
       "PSI7103     PAA - Escola Pública - Renda até 1,5 Salário M...  \n",
       "PSI7202     PAA - Escola Pública - Renda até 1,5 Salário M...  \n",
       "QMC5114                                                   NaN  \n",
       "SPO5128                                                   NaN  "
      ]
     },
     "execution_count": 84,
     "metadata": {},
     "output_type": "execute_result"
    }
   ],
   "source": [
    "x[x['Aprovado']<0.2]"
   ]
  },
  {
   "cell_type": "markdown",
   "metadata": {},
   "source": [
    "### Professores"
   ]
  },
  {
   "cell_type": "code",
   "execution_count": 42,
   "metadata": {},
   "outputs": [
    {
     "data": {
      "text/plain": [
       "Matricula                2115\n",
       "Nota                     2115\n",
       "TipoCurriculo            2096\n",
       "Aprovado                 2115\n",
       "IAA Hist Sem             2115\n",
       "Etnia                    2090\n",
       "Situacao Aluno           2115\n",
       "Periodo Vest             2115\n",
       "Categoria de Ingresso    1617\n",
       "dtype: int64"
      ]
     },
     "execution_count": 42,
     "metadata": {},
     "output_type": "execute_result"
    }
   ],
   "source": [
    "x.count()"
   ]
  },
  {
   "cell_type": "code",
   "execution_count": 61,
   "metadata": {},
   "outputs": [
    {
     "data": {
      "text/plain": [
       "0.17919621749408984"
      ]
     },
     "execution_count": 61,
     "metadata": {},
     "output_type": "execute_result"
    }
   ],
   "source": [
    "379/2115"
   ]
  },
  {
   "cell_type": "code",
   "execution_count": 60,
   "metadata": {},
   "outputs": [
    {
     "data": {
      "text/plain": [
       "379"
      ]
     },
     "execution_count": 60,
     "metadata": {},
     "output_type": "execute_result"
    }
   ],
   "source": [
    "t = x[x['Nota']>=8]\n",
    "t[t['Nota']<=10]['Nota'].count()"
   ]
  },
  {
   "cell_type": "code",
   "execution_count": 36,
   "metadata": {},
   "outputs": [
    {
     "name": "stderr",
     "output_type": "stream",
     "text": [
      "/opt/conda/lib/python3.7/site-packages/seaborn/distributions.py:2551: FutureWarning: `distplot` is a deprecated function and will be removed in a future version. Please adapt your code to use either `displot` (a figure-level function with similar flexibility) or `histplot` (an axes-level function for histograms).\n",
      "  warnings.warn(msg, FutureWarning)\n"
     ]
    },
    {
     "data": {
      "text/plain": [
       "Text(0.5, 1.0, 'Histograma de nota média por professor')"
      ]
     },
     "execution_count": 36,
     "metadata": {},
     "output_type": "execute_result"
    },
    {
     "data": {
      "image/png": "[encoded data removed]",
      "text/plain": [
       "<Figure size 432x288 with 1 Axes>"
      ]
     },
     "metadata": {},
     "output_type": "display_data"
    }
   ],
   "source": [
    "x = df.groupby(['Matricula Professor']).agg({'Matricula':'count','Nota':'mean','TipoCurriculo':'first','Nota':'mean','Aprovado':'mean','IAA Hist Sem':'last','Etnia':'last','Situacao Aluno':'last','Periodo Vest':'first','Categoria de Ingresso':'first'})\n",
    "\n",
    "#Histogramas\n",
    "g = sns.distplot(x['Nota'],kde=False)\n",
    "#Boxplots\n",
    "#x = df.groupby(['Matricula']).agg({'Matricula':'first','Aprovado':'mean','IAA Hist Sem':'last','Situacao Aluno':'last'})\n",
    "#g = sns.boxplot(x = x.reset_index()['Disciplina'],y = x['Aprovado'])\n",
    "\n",
    "plt.xlabel('Nota Média')\n",
    "#plt.ylabel('Aprovação média')\n",
    "plt.title('Histograma de nota média por professor')\n",
    "#g.set_xticklabels(g.get_xticklabels(),rotation=90)"
   ]
  },
  {
   "cell_type": "code",
   "execution_count": 44,
   "metadata": {},
   "outputs": [
    {
     "data": {
      "text/plain": [
       "Matricula                2115\n",
       "Nota                     2115\n",
       "Matricula Professor      2115\n",
       "TipoCurriculo            2096\n",
       "Aprovado                 2115\n",
       "IAA Hist Sem             2115\n",
       "Etnia                    2090\n",
       "Situacao Aluno           2115\n",
       "Periodo Vest             2115\n",
       "Categoria de Ingresso    1617\n",
       "dtype: int64"
      ]
     },
     "execution_count": 44,
     "metadata": {},
     "output_type": "execute_result"
    }
   ],
   "source": [
    "x = df.groupby(['Matricula Professor']).agg({'Matricula':'count','Nota':'mean','Matricula Professor':'first','TipoCurriculo':'first','Aprovado':'mean','IAA Hist Sem':'last','Etnia':'last','Situacao Aluno':'last','Periodo Vest':'first','Categoria de Ingresso':'first'})\n",
    "x.count()"
   ]
  },
  {
   "cell_type": "code",
   "execution_count": 47,
   "metadata": {},
   "outputs": [
    {
     "data": {
      "text/html": [
       "<div>\n",
       "<style scoped>\n",
       "    .dataframe tbody tr th:only-of-type {\n",
       "        vertical-align: middle;\n",
       "    }\n",
       "\n",
       "    .dataframe tbody tr th {\n",
       "        vertical-align: top;\n",
       "    }\n",
       "\n",
       "    .dataframe thead th {\n",
       "        text-align: right;\n",
       "    }\n",
       "</style>\n",
       "<table border=\"1\" class=\"dataframe\">\n",
       "  <thead>\n",
       "    <tr style=\"text-align: right;\">\n",
       "      <th></th>\n",
       "      <th>Matricula</th>\n",
       "      <th>Nota</th>\n",
       "      <th>Matricula Professor</th>\n",
       "      <th>TipoCurriculo</th>\n",
       "      <th>Aprovado</th>\n",
       "      <th>IAA Hist Sem</th>\n",
       "      <th>Etnia</th>\n",
       "      <th>Situacao Aluno</th>\n",
       "      <th>Periodo Vest</th>\n",
       "      <th>Categoria de Ingresso</th>\n",
       "    </tr>\n",
       "    <tr>\n",
       "      <th>Matricula Professor</th>\n",
       "      <th></th>\n",
       "      <th></th>\n",
       "      <th></th>\n",
       "      <th></th>\n",
       "      <th></th>\n",
       "      <th></th>\n",
       "      <th></th>\n",
       "      <th></th>\n",
       "      <th></th>\n",
       "      <th></th>\n",
       "    </tr>\n",
       "  </thead>\n",
       "  <tbody>\n",
       "    <tr>\n",
       "      <th>546270.0</th>\n",
       "      <td>2</td>\n",
       "      <td>0.0</td>\n",
       "      <td>546270.0</td>\n",
       "      <td>Op</td>\n",
       "      <td>0.0</td>\n",
       "      <td>6.801887</td>\n",
       "      <td>branca</td>\n",
       "      <td>formado</td>\n",
       "      <td>20072</td>\n",
       "      <td>Classificação geral</td>\n",
       "    </tr>\n",
       "  </tbody>\n",
       "</table>\n",
       "</div>"
      ],
      "text/plain": [
       "                     Matricula  Nota  Matricula Professor TipoCurriculo  \\\n",
       "Matricula Professor                                                       \n",
       "546270.0                     2   0.0             546270.0            Op   \n",
       "\n",
       "                     Aprovado  IAA Hist Sem   Etnia Situacao Aluno  \\\n",
       "Matricula Professor                                                  \n",
       "546270.0                  0.0      6.801887  branca        formado   \n",
       "\n",
       "                     Periodo Vest Categoria de Ingresso  \n",
       "Matricula Professor                                      \n",
       "546270.0                    20072   Classificação geral  "
      ]
     },
     "execution_count": 47,
     "metadata": {},
     "output_type": "execute_result"
    }
   ],
   "source": [
    "t = x[x['Nota'] == 0]\n",
    "t[t['Matricula'] > 1]"
   ]
  },
  {
   "cell_type": "code",
   "execution_count": 95,
   "metadata": {},
   "outputs": [
    {
     "data": {
      "text/html": [
       "<div>\n",
       "<style scoped>\n",
       "    .dataframe tbody tr th:only-of-type {\n",
       "        vertical-align: middle;\n",
       "    }\n",
       "\n",
       "    .dataframe tbody tr th {\n",
       "        vertical-align: top;\n",
       "    }\n",
       "\n",
       "    .dataframe thead th {\n",
       "        text-align: right;\n",
       "    }\n",
       "</style>\n",
       "<table border=\"1\" class=\"dataframe\">\n",
       "  <thead>\n",
       "    <tr style=\"text-align: right;\">\n",
       "      <th></th>\n",
       "      <th></th>\n",
       "      <th>Matricula</th>\n",
       "      <th>Disciplina</th>\n",
       "      <th>Matricula Professor</th>\n",
       "      <th>TipoCurriculo</th>\n",
       "      <th>Aprovado</th>\n",
       "      <th>IAA Hist Sem</th>\n",
       "      <th>Etnia</th>\n",
       "      <th>Situacao Aluno</th>\n",
       "      <th>Periodo Vest</th>\n",
       "      <th>Categoria de Ingresso</th>\n",
       "    </tr>\n",
       "    <tr>\n",
       "      <th>Disciplina</th>\n",
       "      <th>Matricula Professor</th>\n",
       "      <th></th>\n",
       "      <th></th>\n",
       "      <th></th>\n",
       "      <th></th>\n",
       "      <th></th>\n",
       "      <th></th>\n",
       "      <th></th>\n",
       "      <th></th>\n",
       "      <th></th>\n",
       "      <th></th>\n",
       "    </tr>\n",
       "  </thead>\n",
       "  <tbody>\n",
       "    <tr>\n",
       "      <th>EQA5342</th>\n",
       "      <th>541286.0</th>\n",
       "      <td>59</td>\n",
       "      <td>EQA5342</td>\n",
       "      <td>541286.0</td>\n",
       "      <td>Ob</td>\n",
       "      <td>0.898305</td>\n",
       "      <td>2.188679</td>\n",
       "      <td>parda</td>\n",
       "      <td>formado</td>\n",
       "      <td>20021</td>\n",
       "      <td>Negro</td>\n",
       "    </tr>\n",
       "    <tr>\n",
       "      <th>ARQ5683</th>\n",
       "      <th>63198.0</th>\n",
       "      <td>12</td>\n",
       "      <td>ARQ5683</td>\n",
       "      <td>63198.0</td>\n",
       "      <td>Op</td>\n",
       "      <td>1.000000</td>\n",
       "      <td>9.140127</td>\n",
       "      <td>parda</td>\n",
       "      <td>regular</td>\n",
       "      <td>20032</td>\n",
       "      <td>Classificação geral</td>\n",
       "    </tr>\n",
       "    <tr>\n",
       "      <th>ARQ5617</th>\n",
       "      <th>527429.0</th>\n",
       "      <td>102</td>\n",
       "      <td>ARQ5617</td>\n",
       "      <td>527429.0</td>\n",
       "      <td>Ob</td>\n",
       "      <td>0.980392</td>\n",
       "      <td>3.745949</td>\n",
       "      <td>branca</td>\n",
       "      <td>abandono</td>\n",
       "      <td>20001</td>\n",
       "      <td>NaN</td>\n",
       "    </tr>\n",
       "    <tr>\n",
       "      <th>EGR5616</th>\n",
       "      <th>33477.0</th>\n",
       "      <td>16</td>\n",
       "      <td>EGR5616</td>\n",
       "      <td>33477.0</td>\n",
       "      <td>Ob</td>\n",
       "      <td>0.937500</td>\n",
       "      <td>3.391304</td>\n",
       "      <td>branca</td>\n",
       "      <td>formado</td>\n",
       "      <td>20001</td>\n",
       "      <td>NaN</td>\n",
       "    </tr>\n",
       "  </tbody>\n",
       "</table>\n",
       "</div>"
      ],
      "text/plain": [
       "                                Matricula Disciplina  Matricula Professor  \\\n",
       "Disciplina Matricula Professor                                              \n",
       "EQA5342    541286.0                    59    EQA5342             541286.0   \n",
       "ARQ5683    63198.0                     12    ARQ5683              63198.0   \n",
       "ARQ5617    527429.0                   102    ARQ5617             527429.0   \n",
       "EGR5616    33477.0                     16    EGR5616              33477.0   \n",
       "\n",
       "                               TipoCurriculo  Aprovado  IAA Hist Sem   Etnia  \\\n",
       "Disciplina Matricula Professor                                                 \n",
       "EQA5342    541286.0                       Ob  0.898305      2.188679   parda   \n",
       "ARQ5683    63198.0                        Op  1.000000      9.140127   parda   \n",
       "ARQ5617    527429.0                       Ob  0.980392      3.745949  branca   \n",
       "EGR5616    33477.0                        Ob  0.937500      3.391304  branca   \n",
       "\n",
       "                               Situacao Aluno  Periodo Vest  \\\n",
       "Disciplina Matricula Professor                                \n",
       "EQA5342    541286.0                   formado         20021   \n",
       "ARQ5683    63198.0                    regular         20032   \n",
       "ARQ5617    527429.0                  abandono         20001   \n",
       "EGR5616    33477.0                    formado         20001   \n",
       "\n",
       "                               Categoria de Ingresso  \n",
       "Disciplina Matricula Professor                        \n",
       "EQA5342    541286.0                            Negro  \n",
       "ARQ5683    63198.0               Classificação geral  \n",
       "ARQ5617    527429.0                              NaN  \n",
       "EGR5616    33477.0                               NaN  "
      ]
     },
     "execution_count": 95,
     "metadata": {},
     "output_type": "execute_result"
    }
   ],
   "source": [
    "x = df.groupby(['Disciplina','Matricula Professor']).agg({'Matricula':'count','Disciplina':'first','Matricula Professor':'first','TipoCurriculo':'first','Aprovado':'mean','IAA Hist Sem':'last','Etnia':'last','Situacao Aluno':'last','Periodo Vest':'first','Categoria de Ingresso':'first'})\n",
    "#x = x.groupby(['Disciplina']).agg({'Matricula':'count','TipoCurriculo':'first','Aprovado':'mean','IAA Hist Sem':'last','Etnia':'last','Situacao Aluno':'last','Periodo Vest':'first','Categoria de Ingresso':'first'})\n",
    "x.sample(4)"
   ]
  },
  {
   "cell_type": "markdown",
   "metadata": {},
   "source": [
    "### Histórico"
   ]
  },
  {
   "cell_type": "code",
   "execution_count": 123,
   "metadata": {},
   "outputs": [
    {
     "data": {
      "text/plain": [
       "[Text(0, 0, '20001'),\n",
       " Text(1, 0, '20002'),\n",
       " Text(2, 0, '20011'),\n",
       " Text(3, 0, '20012'),\n",
       " Text(4, 0, '20021'),\n",
       " Text(5, 0, '20022'),\n",
       " Text(6, 0, '20031'),\n",
       " Text(7, 0, '20032'),\n",
       " Text(8, 0, '20041'),\n",
       " Text(9, 0, '20042'),\n",
       " Text(10, 0, '20051'),\n",
       " Text(11, 0, '20052'),\n",
       " Text(12, 0, '20061'),\n",
       " Text(13, 0, '20062'),\n",
       " Text(14, 0, '20071'),\n",
       " Text(15, 0, '20072'),\n",
       " Text(16, 0, '20081'),\n",
       " Text(17, 0, '20082'),\n",
       " Text(18, 0, '20091'),\n",
       " Text(19, 0, '20092'),\n",
       " Text(20, 0, '20101'),\n",
       " Text(21, 0, '20102'),\n",
       " Text(22, 0, '20111'),\n",
       " Text(23, 0, '20112'),\n",
       " Text(24, 0, '20121'),\n",
       " Text(25, 0, '20122'),\n",
       " Text(26, 0, '20131'),\n",
       " Text(27, 0, '20132'),\n",
       " Text(28, 0, '20141'),\n",
       " Text(29, 0, '20142'),\n",
       " Text(30, 0, '20151'),\n",
       " Text(31, 0, '20152'),\n",
       " Text(32, 0, '20161'),\n",
       " Text(33, 0, '20162'),\n",
       " Text(34, 0, '20171'),\n",
       " Text(35, 0, '20172'),\n",
       " Text(36, 0, '20181'),\n",
       " Text(37, 0, '20182')]"
      ]
     },
     "execution_count": 123,
     "metadata": {},
     "output_type": "execute_result"
    },
    {
     "data": {
      "image/png": "[encoded data removed]",
      "text/plain": [
       "<Figure size 432x288 with 1 Axes>"
      ]
     },
     "metadata": {
      "needs_background": "light"
     },
     "output_type": "display_data"
    },
    {
     "data": {
      "image/png": "[encoded data removed]",
      "text/plain": [
       "<Figure size 720x2160 with 1 Axes>"
      ]
     },
     "metadata": {
      "needs_background": "light"
     },
     "output_type": "display_data"
    }
   ],
   "source": [
    "#df[df['Semestre Historico']]\n",
    "x = df.groupby(['Semestre Historico']).agg({'Matricula':'count','Matricula Professor':'first','TipoCurriculo':'first','Aprovado':'mean','IAA Hist Sem':'last','Etnia':'last','Situacao Aluno':'last','Periodo Vest':'first','Categoria de Ingresso':'first'})\n",
    "x = x.reset_index()\n",
    "x = x[x['Semestre Historico']!=20191]\n",
    "#Histogramas\n",
    "#g = sns.distplot(x['Aprovado'],kde=False)\n",
    "g = sns.barplot(x='Semestre Historico',y='Aprovado',data=x)\n",
    "#Boxplots\n",
    "#x = df.groupby(['Matricula']).agg({'Matricula':'first','Aprovado':'mean','IAA Hist Sem':'last','Situacao Aluno':'last'})\n",
    "#g = sns.boxplot(x = x.reset_index()['Disciplina'],y = x['Aprovado'])\n",
    "plt.figure(figsize=(10,30)) \n",
    "\n",
    "\n",
    "plt.xlabel('Semestre')\n",
    "plt.ylabel('Aprovação média')\n",
    "plt.title('Histograma de aprovação média por semestre')\n",
    "g.set_xticklabels(g.get_xticklabels(),fontsize=9,rotation=90)"
   ]
  },
  {
   "cell_type": "code",
   "execution_count": 118,
   "metadata": {},
   "outputs": [],
   "source": [
    "df = df[df['Semestre Historico'] %10 !=3]"
   ]
  },
  {
   "cell_type": "code",
   "execution_count": 104,
   "metadata": {},
   "outputs": [
    {
     "data": {
      "text/plain": [
       "array([20001, 20002, 20011, 20012, 20013, 20021, 20022, 20023, 20031,\n",
       "       20032, 20033, 20041, 20042, 20043, 20051, 20052, 20053, 20061,\n",
       "       20062, 20063, 20071, 20072, 20073, 20081, 20082, 20083, 20092,\n",
       "       20093, 20101, 20102, 20103, 20111, 20112, 20113, 20121, 20122,\n",
       "       20123, 20131, 20132, 20133, 20141, 20142, 20143, 20151, 20152,\n",
       "       20153, 20161, 20162, 20163, 20171, 20172, 20173, 20181, 20182,\n",
       "       20183, 20191])"
      ]
     },
     "execution_count": 104,
     "metadata": {},
     "output_type": "execute_result"
    }
   ],
   "source": []
  },
  {
   "cell_type": "code",
   "execution_count": null,
   "metadata": {},
   "outputs": [],
   "source": []
  },
  {
   "cell_type": "code",
   "execution_count": 105,
   "metadata": {},
   "outputs": [
    {
     "data": {
      "text/plain": [
       "branca           7239\n",
       "parda             402\n",
       "amarela           177\n",
       "preta              31\n",
       "não declarada      11\n",
       "indígena            2\n",
       "Name: Etnia, dtype: int64"
      ]
     },
     "execution_count": 105,
     "metadata": {},
     "output_type": "execute_result"
    },
    {
     "data": {
      "image/png": "[encoded data removed]",
      "text/plain": [
       "<Figure size 432x288 with 1 Axes>"
      ]
     },
     "metadata": {
      "needs_background": "light"
     },
     "output_type": "display_data"
    }
   ],
   "source": [
    "x = df.groupby(['Matricula']).agg({'Matricula':'first','Aprovado':'mean','IAA Hist Sem':'last','Etnia':'last','Periodo Vest':'first','Categoria de Ingresso':'first'})\n",
    "lis = x['Categoria de Ingresso'].unique()\n",
    "x['Categoria de Ingresso'] = x['Categoria de Ingresso'].apply(lambda x:'Não' if x == 'Classificação geral' else 'Sim' )\n",
    "\n",
    "\n",
    "g = sns.distplot(x[x['Categoria de Ingresso']=='Não']['Periodo Vest'],kde=False)\n",
    "\n",
    "x[x['Categoria de Ingresso']=='Não']['Etnia'].value_counts()\n",
    "#x[x['Categoria de Ingresso']=='Sim'].count()\n",
    "#g = sns.barplot(x = x['Categoria de Ingresso'],y = x['Matricula'].count())"
   ]
  },
  {
   "cell_type": "code",
   "execution_count": 106,
   "metadata": {},
   "outputs": [
    {
     "data": {
      "text/plain": [
       "branca           10721\n",
       "parda             1290\n",
       "preta              762\n",
       "amarela            259\n",
       "indígena            45\n",
       "não declarada       12\n",
       "Name: Etnia, dtype: int64"
      ]
     },
     "execution_count": 106,
     "metadata": {},
     "output_type": "execute_result"
    }
   ],
   "source": [
    "x[x['Categoria de Ingresso']=='Sim']['Etnia'].value_counts()"
   ]
  },
  {
   "cell_type": "code",
   "execution_count": null,
   "metadata": {},
   "outputs": [],
   "source": []
  },
  {
   "cell_type": "code",
   "execution_count": null,
   "metadata": {},
   "outputs": [],
   "source": []
  },
  {
   "cell_type": "code",
   "execution_count": null,
   "metadata": {},
   "outputs": [],
   "source": [
    "~"
   ]
  }
 ],
 "metadata": {
  "environment": {
   "name": "common-cpu.m56",
   "type": "gcloud",
   "uri": "gcr.io/deeplearning-platform-release/base-cpu:m56"
  },
  "kernelspec": {
   "display_name": "Python 3",
   "language": "python",
   "name": "python3"
  },
  "language_info": {
   "codemirror_mode": {
    "name": "ipython",
    "version": 3
   },
   "file_extension": ".py",
   "mimetype": "text/x-python",
   "name": "python",
   "nbconvert_exporter": "python",
   "pygments_lexer": "ipython3",
   "version": "3.7.8"
  }
 },
 "nbformat": 4,
 "nbformat_minor": 4
}
