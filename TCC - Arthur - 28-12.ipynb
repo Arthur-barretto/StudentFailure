{
 "cells": [
  {
   "cell_type": "code",
   "execution_count": 1,
   "metadata": {},
   "outputs": [],
   "source": [
    "import pandas as pd\n",
    "import numpy as np\n",
    "import seaborn as sns\n",
    "import matplotlib.pyplot as plt"
   ]
  },
  {
   "cell_type": "code",
   "execution_count": 2,
   "metadata": {},
   "outputs": [],
   "source": [
    "from sklearn.model_selection import train_test_split\n",
    "from sklearn.tree import DecisionTreeClassifier\n",
    "from sklearn.tree import DecisionTreeRegressor\n",
    "from sklearn.metrics import accuracy_score\n",
    "from sklearn import tree\n",
    "\n",
    "from sklearn import metrics\n",
    "from sklearn import preprocessing\n",
    "from sklearn.tree import DecisionTreeRegressor\n",
    "from sklearn.model_selection import GridSearchCV, cross_val_score, cross_val_predict, train_test_split\n",
    "from sklearn.metrics import confusion_matrix,roc_auc_score,classification_report\n",
    "\n",
    "from sklearn.linear_model import LogisticRegression\n",
    "from sklearn.ensemble import RandomForestClassifier"
   ]
  },
  {
   "cell_type": "code",
   "execution_count": 3,
   "metadata": {},
   "outputs": [],
   "source": [
    "def nome_cols(df):\n",
    "    df.rename(columns = {\"nu_anoing_aln\":\"Periodo Vest\",\n",
    "                     \"nu_matric_aln\":\"Matricula\",\n",
    "                     \"nu_cpf_aln\":\"CPF\",\n",
    "                     \"cd_sexo_sex\":\"Sexo\",\n",
    "                     \"nm_nacional_pai\":\"Nacionalidade\",\n",
    "                     \"Naturalidade\":\"Naturalidade Pai\",\n",
    "                     \"cd_unifed_ufe\":\"Estado\",\n",
    "                     \"cd_curso_cur\":\"Curso\",\n",
    "                     \"cd_centro_cen\":\"Centro\",\n",
    "                     \"dc_turno_tur\":\"Turno\",\n",
    "                     \"nu_vestpontost_aln\" :\"Pontos Vest\",\n",
    "                     \"nu_anoIngressoVest_aln\":\"Ano Vest\",\n",
    "                     \"nu_anosg_aln\":\"Ano Form Colegio\",\n",
    "                     \"nm_escolasg_aln\":\"Colegio EM\",\n",
    "                     \"EnsinoMedio\":\"Cidade EM\",\n",
    "                     \"cd_unifed_ufe.1\":\"Estado EM\",\n",
    "                     \"Dt.Nascto\":\"Data Nasc\",\n",
    "                     \"IdadeVestibular\":\"Idade Vest\",\n",
    "                     \"dc_raca_rac\":\"Etnia\",\n",
    "                     \"dc_ingresso_ing\":\"Forma de Ingresso\",\n",
    "                     \"fl_professorEad_aln\":\"Ead\",\n",
    "                     \"dc_categoriaEad_cae\":\"Categoria de Ingresso\",\n",
    "                     \"nu_semestremax_cha\":\"SemestreMax\",\n",
    "                     \"nu_sem_hst\":\"Semestre Historico\",\n",
    "                     \"cd_disciplina_dis\":\"Disciplina\",\n",
    "                     \"nu_nota_tpn\":'Nota',\n",
    "                     \"nu_ha_hst\":\"Horas Aula\",\n",
    "                     \"cd_frequencia_frq\":\"Frequencia\",\n",
    "                     \"cd_tipodiscurriculo_tdc\":\"TipoCurriculo\",\n",
    "                     \"cd_revalida_rev\":\"Revalida\",\n",
    "                     \"cd_turma_hst\":\"Turma\",\n",
    "                     \"nu_matric_pss\":\"Matricula Professor\",\n",
    "                     \"nu_SIAPE_pss\":\"SIAPE Professor\",\n",
    "                     \"nm_funcionario_pss\":\"Nome Professor\",\n",
    "                     \"cd_situacao_sta\":\"Situacao Aluno num\",\n",
    "                     \"dc_situacao_sta\":\"Situacao Aluno\",\n",
    "                     \"cd_categoriaEad_cae\":\"Ead cae\",\n",
    "                     \"fl_professorEad_aln.1\":\"Professor Ead\",\n",
    "                     \"nm_curso_cur\":\"Nome Curso\"},\n",
    "          inplace=True)"
   ]
  },
  {
   "cell_type": "code",
   "execution_count": 4,
   "metadata": {},
   "outputs": [
    {
     "ename": "KeyboardInterrupt",
     "evalue": "",
     "output_type": "error",
     "traceback": [
      "\u001b[0;31m---------------------------------------------------------------------------\u001b[0m",
      "\u001b[0;31mKeyboardInterrupt\u001b[0m                         Traceback (most recent call last)",
      "\u001b[0;32m<ipython-input-4-2102ed46f084>\u001b[0m in \u001b[0;36m<module>\u001b[0;34m\u001b[0m\n\u001b[1;32m      2\u001b[0m \u001b[0mdf_ini_2\u001b[0m \u001b[0;34m=\u001b[0m \u001b[0mpd\u001b[0m\u001b[0;34m.\u001b[0m\u001b[0mread_csv\u001b[0m\u001b[0;34m(\u001b[0m\u001b[0;34m\"Dados CTC (2ª leva) - 2006-2010.csv\"\u001b[0m\u001b[0;34m,\u001b[0m\u001b[0mlow_memory\u001b[0m\u001b[0;34m=\u001b[0m\u001b[0;32mFalse\u001b[0m\u001b[0;34m)\u001b[0m\u001b[0;34m\u001b[0m\u001b[0;34m\u001b[0m\u001b[0m\n\u001b[1;32m      3\u001b[0m \u001b[0mdf_ini_3\u001b[0m \u001b[0;34m=\u001b[0m \u001b[0mpd\u001b[0m\u001b[0;34m.\u001b[0m\u001b[0mread_csv\u001b[0m\u001b[0;34m(\u001b[0m\u001b[0;34m\"Dados CTC (2ª leva) - 2011-2015.csv\"\u001b[0m\u001b[0;34m,\u001b[0m\u001b[0mlow_memory\u001b[0m\u001b[0;34m=\u001b[0m\u001b[0;32mFalse\u001b[0m\u001b[0;34m)\u001b[0m\u001b[0;34m\u001b[0m\u001b[0;34m\u001b[0m\u001b[0m\n\u001b[0;32m----> 4\u001b[0;31m \u001b[0mdf_ini_4\u001b[0m \u001b[0;34m=\u001b[0m \u001b[0mpd\u001b[0m\u001b[0;34m.\u001b[0m\u001b[0mread_csv\u001b[0m\u001b[0;34m(\u001b[0m\u001b[0;34m\"Dados CTC (2ª leva) - 2016-2019.csv\"\u001b[0m\u001b[0;34m,\u001b[0m\u001b[0mlow_memory\u001b[0m\u001b[0;34m=\u001b[0m\u001b[0;32mFalse\u001b[0m\u001b[0;34m)\u001b[0m\u001b[0;34m\u001b[0m\u001b[0;34m\u001b[0m\u001b[0m\n\u001b[0m\u001b[1;32m      5\u001b[0m \u001b[0;34m\u001b[0m\u001b[0m\n\u001b[1;32m      6\u001b[0m \u001b[0;31m#Juntar dfs\u001b[0m\u001b[0;34m\u001b[0m\u001b[0;34m\u001b[0m\u001b[0;34m\u001b[0m\u001b[0m\n",
      "\u001b[0;32m/opt/conda/lib/python3.7/site-packages/pandas/io/parsers.py\u001b[0m in \u001b[0;36mread_csv\u001b[0;34m(filepath_or_buffer, sep, delimiter, header, names, index_col, usecols, squeeze, prefix, mangle_dupe_cols, dtype, engine, converters, true_values, false_values, skipinitialspace, skiprows, skipfooter, nrows, na_values, keep_default_na, na_filter, verbose, skip_blank_lines, parse_dates, infer_datetime_format, keep_date_col, date_parser, dayfirst, cache_dates, iterator, chunksize, compression, thousands, decimal, lineterminator, quotechar, quoting, doublequote, escapechar, comment, encoding, dialect, error_bad_lines, warn_bad_lines, delim_whitespace, low_memory, memory_map, float_precision)\u001b[0m\n\u001b[1;32m    684\u001b[0m     )\n\u001b[1;32m    685\u001b[0m \u001b[0;34m\u001b[0m\u001b[0m\n\u001b[0;32m--> 686\u001b[0;31m     \u001b[0;32mreturn\u001b[0m \u001b[0m_read\u001b[0m\u001b[0;34m(\u001b[0m\u001b[0mfilepath_or_buffer\u001b[0m\u001b[0;34m,\u001b[0m \u001b[0mkwds\u001b[0m\u001b[0;34m)\u001b[0m\u001b[0;34m\u001b[0m\u001b[0;34m\u001b[0m\u001b[0m\n\u001b[0m\u001b[1;32m    687\u001b[0m \u001b[0;34m\u001b[0m\u001b[0m\n\u001b[1;32m    688\u001b[0m \u001b[0;34m\u001b[0m\u001b[0m\n",
      "\u001b[0;32m/opt/conda/lib/python3.7/site-packages/pandas/io/parsers.py\u001b[0m in \u001b[0;36m_read\u001b[0;34m(filepath_or_buffer, kwds)\u001b[0m\n\u001b[1;32m    456\u001b[0m \u001b[0;34m\u001b[0m\u001b[0m\n\u001b[1;32m    457\u001b[0m     \u001b[0;32mtry\u001b[0m\u001b[0;34m:\u001b[0m\u001b[0;34m\u001b[0m\u001b[0;34m\u001b[0m\u001b[0m\n\u001b[0;32m--> 458\u001b[0;31m         \u001b[0mdata\u001b[0m \u001b[0;34m=\u001b[0m \u001b[0mparser\u001b[0m\u001b[0;34m.\u001b[0m\u001b[0mread\u001b[0m\u001b[0;34m(\u001b[0m\u001b[0mnrows\u001b[0m\u001b[0;34m)\u001b[0m\u001b[0;34m\u001b[0m\u001b[0;34m\u001b[0m\u001b[0m\n\u001b[0m\u001b[1;32m    459\u001b[0m     \u001b[0;32mfinally\u001b[0m\u001b[0;34m:\u001b[0m\u001b[0;34m\u001b[0m\u001b[0;34m\u001b[0m\u001b[0m\n\u001b[1;32m    460\u001b[0m         \u001b[0mparser\u001b[0m\u001b[0;34m.\u001b[0m\u001b[0mclose\u001b[0m\u001b[0;34m(\u001b[0m\u001b[0;34m)\u001b[0m\u001b[0;34m\u001b[0m\u001b[0;34m\u001b[0m\u001b[0m\n",
      "\u001b[0;32m/opt/conda/lib/python3.7/site-packages/pandas/io/parsers.py\u001b[0m in \u001b[0;36mread\u001b[0;34m(self, nrows)\u001b[0m\n\u001b[1;32m   1184\u001b[0m     \u001b[0;32mdef\u001b[0m \u001b[0mread\u001b[0m\u001b[0;34m(\u001b[0m\u001b[0mself\u001b[0m\u001b[0;34m,\u001b[0m \u001b[0mnrows\u001b[0m\u001b[0;34m=\u001b[0m\u001b[0;32mNone\u001b[0m\u001b[0;34m)\u001b[0m\u001b[0;34m:\u001b[0m\u001b[0;34m\u001b[0m\u001b[0;34m\u001b[0m\u001b[0m\n\u001b[1;32m   1185\u001b[0m         \u001b[0mnrows\u001b[0m \u001b[0;34m=\u001b[0m \u001b[0m_validate_integer\u001b[0m\u001b[0;34m(\u001b[0m\u001b[0;34m\"nrows\"\u001b[0m\u001b[0;34m,\u001b[0m \u001b[0mnrows\u001b[0m\u001b[0;34m)\u001b[0m\u001b[0;34m\u001b[0m\u001b[0;34m\u001b[0m\u001b[0m\n\u001b[0;32m-> 1186\u001b[0;31m         \u001b[0mret\u001b[0m \u001b[0;34m=\u001b[0m \u001b[0mself\u001b[0m\u001b[0;34m.\u001b[0m\u001b[0m_engine\u001b[0m\u001b[0;34m.\u001b[0m\u001b[0mread\u001b[0m\u001b[0;34m(\u001b[0m\u001b[0mnrows\u001b[0m\u001b[0;34m)\u001b[0m\u001b[0;34m\u001b[0m\u001b[0;34m\u001b[0m\u001b[0m\n\u001b[0m\u001b[1;32m   1187\u001b[0m \u001b[0;34m\u001b[0m\u001b[0m\n\u001b[1;32m   1188\u001b[0m         \u001b[0;31m# May alter columns / col_dict\u001b[0m\u001b[0;34m\u001b[0m\u001b[0;34m\u001b[0m\u001b[0;34m\u001b[0m\u001b[0m\n",
      "\u001b[0;32m/opt/conda/lib/python3.7/site-packages/pandas/io/parsers.py\u001b[0m in \u001b[0;36mread\u001b[0;34m(self, nrows)\u001b[0m\n\u001b[1;32m   2143\u001b[0m     \u001b[0;32mdef\u001b[0m \u001b[0mread\u001b[0m\u001b[0;34m(\u001b[0m\u001b[0mself\u001b[0m\u001b[0;34m,\u001b[0m \u001b[0mnrows\u001b[0m\u001b[0;34m=\u001b[0m\u001b[0;32mNone\u001b[0m\u001b[0;34m)\u001b[0m\u001b[0;34m:\u001b[0m\u001b[0;34m\u001b[0m\u001b[0;34m\u001b[0m\u001b[0m\n\u001b[1;32m   2144\u001b[0m         \u001b[0;32mtry\u001b[0m\u001b[0;34m:\u001b[0m\u001b[0;34m\u001b[0m\u001b[0;34m\u001b[0m\u001b[0m\n\u001b[0;32m-> 2145\u001b[0;31m             \u001b[0mdata\u001b[0m \u001b[0;34m=\u001b[0m \u001b[0mself\u001b[0m\u001b[0;34m.\u001b[0m\u001b[0m_reader\u001b[0m\u001b[0;34m.\u001b[0m\u001b[0mread\u001b[0m\u001b[0;34m(\u001b[0m\u001b[0mnrows\u001b[0m\u001b[0;34m)\u001b[0m\u001b[0;34m\u001b[0m\u001b[0;34m\u001b[0m\u001b[0m\n\u001b[0m\u001b[1;32m   2146\u001b[0m         \u001b[0;32mexcept\u001b[0m \u001b[0mStopIteration\u001b[0m\u001b[0;34m:\u001b[0m\u001b[0;34m\u001b[0m\u001b[0;34m\u001b[0m\u001b[0m\n\u001b[1;32m   2147\u001b[0m             \u001b[0;32mif\u001b[0m \u001b[0mself\u001b[0m\u001b[0;34m.\u001b[0m\u001b[0m_first_chunk\u001b[0m\u001b[0;34m:\u001b[0m\u001b[0;34m\u001b[0m\u001b[0;34m\u001b[0m\u001b[0m\n",
      "\u001b[0;32mpandas/_libs/parsers.pyx\u001b[0m in \u001b[0;36mpandas._libs.parsers.TextReader.read\u001b[0;34m()\u001b[0m\n",
      "\u001b[0;32mpandas/_libs/parsers.pyx\u001b[0m in \u001b[0;36mpandas._libs.parsers.TextReader._read_rows\u001b[0;34m()\u001b[0m\n",
      "\u001b[0;32mpandas/_libs/parsers.pyx\u001b[0m in \u001b[0;36mpandas._libs.parsers.TextReader._convert_column_data\u001b[0;34m()\u001b[0m\n",
      "\u001b[0;32mpandas/_libs/parsers.pyx\u001b[0m in \u001b[0;36mpandas._libs.parsers.TextReader._convert_tokens\u001b[0;34m()\u001b[0m\n",
      "\u001b[0;32mpandas/_libs/parsers.pyx\u001b[0m in \u001b[0;36mpandas._libs.parsers.TextReader._convert_with_dtype\u001b[0;34m()\u001b[0m\n",
      "\u001b[0;32m/opt/conda/lib/python3.7/site-packages/pandas/core/dtypes/common.py\u001b[0m in \u001b[0;36mis_categorical_dtype\u001b[0;34m(arr_or_dtype)\u001b[0m\n\u001b[1;32m    528\u001b[0m \u001b[0;34m\u001b[0m\u001b[0m\n\u001b[1;32m    529\u001b[0m \u001b[0;34m\u001b[0m\u001b[0m\n\u001b[0;32m--> 530\u001b[0;31m \u001b[0;32mdef\u001b[0m \u001b[0mis_categorical_dtype\u001b[0m\u001b[0;34m(\u001b[0m\u001b[0marr_or_dtype\u001b[0m\u001b[0;34m)\u001b[0m \u001b[0;34m->\u001b[0m \u001b[0mbool\u001b[0m\u001b[0;34m:\u001b[0m\u001b[0;34m\u001b[0m\u001b[0;34m\u001b[0m\u001b[0m\n\u001b[0m\u001b[1;32m    531\u001b[0m     \"\"\"\n\u001b[1;32m    532\u001b[0m     \u001b[0mCheck\u001b[0m \u001b[0mwhether\u001b[0m \u001b[0man\u001b[0m \u001b[0marray\u001b[0m\u001b[0;34m-\u001b[0m\u001b[0mlike\u001b[0m \u001b[0;32mor\u001b[0m \u001b[0mdtype\u001b[0m \u001b[0;32mis\u001b[0m \u001b[0mof\u001b[0m \u001b[0mthe\u001b[0m \u001b[0mCategorical\u001b[0m \u001b[0mdtype\u001b[0m\u001b[0;34m.\u001b[0m\u001b[0;34m\u001b[0m\u001b[0;34m\u001b[0m\u001b[0m\n",
      "\u001b[0;31mKeyboardInterrupt\u001b[0m: "
     ]
    }
   ],
   "source": [
    "df_ini_1 = pd.read_csv(\"Dados CTC (2ª leva) - 2000-2005.csv\",low_memory=False)\n",
    "df_ini_2 = pd.read_csv(\"Dados CTC (2ª leva) - 2006-2010.csv\",low_memory=False)\n",
    "df_ini_3 = pd.read_csv(\"Dados CTC (2ª leva) - 2011-2015.csv\",low_memory=False)\n",
    "df_ini_4 = pd.read_csv(\"Dados CTC (2ª leva) - 2016-2019.csv\",low_memory=False)\n",
    "\n",
    "#Juntar dfs\n",
    "nome_cols(df_ini_1)\n",
    "nome_cols(df_ini_2)\n",
    "nome_cols(df_ini_3)\n",
    "nome_cols(df_ini_4)\n",
    "\n",
    "df = pd.concat([df_ini_1,df_ini_2,df_ini_3,df_ini_4])"
   ]
  },
  {
   "cell_type": "code",
   "execution_count": null,
   "metadata": {},
   "outputs": [],
   "source": [
    "#Linhas repetidas\n",
    "df.drop_duplicates(subset=['Matricula','Semestre Historico','Disciplina'],inplace=True)\n",
    "df = df[df['Semestre Historico'] %10 !=3]\n",
    "df = df[df['Semestre Historico'] != 20191]\n",
    "df = df[df['Semestre Historico'] != 20192]\n",
    "\n",
    "df = df[df['Revalida'].isna()]\n",
    "\n",
    "df = df[df['Horas Aula']!=0]\n",
    "df = df[~df['Disciplina'].str.contains('ZZD')]\n",
    "lis = ['TRA0000','GCN7999','GCN7999','EFC5570','EPS5247','INE5462','ECV5724','INE5463','CMA6413','ECV5706','INE5674',\n",
    "       'INE5676','INE5462','ENS5504','EEL7700','EEL7703','EEL7800','ENS5503','ECV5723','EEL7701','EQA5803','EEL7702',\n",
    "       'ARQ5708','EEL7704','INE5461','INE5678','ARQ5703','ARQ5704','ARQ5709','EQA5802','INE5671','INE5672','ECV5721',\n",
    "       'ECV5722','ARQ5702','ARQ5706','EQA5801']\n",
    "for i in lis:\n",
    "    df = df[df['Disciplina'] != i]\n",
    "\n",
    "df['Sexo'] = df['Sexo'].apply(lambda x: \"M\" if x == 'm' else x)\n",
    "df['Sexo'] = df['Sexo'].apply(lambda x: \"F\" if x == 'f' else x)\n",
    "\n",
    "df['Situacao Aluno'] = df['Situacao Aluno'].apply(lambda x: \"formado\" if x == 'concluinte' else x)\n",
    "df['Situacao Aluno'] = df['Situacao Aluno'].apply(lambda x: \"abandono\" if x == 'desistência' else x)\n",
    "df['Situacao Aluno'] = df['Situacao Aluno'].apply(lambda x: \"abandono\" if x == 'jubilado' else x)\n",
    "df['Situacao Aluno'] = df['Situacao Aluno'].apply(lambda x: \"abandono\" if x == 'eliminado/cancelado' else x)\n",
    "df['Situacao Aluno'] = df['Situacao Aluno'].apply(lambda x: \"abandono\" if x == 'falecido' else x)\n",
    "df['Situacao Aluno'] = df['Situacao Aluno'].apply(lambda x: \"abandono\" if x == 'transferido' else x)\n",
    "df['Situacao Aluno'] = df['Situacao Aluno'].apply(lambda x: \"abandono\" if x == 'troca de curso' else x)\n",
    "df['Situacao Aluno'] = df['Situacao Aluno'].apply(lambda x: \"regular\" if x == 'classificado vestibular' else x)\n",
    "df['Situacao Aluno'] = df['Situacao Aluno'].apply(lambda x: \"regular\" if x == 'trancado' else x)\n",
    "\n",
    "df['TipoCurriculo'] = df['TipoCurriculo'].apply(lambda x:'Ob' if x == 'ob' else x )\n",
    "df['TipoCurriculo'] = df['TipoCurriculo'].apply(lambda x:'Ex' if x == 'EX' else x )\n",
    "df['TipoCurriculo'] = df['TipoCurriculo'].apply(lambda x:'Ex' if x == 'Es' else x )\n",
    "df['TipoCurriculo'] = df['TipoCurriculo'].apply(lambda x:'Op' if x == 'op' else x )\n",
    "df['TipoCurriculo'] = df['TipoCurriculo'].apply(lambda x:'Ob' if x == ' ' else x )\n",
    "\n",
    "df = df[df['TipoCurriculo'] != 'Ex']\n",
    "\n",
    "x = df.groupby('Matricula')['Matricula'].count().to_frame()\n",
    "x.rename(columns={'Matricula':'Materias'},inplace=True)\n",
    "x = x[x['Materias'] <= 3]\n",
    "lis = x.reset_index()['Matricula'].unique()\n",
    "\n",
    "df = df[~df['Matricula'].isin(lis)]"
   ]
  },
  {
   "cell_type": "markdown",
   "metadata": {},
   "source": [
    "# Feature Engineering"
   ]
  },
  {
   "cell_type": "code",
   "execution_count": 34,
   "metadata": {},
   "outputs": [],
   "source": [
    "df['Forma de Ingresso'] = df['Forma de Ingresso'].apply(lambda x: \"Vestibular\" if x == ' Concurso vestibular' else x)\n",
    "df['Forma de Ingresso'] = df['Forma de Ingresso'].apply(lambda x: \"Vestibular\" if x == ' Chamada vestibular' else x)\n",
    "df['Forma de Ingresso'] = df['Forma de Ingresso'].apply(lambda x: \"SISU\" if x == ' Chamada SISU' else x)\n",
    "df['Forma de Ingresso'] = df['Forma de Ingresso'].apply(lambda x: \"SISU\" if x == ' Vestibular SISU' else x)\n",
    "\n",
    "x = df[df['Forma de Ingresso'] == 'SISU'].groupby('Matricula').agg({'Pontos Vest':'first'})[['Pontos Vest']].reset_index()\n",
    "x.rename(columns={'Pontos Vest':'Pontos SISU'},inplace=True)\n",
    "df = pd.merge(df,x,on='Matricula',how='left')\n",
    "\n",
    "x = df[df['Forma de Ingresso'] != 'SISU'].groupby('Matricula').agg({'Pontos Vest':'first'})[['Pontos Vest']].reset_index()\n",
    "x.rename(columns={'Pontos Vest':'Pontos Vestib'},inplace=True)\n",
    "df = pd.merge(df,x,on='Matricula',how='left')\n",
    "\n",
    "df['Pontos SISU'] = df['Pontos SISU'].fillna(0)\n",
    "df['Pontos Vestib'] = df['Pontos Vestib'].fillna(0)\n",
    "df['Pontos Vestib'] = df['Pontos Vestib'].apply(lambda x: x/100 if x > 30000 else x)"
   ]
  },
  {
   "cell_type": "code",
   "execution_count": 35,
   "metadata": {},
   "outputs": [],
   "source": [
    "lis = ['Pontos Vestib','Pontos SISU','Idade Vest']\n",
    "for i in lis:\n",
    "    x = df[[i]].values.astype(float)\n",
    "    min_max_scaler = preprocessing.MinMaxScaler()\n",
    "    x_scaled = min_max_scaler.fit_transform(x)\n",
    "    df_normalized = pd.DataFrame(x_scaled)\n",
    "    df[i] = df_normalized"
   ]
  },
  {
   "cell_type": "code",
   "execution_count": 36,
   "metadata": {},
   "outputs": [],
   "source": [
    "x = df.groupby(['Matricula', 'Semestre Historico']).agg({'Horas Aula':'sum'}).reset_index().rename(columns={'Horas Aula':'Carga Horaria'})\n",
    "df = pd.merge(df,x,on=['Matricula','Semestre Historico'],how='left')\n",
    "\n",
    "#Repeticao de materia\n",
    "df['Aprovado'] = df['Nota']\n",
    "df['Aprovado'] = df['Aprovado'].apply(lambda x: 1 if x > 5.75 else 0)\n",
    "df['vez'] = df.groupby(['Matricula', 'Disciplina'])['Semestre Historico'].cumcount()\n",
    "\n",
    "#Agrupamento dentro de coluna\n",
    "def Grupo(df,col,nome_grupo,lista):\n",
    "    for i in lista:\n",
    "        df[col] = df[col].apply(lambda x: nome_grupo if x == i else x)\n",
    "        \n",
    "#Regiao\n",
    "Grupo(df,'Estado EM','SU',['SC','RS','PR'])\n",
    "Grupo(df,'Estado EM','NE',['MA','PI','BA','PE','CE','RN','AL','SE','PB'])\n",
    "Grupo(df,'Estado EM','SE',['SP','RJ','MG','ES'])\n",
    "Grupo(df,'Estado EM','CO',['MT','MS','GO','DF'])\n",
    "Grupo(df,'Estado EM','NO',['AM','AC','AP','PA','TO','RR','RO'])\n",
    "\n",
    "#Etnia\n",
    "#Grupo(df,'Etnia','priv',['branca','amarela'])\n",
    "#df['Etnia'] = df['Etnia'].apply(lambda x: 1 if x != 'priv' else 0)\n",
    "\n",
    "#Sexo\n",
    "Grupo(df,'Sexo','M',['M','m'])\n",
    "Grupo(df,'Sexo','F',['F','f'])\n",
    "df['Sexo'] = df['Sexo'].apply(lambda x: 0 if x == 'M' else 1)\n",
    "\n",
    "#Cotas\n",
    "for i in ['Escola Pública', 'Negro',\n",
    "       'Vagas Suplementares - Indígena',\n",
    "       'PAA - Escola Pública - Renda até 1,5 Salário Mínimo - Outros',\n",
    "       'PAA - Escola Pública - Renda acima de 1,5 Salários Mínimos - Outros',\n",
    "       'PAA - Escola Pública - Renda acima de 1,5 Salários Mínimos - PPI (Pretos, Pardos e Indígenas)',\n",
    "       'PAA - Escola Pública - Renda até 1,5 Salário Mínimo - PPI (Pretos, Pardos e Indígenas)',\n",
    "       'Vagas Suplementares - Negro', 'Vagas Suplementares - Quilombola',\n",
    "       'PAA - Escola Pública - Renda acima de 1,5 Salários Mínimos - PPI (Pretos, Pardos e Indígenas) sem deficiência',\n",
    "       'PAA - Escola Pública - Renda até 1,5 Salário Mínimo - Outros sem deficiência',\n",
    "       'PAA - Escola Pública - Renda até 1,5 Salário Mínimo - PPI (Pretos, Pardos e Indígenas) sem deficiência',\n",
    "       'PAA - Escola Pública - Renda acima de 1,5 Salários Mínimos - PPI (Pretos, Pardos e Indígenas) com deficiência',\n",
    "       'PAA - Escola Pública - Renda acima de 1,5 Salários Mínimos - Outros sem deficiência',\n",
    "       'PAA - Escola Pública - Renda acima de 1,5 Salários Mínimos - Outros com deficiência',\n",
    "       'PAA - Escola Pública - Renda até 1,5 Salário Mínimo - Outros com deficiência',\n",
    "       'PAA - Escola Pública - Renda até 1,5 Salário Mínimo - PPI (Pretos, Pardos e Indígenas) com deficiência']:\n",
    "    df['Categoria de Ingresso'] = df['Categoria de Ingresso'].apply(lambda x: 1 if x == i else x)\n",
    "    \n",
    "df['Categoria de Ingresso'] = df['Categoria de Ingresso'].apply(lambda x: 0 if x != 1 else x)\n",
    "\n",
    "#Contagem de Disciplinas\n",
    "m = df.groupby(['Matricula','Semestre Historico'])['Disciplina'].count().rename('Cont Disc')\n",
    "df = df.set_index(['Matricula','Semestre Historico']).join(m).reset_index()\n",
    "\n",
    "#Tipo Curriculo\n",
    "df['TipoCurriculo'] = df['TipoCurriculo'].apply(lambda x: 1 if x == 'Ob' else 0)\n",
    "\n",
    "#Column Drop\n",
    "#df = df[df['Ead'].isnull()]                                         Descobrir oq é esse Ead\n",
    "df.drop(['Ead','Ead cae','Revalida','Situacao Aluno','Forma de Ingresso','Curso','Turma','Centro','Nacionalidade',\n",
    "         'Naturalidade Pai','Turno','Colegio EM','Data Nasc','Estado','Estado EM','Cidade EM','Ano Form Colegio',\n",
    "         'SemestreMax','Professor Ead','SIAPE Professor','Nome Professor', 'Situacao Aluno num'],axis=1,inplace=True)"
   ]
  },
  {
   "cell_type": "code",
   "execution_count": 37,
   "metadata": {},
   "outputs": [],
   "source": [
    "m1 = pd.DataFrame(columns=df.columns)\n",
    "\n",
    "lis = df['Semestre Historico'].sort_values().unique()\n",
    "\n",
    "for i in range(len(lis[:-1])):\n",
    "    df2 = df[df['Semestre Historico'] <= lis[i]]\n",
    "    \n",
    "    t = df2.sort_values('Semestre Historico').groupby('Disciplina').agg({'Aprovado':'mean','Semestre Historico':'last'})\n",
    "\n",
    "    t.reset_index(inplace=True)\n",
    "    t.rename(columns={\"Aprovado\": \"Aprov Disc\"},inplace=True)\n",
    "    t = t[t['Semestre Historico'] == lis[i]]\n",
    "    t['Semestre Historico'] = lis[i+1]\n",
    "    t.set_index(['Disciplina','Semestre Historico'],inplace=True)\n",
    "\n",
    "    m1.set_index(['Disciplina','Semestre Historico'],inplace=True)\n",
    "    m1 = pd.concat([m1,t])\n",
    "    m1.reset_index(inplace=True)\n",
    "    \n",
    "m1.set_index(['Disciplina','Semestre Historico'],inplace=True)\n",
    "df.set_index(['Disciplina','Semestre Historico'],inplace=True)\n",
    "m1.drop(['Matricula', 'Periodo Vest', 'CPF',\n",
    "       'Sexo', 'Nome Curso', 'Pontos Vest', 'Ano Vest', 'Idade Vest', 'Etnia','Carga Horaria',\n",
    "       'Categoria de Ingresso', 'Nota', 'Horas Aula', 'Frequencia','Pontos Vestib','Pontos SISU',\n",
    "       'TipoCurriculo', 'Matricula Professor', 'Aprovado', 'vez', 'Cont Disc'],axis=1,inplace=True)\n",
    "\n",
    "df = df.merge(m1,how='left',left_index=True,right_index=True)\n",
    "df.reset_index(inplace=True)"
   ]
  },
  {
   "cell_type": "code",
   "execution_count": 38,
   "metadata": {},
   "outputs": [],
   "source": [
    "m1 = pd.DataFrame(columns=df.columns)\n",
    "\n",
    "lis = df['Semestre Historico'].sort_values().unique()\n",
    "\n",
    "for i in range(len(lis[:-1])):\n",
    "    df2 = df[df['Semestre Historico'] <= lis[i]]\n",
    "    \n",
    "    t = df2.sort_values('Semestre Historico').groupby('Matricula').agg({'Aprovado':'mean','Semestre Historico':'last'})\n",
    "    \n",
    "    t.reset_index(inplace=True)\n",
    "    t.rename(columns={\"Aprovado\": \"Aprov Aluno\"},inplace=True)\n",
    "    t = t[t['Semestre Historico'] == lis[i]]\n",
    "    t['Semestre Historico'] = lis[i+1]\n",
    "    t.set_index(['Matricula','Semestre Historico'],inplace=True)\n",
    "\n",
    "    m1.set_index(['Matricula','Semestre Historico'],inplace=True)\n",
    "    m1 = pd.concat([m1,t])\n",
    "    m1.reset_index(inplace=True)\n",
    "    \n",
    "m1.set_index(['Matricula','Semestre Historico'],inplace=True)\n",
    "df.set_index(['Matricula','Semestre Historico'],inplace=True)\n",
    "m1.drop(['Disciplina', 'Periodo Vest', 'CPF',\n",
    "       'Sexo', 'Nome Curso', 'Pontos Vest', 'Ano Vest', 'Idade Vest', 'Etnia','Carga Horaria',\n",
    "       'Categoria de Ingresso', 'Nota', 'Horas Aula', 'Frequencia','Pontos Vestib','Pontos SISU',\n",
    "       'TipoCurriculo', 'Matricula Professor', 'Aprovado', 'vez', 'Cont Disc','Aprov Disc'],axis=1,inplace=True)\n",
    "\n",
    "df = df.merge(m1,how='left',left_index=True,right_index=True)\n",
    "df.reset_index(inplace=True)"
   ]
  },
  {
   "cell_type": "code",
   "execution_count": 39,
   "metadata": {},
   "outputs": [],
   "source": [
    "m1 = pd.DataFrame(columns=df.columns)\n",
    "\n",
    "lis = df['Semestre Historico'].sort_values().unique()\n",
    "\n",
    "for i in range(len(lis[:-1])):\n",
    "    df2 = df[df['Semestre Historico'] <= lis[i]]\n",
    "    \n",
    "    t = df2.sort_values('Semestre Historico').groupby(['Matricula Professor','Disciplina']).agg({'Aprovado':'mean','Semestre Historico':'last'})\n",
    "    \n",
    "    t.reset_index(inplace=True)\n",
    "    t.rename(columns={\"Aprovado\": \"Aprov Prof\"},inplace=True)\n",
    "    t = t[t['Semestre Historico'] == lis[i]]\n",
    "    t['Semestre Historico'] = lis[i+1]   \n",
    "    t.set_index(['Matricula Professor','Disciplina','Semestre Historico'],inplace=True)\n",
    "    \n",
    "\n",
    "\n",
    "    m1.set_index(['Matricula Professor','Disciplina','Semestre Historico'],inplace=True)\n",
    "    m1 = pd.concat([m1,t])\n",
    "    m1.reset_index(inplace=True)\n",
    "    \n",
    "m1.set_index(['Matricula Professor','Disciplina','Semestre Historico'],inplace=True)\n",
    "df.set_index(['Matricula Professor','Disciplina','Semestre Historico'],inplace=True)\n",
    "m1.drop(['Matricula', 'Periodo Vest', 'CPF',\n",
    "       'Sexo', 'Nome Curso', 'Pontos Vest', 'Ano Vest', 'Idade Vest', 'Etnia','Carga Horaria',\n",
    "       'Categoria de Ingresso', 'Nota', 'Horas Aula', 'Frequencia','Pontos Vestib','Pontos SISU',\n",
    "       'TipoCurriculo', 'Aprovado', 'vez', 'Cont Disc','Aprov Disc','Aprov Aluno'],axis=1,inplace=True)\n",
    "\n",
    "df = df.merge(m1,how='left',left_index=True,right_index=True)\n",
    "df.reset_index(inplace=True)"
   ]
  },
  {
   "cell_type": "code",
   "execution_count": 40,
   "metadata": {},
   "outputs": [],
   "source": [
    "m1 = pd.DataFrame(columns=df.columns)\n",
    "\n",
    "lis = df['Semestre Historico'].sort_values().unique()\n",
    "\n",
    "for i in range(len(lis[:-1])):\n",
    "    df2 = df[df['Semestre Historico'] <= lis[i]]\n",
    "    df2 = df2[df2['Semestre Historico'] >= lis[i-2]]\n",
    "                     \n",
    "        \n",
    "    t = df2.sort_values('Semestre Historico').groupby('Matricula').agg({'Aprovado':'mean','Semestre Historico':'last'})\n",
    "    \n",
    "    t.reset_index(inplace=True)\n",
    "    t.rename(columns={\"Aprovado\": \"Aprov -3\"},inplace=True)\n",
    "    t = t[t['Semestre Historico'] == lis[i]]\n",
    "    t['Semestre Historico'] = lis[i+1]\n",
    "    t.set_index(['Matricula','Semestre Historico'],inplace=True)\n",
    "\n",
    "    m1.set_index(['Matricula','Semestre Historico'],inplace=True)\n",
    "    m1 = pd.concat([m1,t])\n",
    "    m1.reset_index(inplace=True)\n",
    "    \n",
    "m1.set_index(['Matricula','Semestre Historico'],inplace=True)\n",
    "df.set_index(['Matricula','Semestre Historico'],inplace=True)\n",
    "m1.drop(['Disciplina', 'Periodo Vest', 'CPF',\n",
    "       'Sexo', 'Nome Curso', 'Pontos Vest', 'Ano Vest', 'Idade Vest', 'Etnia','Carga Horaria',\n",
    "       'Categoria de Ingresso', 'Nota', 'Horas Aula', 'Frequencia','Pontos Vestib','Pontos SISU',\n",
    "       'TipoCurriculo', 'Matricula Professor', 'Aprovado', 'vez', 'Cont Disc','Aprov Disc','Aprov Aluno','Aprov Prof'],axis=1,inplace=True)\n",
    "\n",
    "df = df.merge(m1,how='left',left_index=True,right_index=True)\n",
    "df.reset_index(inplace=True)"
   ]
  },
  {
   "cell_type": "code",
   "execution_count": 41,
   "metadata": {},
   "outputs": [],
   "source": [
    "m1 = pd.DataFrame(columns=df.columns)\n",
    "\n",
    "lis = df['Semestre Historico'].sort_values().unique()\n",
    "\n",
    "for i in range(len(lis[:-1])):\n",
    "    df2 = df[df['Semestre Historico'] <= lis[i]]\n",
    "    df2 = df2[df2['Semestre Historico'] >= lis[i]]\n",
    "                     \n",
    "        \n",
    "    t = df2.sort_values('Semestre Historico').groupby('Matricula').agg({'Aprovado':'mean','Semestre Historico':'last'})\n",
    "    \n",
    "    t.reset_index(inplace=True)\n",
    "    t.rename(columns={\"Aprovado\": \"Aprov -1\"},inplace=True)\n",
    "    t = t[t['Semestre Historico'] == lis[i]]\n",
    "    t['Semestre Historico'] = lis[i+1]\n",
    "    t.set_index(['Matricula','Semestre Historico'],inplace=True)\n",
    "\n",
    "    m1.set_index(['Matricula','Semestre Historico'],inplace=True)\n",
    "    m1 = pd.concat([m1,t])\n",
    "    m1.reset_index(inplace=True)\n",
    "    \n",
    "m1.set_index(['Matricula','Semestre Historico'],inplace=True)\n",
    "df.set_index(['Matricula','Semestre Historico'],inplace=True)\n",
    "m1.drop(['Disciplina', 'Periodo Vest', 'CPF',\n",
    "       'Sexo', 'Nome Curso', 'Pontos Vest', 'Ano Vest', 'Idade Vest', 'Etnia','Carga Horaria',\n",
    "       'Categoria de Ingresso', 'Nota', 'Horas Aula', 'Frequencia','Pontos Vestib','Pontos SISU',\n",
    "       'TipoCurriculo', 'Matricula Professor', 'Aprovado', 'vez', 'Cont Disc','Aprov Disc','Aprov Aluno','Aprov Prof','Aprov -3'],axis=1,inplace=True)\n",
    "\n",
    "df = df.merge(m1,how='left',left_index=True,right_index=True)\n",
    "df.reset_index(inplace=True)"
   ]
  },
  {
   "cell_type": "code",
   "execution_count": 42,
   "metadata": {},
   "outputs": [],
   "source": [
    "m1 = pd.DataFrame(columns=df.columns)\n",
    "\n",
    "lis = df['Semestre Historico'].sort_values().unique()\n",
    "\n",
    "for i in range(len(lis[:-1])):\n",
    "    df2 = df[df['Semestre Historico'] <= lis[i]]\n",
    "    df2 = df2[df2['Semestre Historico'] >= lis[i]]\n",
    "                     \n",
    "        \n",
    "    t = df2.groupby(['Matricula']).apply(lambda dfx: (dfx['Nota'] * dfx[\"Horas Aula\"]).sum() / dfx[\"Horas Aula\"].sum())\n",
    "    x = t.to_frame()\n",
    "    x.columns=['IAA Sem']\n",
    "    x['Semestre Historico'] = lis[i+1]\n",
    "    x.reset_index(inplace=True)\n",
    "    x.set_index(['Matricula','Semestre Historico'],inplace=True)\n",
    "\n",
    "    m1.set_index(['Matricula','Semestre Historico'],inplace=True)\n",
    "    m1 = pd.concat([m1,x])\n",
    "    m1.reset_index(inplace=True)\n",
    "    \n",
    "m1.set_index(['Matricula','Semestre Historico'],inplace=True)\n",
    "df.set_index(['Matricula','Semestre Historico'],inplace=True)\n",
    "m1.drop(['Disciplina', 'Periodo Vest', 'CPF',\n",
    "       'Sexo', 'Nome Curso', 'Pontos Vest', 'Ano Vest', 'Idade Vest', 'Etnia','Carga Horaria',\n",
    "       'Categoria de Ingresso', 'Nota', 'Horas Aula', 'Frequencia','Pontos Vestib','Pontos SISU',\n",
    "       'TipoCurriculo', 'Matricula Professor', 'Aprovado', 'vez', 'Cont Disc','Aprov Disc',\n",
    "        'Aprov Aluno','Aprov Prof','Aprov -3','Aprov -1'],axis=1,inplace=True)\n",
    "\n",
    "df = df.merge(m1,how='left',left_index=True,right_index=True)\n",
    "df.reset_index(inplace=True)"
   ]
  },
  {
   "cell_type": "code",
   "execution_count": 43,
   "metadata": {},
   "outputs": [],
   "source": [
    "m1 = pd.DataFrame(columns=df.columns)\n",
    "\n",
    "lis = df['Semestre Historico'].sort_values().unique()\n",
    "\n",
    "for i in range(len(lis[:-1])):\n",
    "    df2 = df[df['Semestre Historico'] <= lis[i]]\n",
    "                     \n",
    "        \n",
    "    t = df2.groupby(['Matricula']).apply(lambda dfx: (dfx['Nota'] * dfx[\"Horas Aula\"]).sum() / dfx[\"Horas Aula\"].sum())\n",
    "    x = t.to_frame()\n",
    "    x.columns=['IAA Hist Sem']\n",
    "    x['Semestre Historico'] = lis[i+1]\n",
    "    x.reset_index(inplace=True)\n",
    "    x.set_index(['Matricula','Semestre Historico'],inplace=True)\n",
    "\n",
    "    m1.set_index(['Matricula','Semestre Historico'],inplace=True)\n",
    "    m1 = pd.concat([m1,x])\n",
    "    m1.reset_index(inplace=True)\n",
    "    \n",
    "m1.set_index(['Matricula','Semestre Historico'],inplace=True)\n",
    "df.set_index(['Matricula','Semestre Historico'],inplace=True)\n",
    "m1.drop(['Disciplina', 'Periodo Vest', 'CPF',\n",
    "       'Sexo', 'Nome Curso', 'Pontos Vest', 'Ano Vest', 'Idade Vest', 'Etnia','Carga Horaria',\n",
    "       'Categoria de Ingresso', 'Nota', 'Horas Aula', 'Frequencia','Pontos Vestib','Pontos SISU',\n",
    "       'TipoCurriculo', 'Matricula Professor', 'Aprovado', 'vez', 'Cont Disc','Aprov Disc',\n",
    "        'Aprov Aluno','Aprov Prof','Aprov -3','Aprov -1','IAA Sem'],axis=1,inplace=True)\n",
    "\n",
    "df = df.merge(m1,how='left',left_index=True,right_index=True)\n",
    "df.reset_index(inplace=True)"
   ]
  },
  {
   "cell_type": "code",
   "execution_count": 44,
   "metadata": {},
   "outputs": [],
   "source": [
    "df['Frequencia'] = df['Frequencia'].apply(lambda x: 1 if x == 'FI' else x)\n",
    "df['Frequencia'] = df['Frequencia'].apply(lambda x: 1 if x == 'fi' else x)\n",
    "df['Frequencia'] = df['Frequencia'].apply(lambda x: 1 if x == 'Fi' else x)\n",
    "df['Frequencia'] = df['Frequencia'].apply(lambda x: 1 if x == 'fI' else x)\n",
    "df['Frequencia'] = df['Frequencia'].apply(lambda x: 1 if x == 1 else 0)\n",
    "\n",
    "m1 = pd.DataFrame(columns=df.columns)\n",
    "\n",
    "lis = df['Semestre Historico'].sort_values().unique()\n",
    "\n",
    "for i in range(len(lis[:-1])):\n",
    "    df2 = df[df['Semestre Historico'] <= lis[i]]\n",
    "                     \n",
    "    t = df2.sort_values('Semestre Historico').groupby(['Matricula','Semestre Historico']).agg({'Frequencia':'mean'})\n",
    "\n",
    "    \n",
    "    t.reset_index(inplace=True)\n",
    "    t.rename(columns={\"Frequencia\": \"FI\"},inplace=True)\n",
    "    t = t[t['Semestre Historico'] == lis[i]]\n",
    "    t['Semestre Historico'] = lis[i+1]\n",
    "    t.set_index(['Matricula','Semestre Historico'],inplace=True)\n",
    "    \n",
    "    m1.set_index(['Matricula','Semestre Historico'],inplace=True)\n",
    "    m1 = pd.concat([m1,t])\n",
    "    m1.reset_index(inplace=True)\n",
    "    \n",
    "m1.set_index(['Matricula','Semestre Historico'],inplace=True)\n",
    "df.set_index(['Matricula','Semestre Historico'],inplace=True)\n",
    "m1.drop(['Disciplina', 'Periodo Vest', 'CPF',\n",
    "       'Sexo', 'Nome Curso', 'Pontos Vest', 'Ano Vest', 'Idade Vest', 'Etnia','Carga Horaria',\n",
    "       'Categoria de Ingresso', 'Nota', 'Horas Aula', 'Frequencia','IAA Hist Sem','Pontos Vestib','Pontos SISU',\n",
    "       'TipoCurriculo', 'Matricula Professor', 'Aprovado', 'vez', 'Cont Disc','Aprov Disc',\n",
    "        'Aprov Aluno','Aprov Prof','Aprov -3','Aprov -1','IAA Sem'],axis=1,inplace=True)\n",
    "\n",
    "df = df.merge(m1,how='left',left_index=True,right_index=True)\n",
    "df.reset_index(inplace=True)"
   ]
  },
  {
   "cell_type": "code",
   "execution_count": 45,
   "metadata": {},
   "outputs": [],
   "source": [
    "m1 = pd.DataFrame(columns=df.columns)\n",
    "\n",
    "lis = df['Semestre Historico'].sort_values().unique()\n",
    "\n",
    "for i in range(len(lis[:-1])):\n",
    "    df2 = df[df['Semestre Historico'] == lis[i]][['Matricula','Semestre Historico','IAA Sem']]\n",
    "    x = df2.groupby(['Matricula','Semestre Historico']).agg({'IAA Sem':'last'}).reset_index()\n",
    "    df2 = df[df['Semestre Historico'] == lis[i-1]][['Matricula','Semestre Historico','IAA Sem']]\n",
    "    t = df2.groupby(['Matricula','Semestre Historico']).agg({'IAA Sem':'last'}).reset_index()\n",
    "    t['Semestre Historico'] = lis[i]\n",
    "    t.rename(columns={\"IAA Sem\": \"IAA Sem 2\"},inplace=True)\n",
    "    \n",
    "    x = x.merge(t,on=['Matricula','Semestre Historico'],how='left')\n",
    "    x['IAA -1'] = x['IAA Sem'] - x['IAA Sem 2']\n",
    "    x.drop(['IAA Sem','IAA Sem 2'],axis=1,inplace=True)\n",
    "    #x.rename(columns={\"IAA Sem\": \"IAA -1\"},inplace=True)\n",
    "    x.set_index(['Matricula','Semestre Historico'],inplace=True)\n",
    "    \n",
    "    m1.set_index(['Matricula','Semestre Historico'],inplace=True)\n",
    "    m1 = pd.concat([m1,x])\n",
    "    m1.reset_index(inplace=True)\n",
    "    \n",
    "m1.set_index(['Matricula','Semestre Historico'],inplace=True)\n",
    "df.set_index(['Matricula','Semestre Historico'],inplace=True)\n",
    "m1.drop(['Disciplina', 'Periodo Vest', 'CPF',\n",
    "       'Sexo', 'Nome Curso', 'Pontos Vest', 'Ano Vest', 'Idade Vest', 'Etnia','Carga Horaria',\n",
    "       'Categoria de Ingresso', 'Nota', 'Horas Aula', 'Frequencia','IAA Hist Sem','Pontos Vestib','Pontos SISU',\n",
    "       'TipoCurriculo', 'Matricula Professor', 'Aprovado', 'vez', 'Cont Disc','Aprov Disc','FI',\n",
    "        'Aprov Aluno','Aprov Prof','Aprov -3','Aprov -1','IAA Sem'],axis=1,inplace=True)\n",
    "\n",
    "df = df.merge(m1,how='left',left_index=True,right_index=True)\n",
    "df.reset_index(inplace=True)"
   ]
  },
  {
   "cell_type": "code",
   "execution_count": 46,
   "metadata": {},
   "outputs": [],
   "source": [
    "lis = ['Horas Aula','Cont Disc','IAA Sem','IAA Hist Sem','Carga Horaria']\n",
    "for i in lis:\n",
    "    x = df[[i]].values.astype(float)\n",
    "    min_max_scaler = preprocessing.MinMaxScaler()\n",
    "    x_scaled = min_max_scaler.fit_transform(x)\n",
    "    df_normalized = pd.DataFrame(x_scaled)\n",
    "    df[i] = df_normalized"
   ]
  },
  {
   "cell_type": "markdown",
   "metadata": {},
   "source": [
    "# Modelos"
   ]
  },
  {
   "cell_type": "markdown",
   "metadata": {},
   "source": [
    "## Ajustes inputs do modelo"
   ]
  },
  {
   "cell_type": "code",
   "execution_count": 47,
   "metadata": {},
   "outputs": [
    {
     "data": {
      "text/plain": [
       "branca      737750\n",
       "parda        60338\n",
       "preta        26487\n",
       "amarela      20079\n",
       "indígena      2036\n",
       "Name: Etnia, dtype: int64"
      ]
     },
     "execution_count": 47,
     "metadata": {},
     "output_type": "execute_result"
    }
   ],
   "source": [
    "df['Etnia'] = df['Etnia'].apply(lambda x:'branca' if x == 'não declarada' else x )\n",
    "df['Etnia'].value_counts()"
   ]
  },
  {
   "cell_type": "code",
   "execution_count": 48,
   "metadata": {},
   "outputs": [],
   "source": [
    "df = pd.get_dummies(df,drop_first=True,columns=['Etnia'])"
   ]
  },
  {
   "cell_type": "code",
   "execution_count": 49,
   "metadata": {},
   "outputs": [
    {
     "data": {
      "text/plain": [
       "Index(['Matricula', 'Semestre Historico', 'Matricula Professor', 'Disciplina',\n",
       "       'Periodo Vest', 'CPF', 'Sexo', 'Nome Curso', 'Pontos Vest', 'Ano Vest',\n",
       "       'Idade Vest', 'Categoria de Ingresso', 'Nota', 'Horas Aula',\n",
       "       'Frequencia', 'TipoCurriculo', 'Pontos SISU', 'Pontos Vestib',\n",
       "       'Carga Horaria', 'Aprovado', 'vez', 'Cont Disc', 'Aprov Disc',\n",
       "       'Aprov Aluno', 'Aprov Prof', 'Aprov -3', 'Aprov -1', 'IAA Sem',\n",
       "       'IAA Hist Sem', 'FI', 'IAA -1', 'Etnia_branca', 'Etnia_indígena',\n",
       "       'Etnia_parda', 'Etnia_preta'],\n",
       "      dtype='object')"
      ]
     },
     "execution_count": 49,
     "metadata": {},
     "output_type": "execute_result"
    }
   ],
   "source": [
    "df.columns"
   ]
  },
  {
   "cell_type": "code",
   "execution_count": 50,
   "metadata": {},
   "outputs": [],
   "source": [
    "#Limpeza variáveis não utilizadas\n",
    "\n",
    "lis = ['Aprov Disc', 'Aprov Aluno', 'Aprov Prof', 'Aprov -3', 'Aprov -1',\n",
    "       'IAA Sem', 'IAA Hist Sem','IAA -1']\n",
    "for i in lis:\n",
    "    df[i].fillna((df[i].median()), inplace=True)\n",
    "\n",
    "df['FI'].fillna(0, inplace=True)\n",
    "\n",
    "df['Idade Vest'].fillna((df['Idade Vest'].median()), inplace=True)\n",
    "    \n",
    "#df.drop(['Matricula Professor','Disciplina','Matricula','Periodo Vest','CPF','Nome Curso',\"Ano Vest\",'Frequencia','Nota'],axis=1,inplace=True)\n",
    "df.drop(['Matricula Professor','Disciplina','Matricula','Pontos Vest','Periodo Vest','CPF','Nome Curso',\"Ano Vest\"],axis=1,inplace=True)\n",
    "\n",
    "#df.dropna(inplace=True)"
   ]
  },
  {
   "cell_type": "code",
   "execution_count": 51,
   "metadata": {},
   "outputs": [],
   "source": [
    "df['Aprovado'] = df['Aprovado'].apply(lambda x: 1 if x == 0 else 0)\n",
    "df.sort_values('Nota',inplace=True)"
   ]
  },
  {
   "cell_type": "code",
   "execution_count": 28,
   "metadata": {},
   "outputs": [],
   "source": [
    "df.to_csv('Checkpoint.csv')"
   ]
  },
  {
   "cell_type": "code",
   "execution_count": 95,
   "metadata": {},
   "outputs": [],
   "source": [
    "df.to_csv('Checkpoint2.csv')"
   ]
  },
  {
   "cell_type": "code",
   "execution_count": 3,
   "metadata": {},
   "outputs": [],
   "source": [
    "df = pd.read_csv(\"Checkpoint.csv\",low_memory=False)"
   ]
  },
  {
   "cell_type": "code",
   "execution_count": 54,
   "metadata": {},
   "outputs": [],
   "source": [
    "y_train = df[df['Semestre Historico'] <20181]['Aprovado']\n",
    "X_train = df[df['Semestre Historico'] <20181][['Sexo', 'Pontos Vestib','Pontos SISU', 'Idade Vest','Carga Horaria',\n",
    "       'Categoria de Ingresso', 'Horas Aula', 'TipoCurriculo','vez','Cont Disc','IAA -1','FI',\n",
    "        'Aprov Disc', 'Aprov Aluno','Aprov Prof',\"Aprov -3\",\"Aprov -1\", 'IAA Sem', 'IAA Hist Sem',\n",
    "        'Etnia_branca', 'Etnia_indígena','Etnia_parda', 'Etnia_preta']]\n",
    "\n",
    "y_test = df[df['Semestre Historico'] == 20181]['Aprovado']\n",
    "X_test = df[df['Semestre Historico'] == 20181][['Sexo', 'Pontos Vestib','Pontos SISU', 'Idade Vest','Carga Horaria',\n",
    "       'Categoria de Ingresso', 'Horas Aula', 'TipoCurriculo','vez','Cont Disc','IAA -1','FI',\n",
    "        'Aprov Disc', 'Aprov Aluno','Aprov Prof',\"Aprov -3\",\"Aprov -1\", 'IAA Sem', 'IAA Hist Sem',\n",
    "        'Etnia_branca', 'Etnia_indígena','Etnia_parda', 'Etnia_preta']]"
   ]
  },
  {
   "cell_type": "code",
   "execution_count": 5,
   "metadata": {},
   "outputs": [
    {
     "name": "stdout",
     "output_type": "stream",
     "text": [
      "{'bootstrap': [True, False],\n",
      " 'max_depth': [10, 20, 30, 40, 50, 60, 70, 80, 90, 100, 110, None],\n",
      " 'max_features': ['auto', 'sqrt'],\n",
      " 'min_samples_leaf': [1, 2, 4],\n",
      " 'min_samples_split': [2, 5, 10],\n",
      " 'n_estimators': [200, 400, 600, 800, 1000, 1200, 1400, 1600, 1800, 2000]}\n"
     ]
    }
   ],
   "source": [
    "from pprint import pprint\n",
    "from sklearn.model_selection import RandomizedSearchCV\n",
    "# Number of trees in random forest\n",
    "n_estimators = [int(x) for x in np.linspace(start = 200, stop = 2000, num = 10)]\n",
    "# Number of features to consider at every split\n",
    "max_features = ['auto', 'sqrt']\n",
    "# Maximum number of levels in tree\n",
    "max_depth = [int(x) for x in np.linspace(10, 110, num = 11)]\n",
    "max_depth.append(None)\n",
    "# Minimum number of samples required to split a node\n",
    "min_samples_split = [2, 5, 10]\n",
    "# Minimum number of samples required at each leaf node\n",
    "min_samples_leaf = [1, 2, 4]\n",
    "# Method of selecting samples for training each tree\n",
    "bootstrap = [True, False]\n",
    "# Create the random grid\n",
    "random_grid = {'n_estimators': n_estimators,\n",
    "               'max_features': max_features,\n",
    "               'max_depth': max_depth,\n",
    "               'min_samples_split': min_samples_split,\n",
    "               'min_samples_leaf': min_samples_leaf,\n",
    "               'bootstrap': bootstrap}\n",
    "pprint(random_grid)"
   ]
  },
  {
   "cell_type": "code",
   "execution_count": null,
   "metadata": {},
   "outputs": [
    {
     "name": "stdout",
     "output_type": "stream",
     "text": [
      "Fitting 2 folds for each of 5 candidates, totalling 10 fits\n"
     ]
    },
    {
     "name": "stderr",
     "output_type": "stream",
     "text": [
      "[Parallel(n_jobs=-1)]: Using backend LokyBackend with 4 concurrent workers.\n",
      "/opt/conda/lib/python3.7/site-packages/joblib/externals/loky/process_executor.py:691: UserWarning: A worker stopped while some jobs were given to the executor. This can be caused by a too short worker timeout or by a memory leak.\n",
      "  \"timeout or by a memory leak.\", UserWarning\n"
     ]
    }
   ],
   "source": [
    "from sklearn.metrics import make_scorer,ndcg_score\n",
    "from sklearn.metrics import roc_auc_score\n",
    "auc_score = make_scorer(roc_auc_score,needs_threshold=True)\n",
    "#ncdg_score = make_scorer(ndcg_score,k=100,needs_proba=True)\n",
    "\n",
    "rf = RandomForestClassifier()\n",
    "rf_random = RandomizedSearchCV(scoring = auc_score,estimator = rf, param_distributions = random_grid, n_iter = 5, cv = 2, verbose=2, random_state=42, n_jobs = -1)\n",
    "rf_random.fit(X_train, y_train)"
   ]
  },
  {
   "cell_type": "code",
   "execution_count": 31,
   "metadata": {},
   "outputs": [
    {
     "ename": "AttributeError",
     "evalue": "'RandomizedSearchCV' object has no attribute 'best_params_'",
     "output_type": "error",
     "traceback": [
      "\u001b[0;31m---------------------------------------------------------------------------\u001b[0m",
      "\u001b[0;31mAttributeError\u001b[0m                            Traceback (most recent call last)",
      "\u001b[0;32m<ipython-input-31-ea266b0743c6>\u001b[0m in \u001b[0;36m<module>\u001b[0;34m\u001b[0m\n\u001b[0;32m----> 1\u001b[0;31m \u001b[0mrf_random\u001b[0m\u001b[0;34m.\u001b[0m\u001b[0mbest_params_\u001b[0m\u001b[0;34m\u001b[0m\u001b[0;34m\u001b[0m\u001b[0m\n\u001b[0m",
      "\u001b[0;31mAttributeError\u001b[0m: 'RandomizedSearchCV' object has no attribute 'best_params_'"
     ]
    }
   ],
   "source": [
    "rf_random.best_params_"
   ]
  },
  {
   "cell_type": "markdown",
   "metadata": {},
   "source": [
    "## Random Forest"
   ]
  },
  {
   "cell_type": "markdown",
   "metadata": {},
   "source": [
    "### Aplicação"
   ]
  },
  {
   "cell_type": "code",
   "execution_count": 55,
   "metadata": {},
   "outputs": [],
   "source": [
    "from sklearn.ensemble import RandomForestClassifier\n",
    "from sklearn.model_selection import validation_curve\n",
    "from sklearn.metrics import precision_score\n",
    "from sklearn.metrics import recall_score\n",
    "\n",
    "model = RandomForestClassifier(n_estimators=100, \n",
    "                               bootstrap = True,\n",
    "                               max_features = 'sqrt')"
   ]
  },
  {
   "cell_type": "code",
   "execution_count": 56,
   "metadata": {},
   "outputs": [],
   "source": [
    "model = RandomForestClassifier(n_estimators=200,min_samples_split = 10,min_samples_leaf = 2,max_features=8,max_depth = 50,\n",
    "                                 bootstrap= True)"
   ]
  },
  {
   "cell_type": "code",
   "execution_count": 57,
   "metadata": {},
   "outputs": [
    {
     "data": {
      "text/plain": [
       "RandomForestClassifier(max_depth=50, max_features=8, min_samples_leaf=2,\n",
       "                       min_samples_split=10, n_estimators=200)"
      ]
     },
     "execution_count": 57,
     "metadata": {},
     "output_type": "execute_result"
    }
   ],
   "source": [
    "# Fit on training data\n",
    "model.fit(X_train, y_train)"
   ]
  },
  {
   "cell_type": "code",
   "execution_count": 84,
   "metadata": {},
   "outputs": [
    {
     "data": {
      "text/plain": [
       "0.8529821970629256"
      ]
     },
     "execution_count": 84,
     "metadata": {},
     "output_type": "execute_result"
    }
   ],
   "source": [
    "y_pred = model.predict(X_test)\n",
    "errors = abs(y_pred - y_test)\n",
    "accuracy_score(y_test,y_pred)"
   ]
  },
  {
   "cell_type": "code",
   "execution_count": 75,
   "metadata": {},
   "outputs": [],
   "source": [
    "predicted = model.predict_proba(X_test)\n",
    "predicted[:,1] = (predicted[:,1] >= 0.5).astype(int)\n",
    "pred = predicted[:50,1]"
   ]
  },
  {
   "cell_type": "code",
   "execution_count": 83,
   "metadata": {},
   "outputs": [
    {
     "name": "stdout",
     "output_type": "stream",
     "text": [
      "10 0.3 0.9\n",
      "10 0.4 0.7\n",
      "10 0.5 0.5\n",
      "10 0.6 0.4\n",
      "10 0.7 0.3\n",
      "20 0.3 0.9\n",
      "20 0.4 0.75\n",
      "20 0.5 0.65\n",
      "20 0.6 0.6\n",
      "20 0.7 0.45\n",
      "30 0.3 0.9333333333333333\n",
      "30 0.4 0.8333333333333334\n",
      "30 0.5 0.7666666666666667\n",
      "30 0.6 0.7\n",
      "30 0.7 0.6\n",
      "50 0.3 0.94\n",
      "50 0.4 0.86\n",
      "50 0.5 0.8\n",
      "50 0.6 0.72\n",
      "50 0.7 0.58\n",
      "70 0.3 0.9142857142857143\n",
      "70 0.4 0.8571428571428571\n",
      "70 0.5 0.8\n",
      "70 0.6 0.7\n",
      "70 0.7 0.5714285714285714\n",
      "80 0.3 0.9125\n",
      "80 0.4 0.8375\n",
      "80 0.5 0.775\n",
      "80 0.6 0.6375\n",
      "80 0.7 0.5125\n",
      "100 0.3 0.93\n",
      "100 0.4 0.87\n",
      "100 0.5 0.79\n",
      "100 0.6 0.66\n",
      "100 0.7 0.53\n",
      "150 0.3 0.94\n",
      "150 0.4 0.88\n",
      "150 0.5 0.7933333333333333\n",
      "150 0.6 0.6866666666666666\n",
      "150 0.7 0.5733333333333334\n",
      "200 0.3 0.915\n",
      "200 0.4 0.86\n",
      "200 0.5 0.77\n",
      "200 0.6 0.665\n",
      "200 0.7 0.57\n",
      "300 0.3 0.8833333333333333\n",
      "300 0.4 0.8333333333333334\n",
      "300 0.5 0.75\n",
      "300 0.6 0.6633333333333333\n",
      "300 0.7 0.5666666666666667\n",
      "400 0.3 0.8825\n",
      "400 0.4 0.8425\n",
      "400 0.5 0.77\n",
      "400 0.6 0.6875\n",
      "400 0.7 0.585\n",
      "500 0.3 0.87\n",
      "500 0.4 0.828\n",
      "500 0.5 0.754\n",
      "500 0.6 0.67\n",
      "500 0.7 0.556\n"
     ]
    }
   ],
   "source": [
    "x = [10,20,30,50,70,80,100,150,200,300,400,500]\n",
    "y = [0.3,0.4, 0.5,0.6,0.7]\n",
    "\n",
    "for i in x:\n",
    "    for j in y:\n",
    "        predicted = model.predict_proba(X_test)\n",
    "        predicted[:,1] = (predicted[:,1] >= j).astype(int)\n",
    "        pred = predicted[:i,1]\n",
    "        print(i,j,pred.mean())"
   ]
  },
  {
   "cell_type": "code",
   "execution_count": 73,
   "metadata": {},
   "outputs": [],
   "source": [
    "y_teste = y_test[:100]"
   ]
  },
  {
   "cell_type": "code",
   "execution_count": 78,
   "metadata": {},
   "outputs": [
    {
     "data": {
      "text/plain": [
       "0.79"
      ]
     },
     "execution_count": 78,
     "metadata": {},
     "output_type": "execute_result"
    }
   ],
   "source": [
    "pred.mean()"
   ]
  },
  {
   "cell_type": "code",
   "execution_count": 76,
   "metadata": {},
   "outputs": [
    {
     "name": "stdout",
     "output_type": "stream",
     "text": [
      "              precision    recall  f1-score   support\n",
      "\n",
      "         0.0       0.00      0.00      0.00         0\n",
      "         1.0       1.00      0.79      0.88       100\n",
      "\n",
      "    accuracy                           0.79       100\n",
      "   macro avg       0.50      0.40      0.44       100\n",
      "weighted avg       1.00      0.79      0.88       100\n",
      "\n"
     ]
    },
    {
     "name": "stderr",
     "output_type": "stream",
     "text": [
      "/opt/conda/lib/python3.7/site-packages/sklearn/metrics/_classification.py:1221: UndefinedMetricWarning: Recall and F-score are ill-defined and being set to 0.0 in labels with no true samples. Use `zero_division` parameter to control this behavior.\n",
      "  _warn_prf(average, modifier, msg_start, len(result))\n"
     ]
    }
   ],
   "source": [
    "print(classification_report(y_teste,pred))"
   ]
  },
  {
   "cell_type": "code",
   "execution_count": null,
   "metadata": {},
   "outputs": [],
   "source": [
    "predicted = model.predict_proba(X_test)\n",
    "predicted[:,1] = (predicted[:,1] >= i).apply(lambda x: )\n",
    "y_pred2 = predicted[:,1]\n",
    "y_pred2 == 1"
   ]
  },
  {
   "cell_type": "code",
   "execution_count": 58,
   "metadata": {},
   "outputs": [
    {
     "name": "stderr",
     "output_type": "stream",
     "text": [
      "/opt/conda/lib/python3.7/site-packages/sklearn/metrics/_classification.py:1221: UndefinedMetricWarning: Precision and F-score are ill-defined and being set to 0.0 in labels with no predicted samples. Use `zero_division` parameter to control this behavior.\n",
      "  _warn_prf(average, modifier, msg_start, len(result))\n"
     ]
    },
    {
     "name": "stdout",
     "output_type": "stream",
     "text": [
      "0               precision    recall  f1-score   support\n",
      "\n",
      "           0       0.00      0.00      0.00     20344\n",
      "           1       0.23      1.00      0.37      5971\n",
      "\n",
      "    accuracy                           0.23     26315\n",
      "   macro avg       0.11      0.50      0.18     26315\n",
      "weighted avg       0.05      0.23      0.08     26315\n",
      "\n",
      "0.1               precision    recall  f1-score   support\n",
      "\n",
      "           0       0.97      0.59      0.74     20344\n",
      "           1       0.40      0.94      0.57      5971\n",
      "\n",
      "    accuracy                           0.67     26315\n",
      "   macro avg       0.69      0.77      0.65     26315\n",
      "weighted avg       0.84      0.67      0.70     26315\n",
      "\n",
      "0.2               precision    recall  f1-score   support\n",
      "\n",
      "           0       0.95      0.76      0.84     20344\n",
      "           1       0.51      0.87      0.64      5971\n",
      "\n",
      "    accuracy                           0.78     26315\n",
      "   macro avg       0.73      0.81      0.74     26315\n",
      "weighted avg       0.85      0.78      0.80     26315\n",
      "\n",
      "0.3               precision    recall  f1-score   support\n",
      "\n",
      "           0       0.93      0.85      0.89     20344\n",
      "           1       0.60      0.79      0.68      5971\n",
      "\n",
      "    accuracy                           0.83     26315\n",
      "   macro avg       0.77      0.82      0.79     26315\n",
      "weighted avg       0.86      0.83      0.84     26315\n",
      "\n",
      "0.4               precision    recall  f1-score   support\n",
      "\n",
      "           0       0.91      0.90      0.91     20344\n",
      "           1       0.67      0.70      0.69      5971\n",
      "\n",
      "    accuracy                           0.86     26315\n",
      "   macro avg       0.79      0.80      0.80     26315\n",
      "weighted avg       0.86      0.86      0.86     26315\n",
      "\n",
      "0.5               precision    recall  f1-score   support\n",
      "\n",
      "           0       0.89      0.94      0.91     20344\n",
      "           1       0.73      0.60      0.66      5971\n",
      "\n",
      "    accuracy                           0.86     26315\n",
      "   macro avg       0.81      0.77      0.79     26315\n",
      "weighted avg       0.85      0.86      0.86     26315\n",
      "\n",
      "0.6               precision    recall  f1-score   support\n",
      "\n",
      "           0       0.87      0.96      0.91     20344\n",
      "           1       0.80      0.50      0.62      5971\n",
      "\n",
      "    accuracy                           0.86     26315\n",
      "   macro avg       0.83      0.73      0.76     26315\n",
      "weighted avg       0.85      0.86      0.85     26315\n",
      "\n",
      "0.7               precision    recall  f1-score   support\n",
      "\n",
      "           0       0.84      0.98      0.91     20344\n",
      "           1       0.86      0.38      0.52      5971\n",
      "\n",
      "    accuracy                           0.84     26315\n",
      "   macro avg       0.85      0.68      0.72     26315\n",
      "weighted avg       0.85      0.84      0.82     26315\n",
      "\n",
      "0.8               precision    recall  f1-score   support\n",
      "\n",
      "           0       0.82      0.99      0.90     20344\n",
      "           1       0.90      0.24      0.38      5971\n",
      "\n",
      "    accuracy                           0.82     26315\n",
      "   macro avg       0.86      0.62      0.64     26315\n",
      "weighted avg       0.84      0.82      0.78     26315\n",
      "\n",
      "0.9               precision    recall  f1-score   support\n",
      "\n",
      "           0       0.80      1.00      0.89     20344\n",
      "           1       0.96      0.14      0.24      5971\n",
      "\n",
      "    accuracy                           0.80     26315\n",
      "   macro avg       0.88      0.57      0.56     26315\n",
      "weighted avg       0.83      0.80      0.74     26315\n",
      "\n",
      "1               precision    recall  f1-score   support\n",
      "\n",
      "           0       0.77      1.00      0.87     20344\n",
      "           1       0.98      0.01      0.02      5971\n",
      "\n",
      "    accuracy                           0.77     26315\n",
      "   macro avg       0.88      0.50      0.44     26315\n",
      "weighted avg       0.82      0.77      0.68     26315\n",
      "\n"
     ]
    },
    {
     "data": {
      "text/plain": [
       "Text(0, 0.5, 'Precision')"
      ]
     },
     "execution_count": 58,
     "metadata": {},
     "output_type": "execute_result"
    },
    {
     "data": {
      "image/png": "[encoded data removed]",
      "text/plain": [
       "<Figure size 432x288 with 1 Axes>"
      ]
     },
     "metadata": {
      "needs_background": "light"
     },
     "output_type": "display_data"
    }
   ],
   "source": [
    "prec = []\n",
    "rec = []\n",
    "lis = [0,0.1,0.2,0.3,0.4,0.5,0.6,0.7,0.8,0.9,1]\n",
    "for i in lis:\n",
    "    predicted = model.predict_proba(X_test)\n",
    "    predicted[:,1] = (predicted[:,1] >= i).astype(int)\n",
    "    y_pred2 = predicted[:,1]\n",
    "    print(i,classification_report(y_test, y_pred2))\n",
    "    preci = precision_score(y_test, y_pred2)\n",
    "    prec.append(preci)\n",
    "    reci = recall_score(y_test, y_pred2)\n",
    "    rec.append(reci)\n",
    "    \n",
    "x_ideal = [0,1]\n",
    "y_ideal = [1,0]\n",
    "plt.plot(rec, prec)  \n",
    "plt.plot(x_ideal,y_ideal)\n",
    "plt.xlabel(\"Recall\")\n",
    "plt.ylabel(\"Precision\")"
   ]
  },
  {
   "cell_type": "code",
   "execution_count": 111,
   "metadata": {},
   "outputs": [
    {
     "data": {
      "text/plain": [
       "0.8611818354550637"
      ]
     },
     "execution_count": 111,
     "metadata": {},
     "output_type": "execute_result"
    }
   ],
   "source": [
    "y_pred = model.predict(X_test)\n",
    "errors = abs(y_pred - y_test)\n",
    "accuracy_score(y_test,y_pred)"
   ]
  },
  {
   "cell_type": "code",
   "execution_count": 112,
   "metadata": {},
   "outputs": [
    {
     "name": "stdout",
     "output_type": "stream",
     "text": [
      "[[19056  1288]\n",
      " [ 2365  3606]]\n"
     ]
    }
   ],
   "source": [
    "conf_mat = confusion_matrix(y_test,y_pred)\n",
    "print(conf_mat)"
   ]
  },
  {
   "cell_type": "code",
   "execution_count": 194,
   "metadata": {},
   "outputs": [
    {
     "name": "stderr",
     "output_type": "stream",
     "text": [
      "/opt/conda/lib/python3.7/site-packages/sklearn/metrics/_classification.py:1221: UndefinedMetricWarning: Precision and F-score are ill-defined and being set to 0.0 in labels with no predicted samples. Use `zero_division` parameter to control this behavior.\n",
      "  _warn_prf(average, modifier, msg_start, len(result))\n"
     ]
    },
    {
     "name": "stdout",
     "output_type": "stream",
     "text": [
      "0               precision    recall  f1-score   support\n",
      "\n",
      "           0       0.00      0.00      0.00     20344\n",
      "           1       0.23      1.00      0.37      5971\n",
      "\n",
      "    accuracy                           0.23     26315\n",
      "   macro avg       0.11      0.50      0.18     26315\n",
      "weighted avg       0.05      0.23      0.08     26315\n",
      "\n",
      "0.1               precision    recall  f1-score   support\n",
      "\n",
      "           0       0.97      0.60      0.75     20344\n",
      "           1       0.41      0.94      0.57      5971\n",
      "\n",
      "    accuracy                           0.68     26315\n",
      "   macro avg       0.69      0.77      0.66     26315\n",
      "weighted avg       0.85      0.68      0.71     26315\n",
      "\n",
      "0.2               precision    recall  f1-score   support\n",
      "\n",
      "           0       0.95      0.77      0.85     20344\n",
      "           1       0.52      0.87      0.65      5971\n",
      "\n",
      "    accuracy                           0.79     26315\n",
      "   macro avg       0.74      0.82      0.75     26315\n",
      "weighted avg       0.85      0.79      0.80     26315\n",
      "\n",
      "0.3               precision    recall  f1-score   support\n",
      "\n",
      "           0       0.93      0.85      0.89     20344\n",
      "           1       0.60      0.78      0.68      5971\n",
      "\n",
      "    accuracy                           0.83     26315\n",
      "   macro avg       0.77      0.82      0.79     26315\n",
      "weighted avg       0.86      0.83      0.84     26315\n",
      "\n",
      "0.4               precision    recall  f1-score   support\n",
      "\n",
      "           0       0.91      0.90      0.91     20344\n",
      "           1       0.67      0.70      0.69      5971\n",
      "\n",
      "    accuracy                           0.85     26315\n",
      "   macro avg       0.79      0.80      0.80     26315\n",
      "weighted avg       0.86      0.85      0.86     26315\n",
      "\n",
      "0.5               precision    recall  f1-score   support\n",
      "\n",
      "           0       0.89      0.94      0.91     20344\n",
      "           1       0.74      0.61      0.67      5971\n",
      "\n",
      "    accuracy                           0.86     26315\n",
      "   macro avg       0.82      0.77      0.79     26315\n",
      "weighted avg       0.86      0.86      0.86     26315\n",
      "\n",
      "0.6               precision    recall  f1-score   support\n",
      "\n",
      "           0       0.87      0.96      0.91     20344\n",
      "           1       0.80      0.50      0.62      5971\n",
      "\n",
      "    accuracy                           0.86     26315\n",
      "   macro avg       0.83      0.73      0.77     26315\n",
      "weighted avg       0.85      0.86      0.85     26315\n",
      "\n",
      "0.7               precision    recall  f1-score   support\n",
      "\n",
      "           0       0.84      0.98      0.91     20344\n",
      "           1       0.86      0.37      0.52      5971\n",
      "\n",
      "    accuracy                           0.84     26315\n",
      "   macro avg       0.85      0.68      0.71     26315\n",
      "weighted avg       0.85      0.84      0.82     26315\n",
      "\n",
      "0.8               precision    recall  f1-score   support\n",
      "\n",
      "           0       0.82      0.99      0.90     20344\n",
      "           1       0.91      0.24      0.38      5971\n",
      "\n",
      "    accuracy                           0.82     26315\n",
      "   macro avg       0.86      0.62      0.64     26315\n",
      "weighted avg       0.84      0.82      0.78     26315\n",
      "\n",
      "0.9               precision    recall  f1-score   support\n",
      "\n",
      "           0       0.80      1.00      0.89     20344\n",
      "           1       0.95      0.13      0.23      5971\n",
      "\n",
      "    accuracy                           0.80     26315\n",
      "   macro avg       0.88      0.57      0.56     26315\n",
      "weighted avg       0.83      0.80      0.74     26315\n",
      "\n",
      "1               precision    recall  f1-score   support\n",
      "\n",
      "           0       0.77      1.00      0.87     20344\n",
      "           1       1.00      0.00      0.00      5971\n",
      "\n",
      "    accuracy                           0.77     26315\n",
      "   macro avg       0.89      0.50      0.44     26315\n",
      "weighted avg       0.82      0.77      0.67     26315\n",
      "\n"
     ]
    },
    {
     "data": {
      "text/plain": [
       "Text(0, 0.5, 'Precision')"
      ]
     },
     "execution_count": 194,
     "metadata": {},
     "output_type": "execute_result"
    },
    {
     "data": {
      "image/png": "[encoded data removed]",
      "text/plain": [
       "<Figure size 432x288 with 1 Axes>"
      ]
     },
     "metadata": {},
     "output_type": "display_data"
    }
   ],
   "source": [
    "prec = []\n",
    "rec = []\n",
    "lis = [0,0.1,0.2,0.3,0.4,0.5,0.6,0.7,0.8,0.9,1]\n",
    "for i in lis:\n",
    "    predicted = model.predict_proba(X_test)\n",
    "    predicted[:,1] = (predicted[:,1] >= i).astype(int)\n",
    "    y_pred2 = predicted[:,1]\n",
    "    print(i,classification_report(y_test, y_pred2))\n",
    "    preci = precision_score(y_test, y_pred2)\n",
    "    prec.append(preci)\n",
    "    reci = recall_score(y_test, y_pred2)\n",
    "    rec.append(reci)\n",
    "    \n",
    "x_ideal = [0,1]\n",
    "y_ideal = [1,0]\n",
    "plt.plot(rec, prec)  \n",
    "plt.plot(x_ideal,y_ideal)\n",
    "plt.xlabel(\"Recall\")\n",
    "plt.ylabel(\"Precision\")"
   ]
  },
  {
   "cell_type": "code",
   "execution_count": 133,
   "metadata": {},
   "outputs": [
    {
     "data": {
      "text/plain": [
       "array([0.69330365, 0.17649075, 0.36498948, ..., 0.15344932, 0.15266439,\n",
       "       0.68054383])"
      ]
     },
     "execution_count": 133,
     "metadata": {},
     "output_type": "execute_result"
    }
   ],
   "source": [
    "preds"
   ]
  },
  {
   "cell_type": "code",
   "execution_count": 157,
   "metadata": {},
   "outputs": [
    {
     "data": {
      "text/plain": [
       "array([0.69330365, 0.17649075, 0.36498948, ..., 0.15344932, 0.15266439,\n",
       "       0.68054383])"
      ]
     },
     "execution_count": 157,
     "metadata": {},
     "output_type": "execute_result"
    }
   ],
   "source": [
    "preds"
   ]
  },
  {
   "cell_type": "code",
   "execution_count": 152,
   "metadata": {},
   "outputs": [
    {
     "data": {
      "text/plain": [
       "array([[1],\n",
       "       [1],\n",
       "       [1],\n",
       "       ...,\n",
       "       [0],\n",
       "       [0],\n",
       "       [0]])"
      ]
     },
     "execution_count": 152,
     "metadata": {},
     "output_type": "execute_result"
    }
   ],
   "source": [
    "teste = np.array(y_test)\n",
    "teste"
   ]
  },
  {
   "cell_type": "code",
   "execution_count": 147,
   "metadata": {},
   "outputs": [],
   "source": [
    "y_test = df[df['Semestre Historico'] == 20181][['Aprovado']]"
   ]
  },
  {
   "cell_type": "code",
   "execution_count": 156,
   "metadata": {},
   "outputs": [
    {
     "data": {
      "text/plain": [
       "array([1, 1, 1, ..., 0, 0, 0])"
      ]
     },
     "execution_count": 156,
     "metadata": {},
     "output_type": "execute_result"
    }
   ],
   "source": [
    "teste =  np.array(y_test['Aprovado'])\n",
    "teste"
   ]
  },
  {
   "cell_type": "code",
   "execution_count": 159,
   "metadata": {},
   "outputs": [
    {
     "data": {
      "image/png": "[encoded data removed]",
      "text/plain": [
       "<Figure size 432x288 with 1 Axes>"
      ]
     },
     "metadata": {},
     "output_type": "display_data"
    }
   ],
   "source": [
    "import sklearn.metrics as metrics\n",
    "# calculate the fpr and tpr for all thresholds of the classification\n",
    "predicted = model.predict_proba(X_test)[:,1]\n",
    "#predicted[:,1] = (predicted[:,1] >= i).astype(int)\n",
    "#preds = predicted[:,1]\n",
    "fpr, tpr, threshold = metrics.roc_curve(teste, predicted)\n",
    "roc_auc = metrics.auc(fpr, tpr)\n",
    "\n",
    "# method I: plt\n",
    "import matplotlib.pyplot as plt\n",
    "plt.title('Receiver Operating Characteristic')\n",
    "plt.plot(fpr, tpr, 'b', label = 'AUC = %0.2f' % roc_auc)\n",
    "plt.legend(loc = 'lower right')\n",
    "plt.plot([0, 1], [0, 1],'r--')\n",
    "plt.xlim([0, 1])\n",
    "plt.ylim([0, 1])\n",
    "plt.ylabel('True Positive Rate')\n",
    "plt.xlabel('False Positive Rate')\n",
    "plt.show()"
   ]
  },
  {
   "cell_type": "code",
   "execution_count": 130,
   "metadata": {},
   "outputs": [
    {
     "data": {
      "image/png": "[encoded data removed]",
      "text/plain": [
       "<Figure size 432x288 with 1 Axes>"
      ]
     },
     "metadata": {},
     "output_type": "display_data"
    },
    {
     "ename": "ModuleNotFoundError",
     "evalue": "No module named 'ggplot'",
     "output_type": "error",
     "traceback": [
      "\u001b[0;31m---------------------------------------------------------------------------\u001b[0m",
      "\u001b[0;31mModuleNotFoundError\u001b[0m                       Traceback (most recent call last)",
      "\u001b[0;32m<ipython-input-130-c6551277709b>\u001b[0m in \u001b[0;36m<module>\u001b[0;34m\u001b[0m\n\u001b[1;32m     19\u001b[0m \u001b[0;34m\u001b[0m\u001b[0m\n\u001b[1;32m     20\u001b[0m \u001b[0;31m# method II: ggplot\u001b[0m\u001b[0;34m\u001b[0m\u001b[0;34m\u001b[0m\u001b[0;34m\u001b[0m\u001b[0m\n\u001b[0;32m---> 21\u001b[0;31m \u001b[0;32mfrom\u001b[0m \u001b[0mggplot\u001b[0m \u001b[0;32mimport\u001b[0m \u001b[0;34m*\u001b[0m\u001b[0;34m\u001b[0m\u001b[0;34m\u001b[0m\u001b[0m\n\u001b[0m\u001b[1;32m     22\u001b[0m \u001b[0mdf_plot\u001b[0m \u001b[0;34m=\u001b[0m \u001b[0mpd\u001b[0m\u001b[0;34m.\u001b[0m\u001b[0mDataFrame\u001b[0m\u001b[0;34m(\u001b[0m\u001b[0mdict\u001b[0m\u001b[0;34m(\u001b[0m\u001b[0mfpr\u001b[0m \u001b[0;34m=\u001b[0m \u001b[0mfpr\u001b[0m\u001b[0;34m,\u001b[0m \u001b[0mtpr\u001b[0m \u001b[0;34m=\u001b[0m \u001b[0mtpr\u001b[0m\u001b[0;34m)\u001b[0m\u001b[0;34m)\u001b[0m\u001b[0;34m\u001b[0m\u001b[0;34m\u001b[0m\u001b[0m\n\u001b[1;32m     23\u001b[0m \u001b[0mggplot\u001b[0m\u001b[0;34m(\u001b[0m\u001b[0mdf_plot\u001b[0m\u001b[0;34m,\u001b[0m \u001b[0maes\u001b[0m\u001b[0;34m(\u001b[0m\u001b[0mx\u001b[0m \u001b[0;34m=\u001b[0m \u001b[0;34m'fpr'\u001b[0m\u001b[0;34m,\u001b[0m \u001b[0my\u001b[0m \u001b[0;34m=\u001b[0m \u001b[0;34m'tpr'\u001b[0m\u001b[0;34m)\u001b[0m\u001b[0;34m)\u001b[0m \u001b[0;34m+\u001b[0m \u001b[0mgeom_line\u001b[0m\u001b[0;34m(\u001b[0m\u001b[0;34m)\u001b[0m \u001b[0;34m+\u001b[0m \u001b[0mgeom_abline\u001b[0m\u001b[0;34m(\u001b[0m\u001b[0mlinetype\u001b[0m \u001b[0;34m=\u001b[0m \u001b[0;34m'dashed'\u001b[0m\u001b[0;34m)\u001b[0m\u001b[0;34m\u001b[0m\u001b[0;34m\u001b[0m\u001b[0m\n",
      "\u001b[0;31mModuleNotFoundError\u001b[0m: No module named 'ggplot'"
     ]
    }
   ],
   "source": [
    "import sklearn.metrics as metrics\n",
    "# calculate the fpr and tpr for all thresholds of the classification\n",
    "probs = model.predict_proba(X_test)\n",
    "preds = probs[:,1]\n",
    "fpr, tpr, threshold = metrics.roc_curve(y_test, preds)\n",
    "roc_auc = metrics.auc(fpr, tpr)\n",
    "\n",
    "# method I: plt\n",
    "import matplotlib.pyplot as plt\n",
    "plt.title('Receiver Operating Characteristic')\n",
    "plt.plot(fpr, tpr, 'b', label = 'AUC = %0.2f' % roc_auc)\n",
    "plt.legend(loc = 'lower right')\n",
    "plt.plot([0, 1], [0, 1],'r--')\n",
    "plt.xlim([0, 1])\n",
    "plt.ylim([0, 1])\n",
    "plt.ylabel('True Positive Rate')\n",
    "plt.xlabel('False Positive Rate')\n",
    "plt.show()\n",
    "\n",
    "# method II: ggplot\n",
    "from ggplot import *\n",
    "df_plot = pd.DataFrame(dict(fpr = fpr, tpr = tpr))\n",
    "ggplot(df_plot, aes(x = 'fpr', y = 'tpr')) + geom_line() + geom_abline(linetype = 'dashed')"
   ]
  },
  {
   "cell_type": "code",
   "execution_count": 132,
   "metadata": {},
   "outputs": [
    {
     "data": {
      "text/plain": [
       "array([0.69330365, 0.17649075, 0.36498948, ..., 0.15344932, 0.15266439,\n",
       "       0.68054383])"
      ]
     },
     "execution_count": 132,
     "metadata": {},
     "output_type": "execute_result"
    }
   ],
   "source": [
    "y_pred_proba"
   ]
  },
  {
   "cell_type": "code",
   "execution_count": 131,
   "metadata": {},
   "outputs": [
    {
     "data": {
      "image/png": "[encoded data removed]",
      "text/plain": [
       "<Figure size 432x288 with 1 Axes>"
      ]
     },
     "metadata": {},
     "output_type": "display_data"
    }
   ],
   "source": [
    "y_pred_proba = model.predict_proba(X_test)[::,1]\n",
    "fpr, tpr, _ = metrics.roc_curve(y_test,  y_pred_proba)\n",
    "auc = metrics.roc_auc_score(y_test, y_pred_proba)\n",
    "plt.plot(fpr,tpr,label=\"data 1, auc=\"+str(auc))\n",
    "plt.legend(loc=4)\n",
    "plt.show()"
   ]
  },
  {
   "cell_type": "code",
   "execution_count": 127,
   "metadata": {},
   "outputs": [
    {
     "data": {
      "text/plain": [
       "<sklearn.metrics._plot.roc_curve.RocCurveDisplay at 0x7fc740673fd0>"
      ]
     },
     "execution_count": 127,
     "metadata": {},
     "output_type": "execute_result"
    },
    {
     "data": {
      "image/png": "[encoded data removed]",
      "text/plain": [
       "<Figure size 432x288 with 1 Axes>"
      ]
     },
     "metadata": {},
     "output_type": "display_data"
    }
   ],
   "source": [
    "import matplotlib.pyplot as plt  # doctest: +SKIP\n",
    "from sklearn import datasets, metrics, model_selection, svm\n",
    "metrics.plot_roc_curve(model, X_test, y_test)"
   ]
  },
  {
   "cell_type": "code",
   "execution_count": 121,
   "metadata": {},
   "outputs": [
    {
     "name": "stdout",
     "output_type": "stream",
     "text": [
      "[[19971   373]\n",
      " [ 3724  2247]]\n"
     ]
    }
   ],
   "source": [
    "predicted = model.predict_proba(X_test)\n",
    "predicted[:,1] = (predicted[:,1] >= 0.7)\n",
    "pred = predicted[:,1]\n",
    "\n",
    "conf_mat = confusion_matrix(y_test,pred)\n",
    "print(conf_mat)"
   ]
  },
  {
   "cell_type": "code",
   "execution_count": 122,
   "metadata": {},
   "outputs": [
    {
     "name": "stdout",
     "output_type": "stream",
     "text": [
      "              precision    recall  f1-score   support\n",
      "\n",
      "           0       0.84      0.98      0.91     20344\n",
      "           1       0.86      0.38      0.52      5971\n",
      "\n",
      "    accuracy                           0.84     26315\n",
      "   macro avg       0.85      0.68      0.72     26315\n",
      "weighted avg       0.85      0.84      0.82     26315\n",
      "\n"
     ]
    }
   ],
   "source": [
    "print(classification_report(y_test,pred))"
   ]
  },
  {
   "cell_type": "code",
   "execution_count": 119,
   "metadata": {},
   "outputs": [
    {
     "data": {
      "text/plain": [
       "0.7553314683280363"
      ]
     },
     "execution_count": 119,
     "metadata": {},
     "output_type": "execute_result"
    }
   ],
   "source": [
    "from sklearn.metrics import average_precision_score \n",
    "predicted = model.predict_proba(X_test)\n",
    "y_pred2 = predicted[:,1]\n",
    "average_precision_score(y_test, y_pred2)\n"
   ]
  },
  {
   "cell_type": "code",
   "execution_count": 120,
   "metadata": {},
   "outputs": [
    {
     "name": "stdout",
     "output_type": "stream",
     "text": [
      "[[19056  1288]\n",
      " [ 2365  3606]]\n"
     ]
    }
   ],
   "source": [
    "conf_mat = confusion_matrix(y_test,y_pred)\n",
    "print(conf_mat)"
   ]
  },
  {
   "cell_type": "code",
   "execution_count": 124,
   "metadata": {},
   "outputs": [
    {
     "data": {
      "text/plain": [
       "0    18866\n",
       "1     5512\n",
       "Name: Aprovado, dtype: int64"
      ]
     },
     "execution_count": 124,
     "metadata": {},
     "output_type": "execute_result"
    }
   ],
   "source": [
    "y_test.value_counts()"
   ]
  },
  {
   "cell_type": "code",
   "execution_count": null,
   "metadata": {},
   "outputs": [],
   "source": [
    "prec = []\n",
    "rec = []\n",
    "lis = [0,0.1,0.2,0.3,0.4,0.5,0.6,0.7,0.8,0.9,1]\n",
    "for i in lis:\n",
    "    predicted = model.predict_proba(X_test)\n",
    "    predicted[:,1] = (predicted[:,1] >= i)\n",
    "    y_pred2 = predicted[:,1]\n",
    "    print(i,classification_report(y_test, y_pred2))\n",
    "    preci = precision_score(y_test, y_pred2)\n",
    "    prec.append(preci)\n",
    "    reci = recall_score(y_test, y_pred2)\n",
    "    rec.append(reci)\n",
    "    \n",
    "x_ideal = [0,1]\n",
    "y_ideal = [1,0]\n",
    "plt.plot(rec, prec)  \n",
    "plt.plot(x_ideal,y_ideal)\n",
    "plt.xlabel(\"Recall\")\n",
    "plt.ylabel(\"Precision\")"
   ]
  },
  {
   "cell_type": "code",
   "execution_count": 84,
   "metadata": {},
   "outputs": [
    {
     "name": "stdout",
     "output_type": "stream",
     "text": [
      "Variable: vez                  Importance: 0.24\n",
      "Variable: IAA Hist Sem         Importance: 0.12\n",
      "Variable: Aprov Disc           Importance: 0.09\n",
      "Variable: IAA Sem              Importance: 0.09\n",
      "Variable: Pontos Vestib        Importance: 0.07\n",
      "Variable: Aprov Aluno          Importance: 0.06\n",
      "Variable: Aprov Prof           Importance: 0.06\n",
      "Variable: Aprov -3             Importance: 0.06\n",
      "Variable: Carga Horaria        Importance: 0.04\n",
      "Variable: IAA -1               Importance: 0.04\n",
      "Variable: Idade Vest           Importance: 0.03\n",
      "Variable: Aprov -1             Importance: 0.03\n",
      "Variable: Horas Aula           Importance: 0.02\n",
      "Variable: Cont Disc            Importance: 0.02\n",
      "Variable: FI                   Importance: 0.02\n",
      "Variable: Sexo                 Importance: 0.01\n",
      "Variable: Categoria de Ingresso Importance: 0.01\n",
      "Variable: Etnia_branca         Importance: 0.01\n",
      "Variable: Pontos SISU          Importance: 0.0\n",
      "Variable: TipoCurriculo        Importance: 0.0\n",
      "Variable: Etnia_indígena       Importance: 0.0\n",
      "Variable: Etnia_parda          Importance: 0.0\n",
      "Variable: Etnia_preta          Importance: 0.0\n"
     ]
    },
    {
     "data": {
      "text/plain": [
       "[None,\n",
       " None,\n",
       " None,\n",
       " None,\n",
       " None,\n",
       " None,\n",
       " None,\n",
       " None,\n",
       " None,\n",
       " None,\n",
       " None,\n",
       " None,\n",
       " None,\n",
       " None,\n",
       " None,\n",
       " None,\n",
       " None,\n",
       " None,\n",
       " None,\n",
       " None,\n",
       " None,\n",
       " None,\n",
       " None]"
      ]
     },
     "execution_count": 84,
     "metadata": {},
     "output_type": "execute_result"
    }
   ],
   "source": [
    "feature_list = list(X_train.columns)\n",
    "\n",
    "# Get numerical feature importances\n",
    "importances = list(model.feature_importances_)\n",
    "\n",
    "# List of tuples with variable and importance\n",
    "feature_importances = [(feature, round(importance, 2)) for feature, importance in zip(feature_list, importances)]\n",
    "\n",
    "# Sort the feature importances by most important first\n",
    "feature_importances = sorted(feature_importances, key = lambda x: x[1], reverse = True)\n",
    "# Print out the feature and importances \n",
    "[print('Variable: {:20} Importance: {}'.format(*pair)) for pair in feature_importances]"
   ]
  },
  {
   "cell_type": "code",
   "execution_count": 85,
   "metadata": {},
   "outputs": [
    {
     "data": {
      "text/plain": [
       "(0.0, 0.5)"
      ]
     },
     "execution_count": 85,
     "metadata": {},
     "output_type": "execute_result"
    },
    {
     "data": {
      "image/png": "[encoded data removed]",
      "text/plain": [
       "<Figure size 432x288 with 1 Axes>"
      ]
     },
     "metadata": {},
     "output_type": "display_data"
    }
   ],
   "source": [
    "# Import matplotlib for plotting and use magic command for Jupyter Notebooks\n",
    "import matplotlib.pyplot as plt\n",
    "%matplotlib inline\n",
    "# Set the style\n",
    "plt.style.use('fivethirtyeight')\n",
    "# list of x locations for plotting\n",
    "x_values = list(range(len(importances)))\n",
    "# Make a bar chart\n",
    "plt.bar(x_values, importances, orientation = 'vertical')\n",
    "# Tick labels for x axis\n",
    "plt.xticks(x_values, feature_list, rotation='vertical')\n",
    "# Axis labels and title\n",
    "plt.ylabel('Importance'); plt.xlabel('Variable'); plt.title('Variable Importances');\n",
    "plt.ylim(0,0.5)"
   ]
  },
  {
   "cell_type": "code",
   "execution_count": 127,
   "metadata": {},
   "outputs": [
    {
     "data": {
      "text/plain": [
       "0.9971927448677663"
      ]
     },
     "execution_count": 127,
     "metadata": {},
     "output_type": "execute_result"
    }
   ],
   "source": [
    "model.score(X_train,y_train)"
   ]
  },
  {
   "cell_type": "code",
   "execution_count": 128,
   "metadata": {},
   "outputs": [
    {
     "data": {
      "text/plain": [
       "0.8581097711050948"
      ]
     },
     "execution_count": 128,
     "metadata": {},
     "output_type": "execute_result"
    }
   ],
   "source": [
    "model.score(X_test,y_test)"
   ]
  },
  {
   "cell_type": "code",
   "execution_count": 131,
   "metadata": {},
   "outputs": [
    {
     "data": {
      "text/plain": [
       "0.8917169887867024"
      ]
     },
     "execution_count": 131,
     "metadata": {},
     "output_type": "execute_result"
    }
   ],
   "source": [
    "y_pred_proba = model.predict_proba(X_test)[::,1]\n",
    "roc_auc_score(y_test,y_pred_proba)"
   ]
  },
  {
   "cell_type": "code",
   "execution_count": 133,
   "metadata": {},
   "outputs": [
    {
     "data": {
      "text/plain": [
       "array([0.05, 0.35, 0.25, ..., 0.35, 0.22, 0.29])"
      ]
     },
     "execution_count": 133,
     "metadata": {},
     "output_type": "execute_result"
    }
   ],
   "source": [
    "y_pred_proba"
   ]
  },
  {
   "cell_type": "code",
   "execution_count": 132,
   "metadata": {},
   "outputs": [
    {
     "name": "stdout",
     "output_type": "stream",
     "text": [
      "              precision    recall  f1-score   support\n",
      "\n",
      "           0       0.89      0.93      0.91     18866\n",
      "           1       0.73      0.60      0.66      5512\n",
      "\n",
      "    accuracy                           0.86     24378\n",
      "   macro avg       0.81      0.77      0.78     24378\n",
      "weighted avg       0.85      0.86      0.85     24378\n",
      "\n"
     ]
    }
   ],
   "source": [
    "print(classification_report(y_test, y_pred))"
   ]
  },
  {
   "cell_type": "code",
   "execution_count": 136,
   "metadata": {},
   "outputs": [],
   "source": [
    "import numpy as np\n",
    "import matplotlib.pyplot as plt\n",
    "from itertools import cycle\n",
    "\n",
    "from sklearn import svm, datasets\n",
    "from sklearn.metrics import roc_curve, auc\n",
    "from sklearn.model_selection import train_test_split\n",
    "from sklearn.preprocessing import label_binarize\n",
    "from sklearn.multiclass import OneVsRestClassifier\n",
    "from scipy import interp\n",
    "from sklearn.metrics import roc_auc_score"
   ]
  },
  {
   "cell_type": "code",
   "execution_count": 36,
   "metadata": {},
   "outputs": [
    {
     "name": "stdout",
     "output_type": "stream",
     "text": [
      "Variable: vez                  Importance: 0.22\n",
      "Variable: IAA Hist Sem         Importance: 0.13\n",
      "Variable: Aprov Disc           Importance: 0.1\n",
      "Variable: IAA Sem              Importance: 0.1\n",
      "Variable: Aprov -3             Importance: 0.08\n",
      "Variable: Pontos Vest          Importance: 0.07\n",
      "Variable: Aprov Aluno          Importance: 0.07\n",
      "Variable: Aprov Prof           Importance: 0.07\n",
      "Variable: Aprov -1             Importance: 0.06\n",
      "Variable: Cont Disc            Importance: 0.03\n",
      "Variable: Idade Vest           Importance: 0.02\n",
      "Variable: Horas Aula           Importance: 0.02\n",
      "Variable: Sexo                 Importance: 0.01\n",
      "Variable: Etnia                Importance: 0.01\n",
      "Variable: Categoria de Ingresso Importance: 0.01\n",
      "Variable: TipoCurriculo        Importance: 0.0\n"
     ]
    },
    {
     "data": {
      "text/plain": [
       "[None,\n",
       " None,\n",
       " None,\n",
       " None,\n",
       " None,\n",
       " None,\n",
       " None,\n",
       " None,\n",
       " None,\n",
       " None,\n",
       " None,\n",
       " None,\n",
       " None,\n",
       " None,\n",
       " None,\n",
       " None]"
      ]
     },
     "execution_count": 36,
     "metadata": {},
     "output_type": "execute_result"
    }
   ],
   "source": [
    "feature_list = list(X_train.columns)\n",
    "\n",
    "# Get numerical feature importances\n",
    "importances = list(model.feature_importances_)\n",
    "\n",
    "# List of tuples with variable and importance\n",
    "feature_importances = [(feature, round(importance, 2)) for feature, importance in zip(feature_list, importances)]\n",
    "\n",
    "# Sort the feature importances by most important first\n",
    "feature_importances = sorted(feature_importances, key = lambda x: x[1], reverse = True)\n",
    "# Print out the feature and importances \n",
    "[print('Variable: {:20} Importance: {}'.format(*pair)) for pair in feature_importances]"
   ]
  },
  {
   "cell_type": "code",
   "execution_count": 37,
   "metadata": {},
   "outputs": [
    {
     "data": {
      "text/plain": [
       "(0.0, 0.5)"
      ]
     },
     "execution_count": 37,
     "metadata": {},
     "output_type": "execute_result"
    },
    {
     "data": {
      "image/png": "[encoded data removed]",
      "text/plain": [
       "<Figure size 432x288 with 1 Axes>"
      ]
     },
     "metadata": {},
     "output_type": "display_data"
    }
   ],
   "source": [
    "# Import matplotlib for plotting and use magic command for Jupyter Notebooks\n",
    "import matplotlib.pyplot as plt\n",
    "%matplotlib inline\n",
    "# Set the style\n",
    "plt.style.use('fivethirtyeight')\n",
    "# list of x locations for plotting\n",
    "x_values = list(range(len(importances)))\n",
    "# Make a bar chart\n",
    "plt.bar(x_values, importances, orientation = 'vertical')\n",
    "# Tick labels for x axis\n",
    "plt.xticks(x_values, feature_list, rotation='vertical')\n",
    "# Axis labels and title\n",
    "plt.ylabel('Importance'); plt.xlabel('Variable'); plt.title('Variable Importances');\n",
    "plt.ylim(0,0.5)"
   ]
  },
  {
   "cell_type": "code",
   "execution_count": null,
   "metadata": {},
   "outputs": [],
   "source": []
  },
  {
   "cell_type": "code",
   "execution_count": null,
   "metadata": {},
   "outputs": [],
   "source": []
  },
  {
   "cell_type": "markdown",
   "metadata": {},
   "source": [
    "## Logistic Regression"
   ]
  },
  {
   "cell_type": "code",
   "execution_count": 86,
   "metadata": {},
   "outputs": [],
   "source": [
    "logisticRegr = LogisticRegression(max_iter=10000)"
   ]
  },
  {
   "cell_type": "code",
   "execution_count": 87,
   "metadata": {},
   "outputs": [
    {
     "data": {
      "text/plain": [
       "LogisticRegression(max_iter=10000)"
      ]
     },
     "execution_count": 87,
     "metadata": {},
     "output_type": "execute_result"
    }
   ],
   "source": [
    "logisticRegr.fit(X_train, y_train)"
   ]
  },
  {
   "cell_type": "code",
   "execution_count": 88,
   "metadata": {},
   "outputs": [],
   "source": [
    "y_pred = logisticRegr.predict(X_test)"
   ]
  },
  {
   "cell_type": "code",
   "execution_count": 89,
   "metadata": {},
   "outputs": [
    {
     "data": {
      "text/plain": [
       "0.8512635379061372"
      ]
     },
     "execution_count": 89,
     "metadata": {},
     "output_type": "execute_result"
    }
   ],
   "source": [
    "errors = abs(y_pred - y_test)\n",
    "accuracy_score(y_test,y_pred)"
   ]
  },
  {
   "cell_type": "code",
   "execution_count": 90,
   "metadata": {},
   "outputs": [
    {
     "name": "stdout",
     "output_type": "stream",
     "text": [
      "[[19170  1174]\n",
      " [ 2740  3231]]\n"
     ]
    }
   ],
   "source": [
    "conf_mat = confusion_matrix(y_test,y_pred)\n",
    "print(conf_mat)"
   ]
  },
  {
   "cell_type": "code",
   "execution_count": 91,
   "metadata": {},
   "outputs": [],
   "source": [
    "y_pred_proba = logisticRegr.predict_proba(X_test)[::,1]"
   ]
  },
  {
   "cell_type": "code",
   "execution_count": 92,
   "metadata": {},
   "outputs": [
    {
     "data": {
      "text/plain": [
       "0.8854282871208745"
      ]
     },
     "execution_count": 92,
     "metadata": {},
     "output_type": "execute_result"
    }
   ],
   "source": [
    "roc_auc_score(y_test,y_pred_proba)"
   ]
  },
  {
   "cell_type": "code",
   "execution_count": 93,
   "metadata": {},
   "outputs": [
    {
     "name": "stdout",
     "output_type": "stream",
     "text": [
      "              precision    recall  f1-score   support\n",
      "\n",
      "           0       0.87      0.94      0.91     20344\n",
      "           1       0.73      0.54      0.62      5971\n",
      "\n",
      "    accuracy                           0.85     26315\n",
      "   macro avg       0.80      0.74      0.77     26315\n",
      "weighted avg       0.84      0.85      0.84     26315\n",
      "\n"
     ]
    }
   ],
   "source": [
    "print(classification_report(y_test, y_pred))"
   ]
  },
  {
   "cell_type": "code",
   "execution_count": 94,
   "metadata": {},
   "outputs": [
    {
     "name": "stdout",
     "output_type": "stream",
     "text": [
      "Feature: 0, Score: -0.12619\n",
      "Feature: 1, Score: -0.38885\n",
      "Feature: 2, Score: -0.04110\n",
      "Feature: 3, Score: 3.38531\n",
      "Feature: 4, Score: -1.46266\n",
      "Feature: 5, Score: 0.22348\n",
      "Feature: 6, Score: -0.15498\n",
      "Feature: 7, Score: -0.00190\n",
      "Feature: 8, Score: 1.03365\n",
      "Feature: 9, Score: -0.61799\n",
      "Feature: 10, Score: 0.04934\n",
      "Feature: 11, Score: 0.09319\n",
      "Feature: 12, Score: -3.83135\n",
      "Feature: 13, Score: 1.17423\n",
      "Feature: 14, Score: -1.44849\n",
      "Feature: 15, Score: -0.84134\n",
      "Feature: 16, Score: 2.09598\n",
      "Feature: 17, Score: -4.66838\n",
      "Feature: 18, Score: -3.68784\n",
      "Feature: 19, Score: -0.11442\n",
      "Feature: 20, Score: 0.04119\n",
      "Feature: 21, Score: 0.08299\n",
      "Feature: 22, Score: 0.18593\n"
     ]
    },
    {
     "data": {
      "image/png": "[encoded data removed]",
      "text/plain": [
       "<Figure size 432x288 with 1 Axes>"
      ]
     },
     "metadata": {},
     "output_type": "display_data"
    }
   ],
   "source": [
    "from matplotlib import pyplot\n",
    "# get importance\n",
    "importance = logisticRegr.coef_[0]\n",
    "logisticRegr.get_params\n",
    "# summarize feature importance\n",
    "for i,v in enumerate(importance):\n",
    "    print('Feature: %0d, Score: %.5f' % (i,v))\n",
    "# plot feature importance\n",
    "pyplot.bar([x for x in range(len(importance))], importance)\n",
    "pyplot.show()"
   ]
  },
  {
   "cell_type": "code",
   "execution_count": null,
   "metadata": {},
   "outputs": [],
   "source": []
  },
  {
   "cell_type": "code",
   "execution_count": 67,
   "metadata": {},
   "outputs": [],
   "source": [
    "predicted = model.predict_proba(X_test)\n",
    "#predicted[:,0] = (predicted[:,0] < threshold).astype('int')\n",
    "#predicted[:,1] = (predicted[:,1] >= 0.6)\n",
    "#y_pred2 = predicted[:,1]"
   ]
  },
  {
   "cell_type": "code",
   "execution_count": 208,
   "metadata": {},
   "outputs": [],
   "source": [
    "df2 = df.copy()\n",
    "df2 = df2[['Nota']]\n",
    "# Create x, where x the 'scores' column's values as floats\n",
    "x = df2[['Nota']].values.astype(float)\n",
    "\n",
    "# Create a minimum and maximum processor object\n",
    "min_max_scaler = preprocessing.MinMaxScaler()\n",
    "\n",
    "# Create an object to transform the data to fit minmax processor\n",
    "x_scaled = min_max_scaler.fit_transform(x)\n",
    "\n",
    "# Run the normalizer on the dataframe\n",
    "df_normalized = pd.DataFrame(x_scaled)\n",
    "df2['Nota'] = df_normalized"
   ]
  },
  {
   "cell_type": "code",
   "execution_count": 209,
   "metadata": {},
   "outputs": [],
   "source": [
    "predicted = model.predict_proba(X_test)\n",
    "\n",
    "y_test2 = df[df['Semestre Historico'] == 20181]['Nota']\n",
    "y_test2 = y_test2.to_frame()['Nota'].to_numpy()\n",
    "\n",
    "true_relevance = np.asarray([y_test2])\n",
    "\n",
    "y_pred_probability = np.asarray([predicted[:,1]])"
   ]
  },
  {
   "cell_type": "code",
   "execution_count": 201,
   "metadata": {},
   "outputs": [
    {
     "data": {
      "text/plain": [
       "array([[ 0.,  0.,  0., ..., 10., 10., 10.]])"
      ]
     },
     "execution_count": 201,
     "metadata": {},
     "output_type": "execute_result"
    }
   ],
   "source": [
    "true_relevance"
   ]
  },
  {
   "cell_type": "code",
   "execution_count": 202,
   "metadata": {},
   "outputs": [],
   "source": [
    "from sklearn.metrics import ndcg_score"
   ]
  },
  {
   "cell_type": "code",
   "execution_count": 211,
   "metadata": {},
   "outputs": [
    {
     "data": {
      "text/plain": [
       "0.1565296322777981"
      ]
     },
     "execution_count": 211,
     "metadata": {},
     "output_type": "execute_result"
    }
   ],
   "source": [
    "predicted = model.predict_proba(X_test)\n",
    "y_pred_probability = np.asarray([predicted[:,1]])\n",
    "ndcg = ndcg_score(true_relevance, y_pred_probability,k=100)\n",
    "ndcg"
   ]
  },
  {
   "cell_type": "code",
   "execution_count": 212,
   "metadata": {},
   "outputs": [
    {
     "data": {
      "text/plain": [
       "0.8355971923136369"
      ]
     },
     "execution_count": 212,
     "metadata": {},
     "output_type": "execute_result"
    }
   ],
   "source": [
    "\n",
    "ndcg_score(true_relevance, y_pred_probability,k=24378)\n"
   ]
  },
  {
   "cell_type": "code",
   "execution_count": 145,
   "metadata": {},
   "outputs": [
    {
     "data": {
      "text/plain": [
       "array([[ 0.,  0.,  0., ..., 10., 10., 10.]])"
      ]
     },
     "execution_count": 145,
     "metadata": {},
     "output_type": "execute_result"
    }
   ],
   "source": [
    "true_relevance"
   ]
  },
  {
   "cell_type": "code",
   "execution_count": 147,
   "metadata": {},
   "outputs": [],
   "source": [
    "df = pd.DataFrame(data=y_pred_probability)\n",
    "df.value_counts()"
   ]
  },
  {
   "cell_type": "code",
   "execution_count": 207,
   "metadata": {},
   "outputs": [
    {
     "data": {
      "text/plain": [
       "[<matplotlib.lines.Line2D at 0x7fc963505b10>]"
      ]
     },
     "execution_count": 207,
     "metadata": {},
     "output_type": "execute_result"
    },
    {
     "data": {
      "image/png": "[encoded data removed]",
      "text/plain": [
       "<Figure size 432x288 with 1 Axes>"
      ]
     },
     "metadata": {},
     "output_type": "display_data"
    }
   ],
   "source": [
    "#predicted = model.predict_proba(X_test)[:,1]\n",
    "k_num = [1,2,3,4,5,10,50,150,200,250,400,500,600,700,800,900,1000,1500,4000,6000,8000,10000,24378]\n",
    "ndcg_scores = []\n",
    "\n",
    "for i in k_num:\n",
    "    ndcg = ndcg_score(true_relevance, y_pred_probability,k=i)\n",
    "    ndcg_scores.append(ndcg)\n",
    "    \n",
    "    \n",
    "plt.plot(k_num, ndcg_scores)  \n",
    "#plt.plot(x_ideal,y_ideal)\n"
   ]
  },
  {
   "cell_type": "code",
   "execution_count": 199,
   "metadata": {},
   "outputs": [
    {
     "ename": "ValueError",
     "evalue": "Only ('multilabel-indicator', 'continuous-multioutput', 'multiclass-multioutput') formats are supported. Got binary instead",
     "output_type": "error",
     "traceback": [
      "\u001b[0;31m---------------------------------------------------------------------------\u001b[0m",
      "\u001b[0;31mValueError\u001b[0m                                Traceback (most recent call last)",
      "\u001b[0;32m<ipython-input-199-6fa550ed7fb0>\u001b[0m in \u001b[0;36m<module>\u001b[0;34m\u001b[0m\n\u001b[1;32m      4\u001b[0m \u001b[0;31m# we predict scores for the answers\u001b[0m\u001b[0;34m\u001b[0m\u001b[0;34m\u001b[0m\u001b[0;34m\u001b[0m\u001b[0m\n\u001b[1;32m      5\u001b[0m \u001b[0mscores\u001b[0m \u001b[0;34m=\u001b[0m \u001b[0mnp\u001b[0m\u001b[0;34m.\u001b[0m\u001b[0masarray\u001b[0m\u001b[0;34m(\u001b[0m\u001b[0;34m[\u001b[0m\u001b[0;34m[\u001b[0m\u001b[0;36m.1\u001b[0m\u001b[0;34m,\u001b[0m \u001b[0;36m.2\u001b[0m\u001b[0;34m,\u001b[0m \u001b[0;36m.3\u001b[0m\u001b[0;34m,\u001b[0m \u001b[0;36m4\u001b[0m\u001b[0;34m,\u001b[0m \u001b[0;36m70\u001b[0m\u001b[0;34m]\u001b[0m\u001b[0;34m]\u001b[0m\u001b[0;34m)\u001b[0m\u001b[0;34m\u001b[0m\u001b[0;34m\u001b[0m\u001b[0m\n\u001b[0;32m----> 6\u001b[0;31m \u001b[0mdcg_score\u001b[0m\u001b[0;34m(\u001b[0m\u001b[0my_test\u001b[0m\u001b[0;34m,\u001b[0m \u001b[0my_pred\u001b[0m\u001b[0;34m)\u001b[0m\u001b[0;34m\u001b[0m\u001b[0;34m\u001b[0m\u001b[0m\n\u001b[0m\u001b[1;32m      7\u001b[0m \u001b[0;34m\u001b[0m\u001b[0m\n\u001b[1;32m      8\u001b[0m \u001b[0;31m# we can set k to truncate the sum; only top k answers contribute\u001b[0m\u001b[0;34m\u001b[0m\u001b[0;34m\u001b[0m\u001b[0;34m\u001b[0m\u001b[0m\n",
      "\u001b[0;32m/opt/conda/lib/python3.7/site-packages/sklearn/utils/validation.py\u001b[0m in \u001b[0;36minner_f\u001b[0;34m(*args, **kwargs)\u001b[0m\n\u001b[1;32m     70\u001b[0m                           FutureWarning)\n\u001b[1;32m     71\u001b[0m         \u001b[0mkwargs\u001b[0m\u001b[0;34m.\u001b[0m\u001b[0mupdate\u001b[0m\u001b[0;34m(\u001b[0m\u001b[0;34m{\u001b[0m\u001b[0mk\u001b[0m\u001b[0;34m:\u001b[0m \u001b[0marg\u001b[0m \u001b[0;32mfor\u001b[0m \u001b[0mk\u001b[0m\u001b[0;34m,\u001b[0m \u001b[0marg\u001b[0m \u001b[0;32min\u001b[0m \u001b[0mzip\u001b[0m\u001b[0;34m(\u001b[0m\u001b[0msig\u001b[0m\u001b[0;34m.\u001b[0m\u001b[0mparameters\u001b[0m\u001b[0;34m,\u001b[0m \u001b[0margs\u001b[0m\u001b[0;34m)\u001b[0m\u001b[0;34m}\u001b[0m\u001b[0;34m)\u001b[0m\u001b[0;34m\u001b[0m\u001b[0;34m\u001b[0m\u001b[0m\n\u001b[0;32m---> 72\u001b[0;31m         \u001b[0;32mreturn\u001b[0m \u001b[0mf\u001b[0m\u001b[0;34m(\u001b[0m\u001b[0;34m**\u001b[0m\u001b[0mkwargs\u001b[0m\u001b[0;34m)\u001b[0m\u001b[0;34m\u001b[0m\u001b[0;34m\u001b[0m\u001b[0m\n\u001b[0m\u001b[1;32m     73\u001b[0m     \u001b[0;32mreturn\u001b[0m \u001b[0minner_f\u001b[0m\u001b[0;34m\u001b[0m\u001b[0;34m\u001b[0m\u001b[0m\n\u001b[1;32m     74\u001b[0m \u001b[0;34m\u001b[0m\u001b[0m\n",
      "\u001b[0;32m/opt/conda/lib/python3.7/site-packages/sklearn/metrics/_ranking.py\u001b[0m in \u001b[0;36mdcg_score\u001b[0;34m(y_true, y_score, k, log_base, sample_weight, ignore_ties)\u001b[0m\n\u001b[1;32m   1274\u001b[0m     \u001b[0my_score\u001b[0m \u001b[0;34m=\u001b[0m \u001b[0mcheck_array\u001b[0m\u001b[0;34m(\u001b[0m\u001b[0my_score\u001b[0m\u001b[0;34m,\u001b[0m \u001b[0mensure_2d\u001b[0m\u001b[0;34m=\u001b[0m\u001b[0;32mFalse\u001b[0m\u001b[0;34m)\u001b[0m\u001b[0;34m\u001b[0m\u001b[0;34m\u001b[0m\u001b[0m\n\u001b[1;32m   1275\u001b[0m     \u001b[0mcheck_consistent_length\u001b[0m\u001b[0;34m(\u001b[0m\u001b[0my_true\u001b[0m\u001b[0;34m,\u001b[0m \u001b[0my_score\u001b[0m\u001b[0;34m,\u001b[0m \u001b[0msample_weight\u001b[0m\u001b[0;34m)\u001b[0m\u001b[0;34m\u001b[0m\u001b[0;34m\u001b[0m\u001b[0m\n\u001b[0;32m-> 1276\u001b[0;31m     \u001b[0m_check_dcg_target_type\u001b[0m\u001b[0;34m(\u001b[0m\u001b[0my_true\u001b[0m\u001b[0;34m)\u001b[0m\u001b[0;34m\u001b[0m\u001b[0;34m\u001b[0m\u001b[0m\n\u001b[0m\u001b[1;32m   1277\u001b[0m     return np.average(\n\u001b[1;32m   1278\u001b[0m         _dcg_sample_scores(\n",
      "\u001b[0;32m/opt/conda/lib/python3.7/site-packages/sklearn/metrics/_ranking.py\u001b[0m in \u001b[0;36m_check_dcg_target_type\u001b[0;34m(y_true)\u001b[0m\n\u001b[1;32m   1172\u001b[0m         raise ValueError(\n\u001b[1;32m   1173\u001b[0m             \"Only {} formats are supported. Got {} instead\".format(\n\u001b[0;32m-> 1174\u001b[0;31m                 supported_fmt, y_type))\n\u001b[0m\u001b[1;32m   1175\u001b[0m \u001b[0;34m\u001b[0m\u001b[0m\n\u001b[1;32m   1176\u001b[0m \u001b[0;34m\u001b[0m\u001b[0m\n",
      "\u001b[0;31mValueError\u001b[0m: Only ('multilabel-indicator', 'continuous-multioutput', 'multiclass-multioutput') formats are supported. Got binary instead"
     ]
    }
   ],
   "source": [
    "from sklearn.metrics import dcg_score\n",
    "# we have groud-truth relevance of some answers to a query:\n",
    "true_relevance = np.asarray([[10, 0, 0, 1, 5]])\n",
    "# we predict scores for the answers\n",
    "scores = np.asarray([[.1, .2, .3, 4, 70]])\n",
    "dcg_score(y_test, y_pred)\n",
    "\n",
    "# we can set k to truncate the sum; only top k answers contribute\n",
    "dcg_score(true_relevance, scores, k=2)\n",
    "\n",
    "# now we have some ties in our prediction\n",
    "scores = np.asarray([[1, 0, 0, 0, 1]])\n",
    "# by default ties are averaged, so here we get the average true\n",
    "# relevance of our top predictions: (10 + 5) / 2 = 7.5\n",
    "dcg_score(true_relevance, scores, k=1)\n",
    "\n",
    "# we can choose to ignore ties for faster results, but only\n",
    "# if we know there aren't ties in our scores, otherwise we get\n",
    "# wrong results:\n",
    "dcg_score(true_relevance,\n",
    "          scores, k=1, ignore_ties=True)\n"
   ]
  },
  {
   "cell_type": "code",
   "execution_count": null,
   "metadata": {},
   "outputs": [],
   "source": []
  }
 ],
 "metadata": {
  "environment": {
   "name": "common-cpu.m56",
   "type": "gcloud",
   "uri": "gcr.io/deeplearning-platform-release/base-cpu:m56"
  },
  "kernelspec": {
   "display_name": "Python 3",
   "language": "python",
   "name": "python3"
  },
  "language_info": {
   "codemirror_mode": {
    "name": "ipython",
    "version": 3
   },
   "file_extension": ".py",
   "mimetype": "text/x-python",
   "name": "python",
   "nbconvert_exporter": "python",
   "pygments_lexer": "ipython3",
   "version": "3.7.8"
  }
 },
 "nbformat": 4,
 "nbformat_minor": 4
}
